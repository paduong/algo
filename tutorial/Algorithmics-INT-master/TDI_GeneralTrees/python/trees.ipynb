{
 "cells": [
  {
   "cell_type": "markdown",
   "metadata": {},
   "source": [
    "# Arbres généraux\n",
    "\n",
    "Il y a deux implémentations usuelles des arbres généraux : ou bien comme une liste de noeuds chacun contenant sa liste de fils ou à l'aide de la représentation par arbres binaires. Dans cette dernière les deux fils d'un noeud de l'arbre binaire sont respectivement le premier fils et frère droit. Dans la suite on donne deux implémentations qui suivent ces schémas sous Python.\n",
    "\n",
    "Afin de nous permettre de visualiser les arbres avec lesquels on travaille on utilise un petit module dont les seuls fonctions utiles seront <tt>draw(tree)</tt> et <tt>bdraw(tree)</tt> chacune à utiliser respectivement avec les implémentations en \"graphe\" et en \"arbre binaire\"."
   ]
  },
  {
   "cell_type": "code",
   "execution_count": 1,
   "metadata": {
    "collapsed": true
   },
   "outputs": [],
   "source": [
    "from algopy import tree\n",
    "from algopy import treeasbin\n",
    "\n",
    "from algopy.tree import Tree\n",
    "from algopy.treeasbin import TreeAsBin"
   ]
  },
  {
   "cell_type": "raw",
   "metadata": {},
   "source": [
    "class Tree:\n",
    "    \"\"\"Simple class for general tree.\n",
    "\n",
    "    Attributes:\n",
    "        key (Any): Node key.\n",
    "        children (List[Tree]): Node children.\n",
    "\n",
    "    \"\"\"\n",
    "\n",
    "    def __init__(self, key=None, children=None):\n",
    "        \"\"\"Init general tree, ensure children are properly set.\n",
    "\n",
    "        Args:\n",
    "            key (Any).\n",
    "            children (List[Tree]).\n",
    "\n",
    "        \"\"\"\n",
    "\n",
    "        self.key = key\n",
    "\n",
    "        if children is None:\n",
    "            self.children = []\n",
    "        else:\n",
    "            self.children = children\n",
    "\n",
    "    @property\n",
    "    def nbchildren(self):\n",
    "        \"\"\"Number of children of node.\"\"\"\n",
    "\n",
    "        return len(self.children)\n"
   ]
  },
  {
   "cell_type": "markdown",
   "metadata": {},
   "source": [
    "## Implémentation : variante \"graphe\""
   ]
  },
  {
   "cell_type": "code",
   "execution_count": 2,
   "metadata": {
    "collapsed": true
   },
   "outputs": [],
   "source": [
    "def tutoEx1():\n",
    "    C1 = Tree(3, [Tree(-6), Tree(10)])\n",
    "    C2 = Tree(8, [Tree(11, [Tree(0), Tree(4)]), Tree(2), Tree(5)])\n",
    "    C3 = Tree(9)\n",
    "    return Tree(15, [C1, C2, C3])"
   ]
  },
  {
   "cell_type": "code",
   "execution_count": 3,
   "metadata": {
    "collapsed": true
   },
   "outputs": [],
   "source": [
    "L = tutoEx1()"
   ]
  },
  {
   "cell_type": "markdown",
   "metadata": {},
   "source": [
    "## Implémentation : variante arbre binaire"
   ]
  },
  {
   "cell_type": "raw",
   "metadata": {
    "collapsed": true
   },
   "source": [
    "class TreeAsBin:\n",
    "    \"\"\"Simple class for (General) trees as binary \n",
    "    \n",
    "    Trees are represented as Binary Trees (first child - right sibling)\n",
    "    \n",
    "    \"\"\"\n",
    "\n",
    "    def __init__(self, key, child=None, sibling=None):\n",
    "        \"\"\"\n",
    "        Init Tree\n",
    "        \"\"\"\n",
    "        self.key = key\n",
    "        self.child = child\n",
    "        self.sibling = sibling"
   ]
  },
  {
   "cell_type": "code",
   "execution_count": 4,
   "metadata": {
    "collapsed": true
   },
   "outputs": [],
   "source": [
    "def tutoEx1():\n",
    "    C1 = TreeAsBin(3, TreeAsBin(-6, None, TreeAsBin(10)))\n",
    "    C2 = TreeAsBin(8, TreeAsBin(11, TreeAsBin(0, None, TreeAsBin(4)), \n",
    "                                TreeAsBin(2, None, TreeAsBin(5))))\n",
    "    C3 = TreeAsBin(9)\n",
    "    C1.sibling = C2\n",
    "    C2.sibling = C3\n",
    "    return TreeAsBin(15, C1, None)"
   ]
  },
  {
   "cell_type": "code",
   "execution_count": 5,
   "metadata": {
    "collapsed": true
   },
   "outputs": [],
   "source": [
    "LTAB = tutoEx1()"
   ]
  },
  {
   "cell_type": "markdown",
   "metadata": {
    "collapsed": true
   },
   "source": [
    "# 1. Mesures"
   ]
  },
  {
   "cell_type": "markdown",
   "metadata": {},
   "source": [
    "## 1.1 Taille"
   ]
  },
  {
   "cell_type": "markdown",
   "metadata": {},
   "source": [
    "### <b> <font color = blue> Qu'est-ce que la taille d'un arbre ? </font> </b>"
   ]
  },
  {
   "cell_type": "markdown",
   "metadata": {},
   "source": [
    "Le nombre de noeuds de celui-ci"
   ]
  },
  {
   "cell_type": "markdown",
   "metadata": {},
   "source": [
    "### <b> <font color = blue> Calculer la taille </font> </b>\n",
    "\n",
    "#### Implémentation : variante \"graphe\""
   ]
  },
  {
   "cell_type": "code",
   "execution_count": 6,
   "metadata": {
    "collapsed": true
   },
   "outputs": [],
   "source": [
    "def size (T):\n",
    "    n = 1\n",
    "    for i in range(T.nbchildren):\n",
    "        n += size(T.children[i])\n",
    "    return n\n",
    "\n",
    "def size_bis(T):\n",
    "    n = 1\n",
    "    for child in T.children:\n",
    "        n += size(child)\n",
    "    return n"
   ]
  },
  {
   "cell_type": "code",
   "execution_count": 7,
   "metadata": {},
   "outputs": [
    {
     "data": {
      "text/plain": [
       "11"
      ]
     },
     "execution_count": 7,
     "metadata": {},
     "output_type": "execute_result"
    }
   ],
   "source": [
    "size(L)"
   ]
  },
  {
   "cell_type": "markdown",
   "metadata": {},
   "source": [
    "#### Implémentation : variante \"arbre binaire\""
   ]
  },
  {
   "cell_type": "code",
   "execution_count": 8,
   "metadata": {
    "collapsed": true
   },
   "outputs": [],
   "source": [
    "def size_asbin (T):\n",
    "    if not T:\n",
    "        return 0\n",
    "    else:\n",
    "        return 1 + size_asbin(T.child) + size_asbin(T.sibling)"
   ]
  },
  {
   "cell_type": "code",
   "execution_count": 9,
   "metadata": {},
   "outputs": [
    {
     "data": {
      "text/plain": [
       "11"
      ]
     },
     "execution_count": 9,
     "metadata": {},
     "output_type": "execute_result"
    }
   ],
   "source": [
    "size_asbin(LTAB)"
   ]
  },
  {
   "cell_type": "code",
   "execution_count": 10,
   "metadata": {
    "collapsed": true
   },
   "outputs": [],
   "source": [
    "def size_asbin(T):\n",
    "    n = 1\n",
    "    C = T.child\n",
    "    while C:\n",
    "        n += size_asbin(C)\n",
    "        C = C.sibling\n",
    "    return n"
   ]
  },
  {
   "cell_type": "code",
   "execution_count": 11,
   "metadata": {},
   "outputs": [
    {
     "data": {
      "text/plain": [
       "11"
      ]
     },
     "execution_count": 11,
     "metadata": {},
     "output_type": "execute_result"
    }
   ],
   "source": [
    "size_asbin(LTAB)"
   ]
  },
  {
   "cell_type": "markdown",
   "metadata": {},
   "source": [
    "## 1.2 Hauteur"
   ]
  },
  {
   "cell_type": "markdown",
   "metadata": {},
   "source": [
    "### <b> <font color = blue> Qu'est-ce que la hauteur d'un arbre ? </font> </b>"
   ]
  },
  {
   "cell_type": "markdown",
   "metadata": {},
   "source": [
    "C'est le maximum des profondeurs des noeuds de l'arbre."
   ]
  },
  {
   "cell_type": "markdown",
   "metadata": {},
   "source": [
    "### <b> <font color = blue> Calculer la hauteur d'un arbre </font> </b>\n",
    "\n",
    "#### Implémentation : variante \"graphe\""
   ]
  },
  {
   "cell_type": "code",
   "execution_count": 12,
   "metadata": {
    "collapsed": true
   },
   "outputs": [],
   "source": [
    "def height (T):\n",
    "    h = 0\n",
    "    for i in range(T.nbchildren):\n",
    "        h = max(h, 1 + height(T.children[i]))\n",
    "    return h"
   ]
  },
  {
   "cell_type": "code",
   "execution_count": 13,
   "metadata": {},
   "outputs": [
    {
     "data": {
      "text/plain": [
       "3"
      ]
     },
     "execution_count": 13,
     "metadata": {},
     "output_type": "execute_result"
    }
   ],
   "source": [
    "height(L)"
   ]
  },
  {
   "cell_type": "code",
   "execution_count": 14,
   "metadata": {
    "collapsed": true
   },
   "outputs": [],
   "source": [
    "def height_aeviter(T):\n",
    "    children = T.children\n",
    "    if not children:\n",
    "        return 0\n",
    "    return 1 + max([height_aeviter(child) for child in children])"
   ]
  },
  {
   "cell_type": "code",
   "execution_count": 15,
   "metadata": {},
   "outputs": [
    {
     "data": {
      "text/plain": [
       "3"
      ]
     },
     "execution_count": 15,
     "metadata": {},
     "output_type": "execute_result"
    }
   ],
   "source": [
    "height_aeviter(L)"
   ]
  },
  {
   "cell_type": "markdown",
   "metadata": {},
   "source": [
    "#### Implémentation : variante \"arbre binaire\""
   ]
  },
  {
   "cell_type": "code",
   "execution_count": 16,
   "metadata": {
    "collapsed": true
   },
   "outputs": [],
   "source": [
    "def height_asbin (T):\n",
    "    h = 0\n",
    "    C = T.child\n",
    "    while C:\n",
    "        h = max(h, 1 + height_asbin(C))\n",
    "        C = C.sibling\n",
    "    return h"
   ]
  },
  {
   "cell_type": "code",
   "execution_count": 17,
   "metadata": {},
   "outputs": [
    {
     "data": {
      "text/plain": [
       "3"
      ]
     },
     "execution_count": 17,
     "metadata": {},
     "output_type": "execute_result"
    }
   ],
   "source": [
    "height_asbin(LTAB)"
   ]
  },
  {
   "cell_type": "markdown",
   "metadata": {},
   "source": [
    "## 1.3 Longueur de cheminement externe"
   ]
  },
  {
   "cell_type": "markdown",
   "metadata": {},
   "source": [
    "### <b> <font color = blue> Quésaco ? </font> </b>"
   ]
  },
  {
   "cell_type": "markdown",
   "metadata": {},
   "source": [
    "La somme des profondeurs des feuilles."
   ]
  },
  {
   "cell_type": "markdown",
   "metadata": {},
   "source": [
    "### <b> <font color = blue> La calculer </font> </b>\n",
    "\n",
    "#### Implémentation : variante \"graphe\""
   ]
  },
  {
   "cell_type": "code",
   "execution_count": 18,
   "metadata": {
    "collapsed": true
   },
   "outputs": [],
   "source": [
    "def epl(T, h=0):\n",
    "    if not T.children:\n",
    "        return h\n",
    "    else:\n",
    "        summ = 0\n",
    "        for child in T.children:\n",
    "            summ += epl(child, h+1)\n",
    "        return summ"
   ]
  },
  {
   "cell_type": "code",
   "execution_count": 19,
   "metadata": {},
   "outputs": [
    {
     "data": {
      "text/plain": [
       "15"
      ]
     },
     "execution_count": 19,
     "metadata": {},
     "output_type": "execute_result"
    }
   ],
   "source": [
    "epl(L)"
   ]
  },
  {
   "cell_type": "markdown",
   "metadata": {},
   "source": [
    "#### Implémentation : variante \"arbre binaire\""
   ]
  },
  {
   "cell_type": "code",
   "execution_count": 20,
   "metadata": {
    "collapsed": true
   },
   "outputs": [],
   "source": [
    "def epl_asbin(T, h=0):\n",
    "    if not T.child:\n",
    "        return h\n",
    "    else:\n",
    "        summ = 0\n",
    "        C = T.child\n",
    "        while C:\n",
    "            summ += epl_asbin(C, h+1)\n",
    "            C = C.sibling\n",
    "        return summ\n",
    "        "
   ]
  },
  {
   "cell_type": "code",
   "execution_count": 21,
   "metadata": {},
   "outputs": [
    {
     "data": {
      "text/plain": [
       "15"
      ]
     },
     "execution_count": 21,
     "metadata": {},
     "output_type": "execute_result"
    }
   ],
   "source": [
    "epl_asbin(LTAB)"
   ]
  },
  {
   "cell_type": "markdown",
   "metadata": {},
   "source": [
    "# 2. Parcours\n",
    "\n",
    "## 2.1 Parcours en profondeur\n",
    "\n",
    "### <b> <font color = blue> Quel en est le principe ? </font> </b>"
   ]
  },
  {
   "cell_type": "markdown",
   "metadata": {},
   "source": []
  },
  {
   "cell_type": "markdown",
   "metadata": {},
   "source": [
    "### <b> <font color = blue> Lister les éléments rencontrés dans les ordres préfixe et suffixe dans le cas de notre graphe témoin. </font> </b>"
   ]
  },
  {
   "cell_type": "markdown",
   "metadata": {},
   "source": [
    "#### ordre préfixe"
   ]
  },
  {
   "cell_type": "markdown",
   "metadata": {},
   "source": [
    "15 3 -6 10 8 11 0 4 2 5 9"
   ]
  },
  {
   "cell_type": "markdown",
   "metadata": {},
   "source": [
    "#### ordre suffixe"
   ]
  },
  {
   "cell_type": "markdown",
   "metadata": {},
   "source": [
    "-6 10 3 0 4 11 2 5 8 9 15"
   ]
  },
  {
   "cell_type": "markdown",
   "metadata": {},
   "source": [
    "### <b> <font color = blue> Quels autres traitements peut-on faire ? </font> </b>"
   ]
  },
  {
   "cell_type": "markdown",
   "metadata": {},
   "source": [
    "Les traitements intermédiaires on en a autant que de fils moins un."
   ]
  },
  {
   "cell_type": "markdown",
   "metadata": {},
   "source": [
    "### <b> <font color = blue> Écrire les parcours en profondeur </font> </b>\n",
    "\n",
    "#### Implémentation : variante \"graphe\""
   ]
  },
  {
   "cell_type": "code",
   "execution_count": 22,
   "metadata": {
    "collapsed": true
   },
   "outputs": [],
   "source": [
    "def depth(T):\n",
    "    \n",
    "    #traitements préfixes\n",
    "    #print(\"Préfixe : {}\".format(T.key))\n",
    "    \n",
    "    if T.children:\n",
    "    \n",
    "        for i in range(T.nbchildren-1):\n",
    "            depth(T.children[i])\n",
    "            print(\"Intermédiaires : {}\".format(T.key))\n",
    "    \n",
    "        depth(T.children[T.nbchildren-1])\n",
    "    else:\n",
    "        pass\n",
    "        #traitements feuilles\n",
    "        #print(\"Feuilles : {}\".format(T.key))\n",
    "    \n",
    "    #traitements suffixes \n",
    "    #print(\"Suffixe : {}\".format(T.key))"
   ]
  },
  {
   "cell_type": "code",
   "execution_count": 23,
   "metadata": {
    "collapsed": true
   },
   "outputs": [],
   "source": [
    "for i in range(-1):\n",
    "    print(i)"
   ]
  },
  {
   "cell_type": "code",
   "execution_count": 24,
   "metadata": {},
   "outputs": [
    {
     "name": "stdout",
     "output_type": "stream",
     "text": [
      "Intermédiaires : 3\n",
      "Intermédiaires : 15\n",
      "Intermédiaires : 11\n",
      "Intermédiaires : 8\n",
      "Intermédiaires : 8\n",
      "Intermédiaires : 15\n"
     ]
    }
   ],
   "source": [
    "depth(L)"
   ]
  },
  {
   "cell_type": "markdown",
   "metadata": {},
   "source": [
    "#### Implémentation : variante \"arbre binaire\""
   ]
  },
  {
   "cell_type": "code",
   "execution_count": 25,
   "metadata": {
    "collapsed": true
   },
   "outputs": [],
   "source": [
    "def depth_asbin (T):\n",
    "    #traitements préfixes\n",
    "    #print(\"Préfixe : {}\".format(T.key))\n",
    "    \n",
    "    C = T.child\n",
    "    if C:\n",
    "        while C.sibling:\n",
    "            depth_asbin(C)\n",
    "            #traitements intermediaires\n",
    "            print(\"Intermédiaires : {}\".format(T.key))\n",
    "            C = C.sibling\n",
    "    else:\n",
    "        pass\n",
    "        #traitements feuilles\n",
    "        #print(\"Feuilles : {}\".format(T.key))\n",
    "        \n",
    "    #traitements suffixes\n",
    "    #print(\"Suffixes : {}\".format(T.key))\n",
    "    "
   ]
  },
  {
   "cell_type": "code",
   "execution_count": 26,
   "metadata": {},
   "outputs": [
    {
     "name": "stdout",
     "output_type": "stream",
     "text": [
      "Intermédiaires : 3\n",
      "Intermédiaires : 15\n",
      "Intermédiaires : 11\n",
      "Intermédiaires : 8\n",
      "Intermédiaires : 8\n",
      "Intermédiaires : 15\n"
     ]
    }
   ],
   "source": [
    "depth_asbin(LTAB)"
   ]
  },
  {
   "cell_type": "code",
   "execution_count": 27,
   "metadata": {
    "collapsed": true
   },
   "outputs": [],
   "source": [
    "def depth_asbin_areflechir (T):\n",
    "    #traitements préfixes\n",
    "    #print(\"Préfixe : {}\".format(T.key))\n",
    "    \n",
    "    C = T.child\n",
    "    while C:\n",
    "        depth_asbin_areflechir(C)\n",
    "        C = C.sibling    \n",
    "        if C:\n",
    "            #traitements intermediaires\n",
    "            print(\"Intermédiaires : {}\".format(T.key))\n",
    " \n",
    "    #traitements suffixes\n",
    "    #print(\"Suffixes : {}\".format(T.key))\n",
    "    "
   ]
  },
  {
   "cell_type": "code",
   "execution_count": 28,
   "metadata": {},
   "outputs": [
    {
     "name": "stdout",
     "output_type": "stream",
     "text": [
      "Intermédiaires : 3\n",
      "Intermédiaires : 15\n",
      "Intermédiaires : 11\n",
      "Intermédiaires : 8\n",
      "Intermédiaires : 8\n",
      "Intermédiaires : 15\n"
     ]
    }
   ],
   "source": [
    "depth_asbin_areflechir(LTAB)"
   ]
  },
  {
   "cell_type": "markdown",
   "metadata": {},
   "source": [
    "## 2.2 Parcours en largeur\n",
    "\n",
    "### <b> <font color = blue> Quel en est le principe ? </font> </b>"
   ]
  },
  {
   "cell_type": "markdown",
   "metadata": {},
   "source": [
    "On parcours les noeuds de l'arbre par niveau, de gauche à droite. Ce parcours ne suit pas la structure récursive de l'arbre, on doit pour l'effectuer stocker dans une file les fils d'un noeuds donné afin de les traiter dans l'ordre souhaité. Voici ce déroulement: on stock la racine dans une file qu'on défile pour traiter la racine puis on y ajoute sa liste de fils, on effectué cette même opération sur les fils jusqu'à vider la file.  "
   ]
  },
  {
   "cell_type": "markdown",
   "metadata": {},
   "source": [
    "### <b> <font color = blue> Comment repérer les changements de niveau ? </font> </b>"
   ]
  },
  {
   "cell_type": "markdown",
   "metadata": {},
   "source": [
    "On ajoute un marqueur pour la fin de niveau. Par exemple un None après la racine, puis chaque fois qu'on retrouve un None on effectue le traitement de fin de niveau et on enfile un nouveau None. L'arrivée à un None signifie qu'on a traité tous les noeuds d'un même niveau et ajouté leurs fils à la file, il n'y a plus de noeuds dans celui-ci, on marque donc la fin de niveau. "
   ]
  },
  {
   "cell_type": "markdown",
   "metadata": {},
   "source": [
    "### Le module queue\n",
    "\n",
    "\n",
    "Afin de pouvoir être au plus près du type abstrait file, nous mettons à disposition l'interfacage suivant du module deque disponibile sous python."
   ]
  },
  {
   "cell_type": "raw",
   "metadata": {},
   "source": [
    "# -*- coding: utf-8 -*-\n",
    "\"\"\"Queue module.\"\"\"\n",
    "\n",
    "from collections import deque\n",
    "\n",
    "class Queue:\n",
    "    \"\"\"Simple class for FIFO (first-in-first-out) container.\"\"\"\n",
    "\n",
    "    def __init__(self):\n",
    "        \"\"\"Init queue.\"\"\"\n",
    "\n",
    "        self.elements = deque()\n",
    "\n",
    "    def enqueue(self, elt):\n",
    "        \"\"\"Add an element to the queue.\n",
    "\n",
    "        Args:\n",
    "            elt (Any): Element to enqueue.\n",
    "\n",
    "        Returns:\n",
    "            Queue: The updated queue.\n",
    "\n",
    "        \"\"\"\n",
    "\n",
    "        self.elements.append(elt)\n",
    "        return self\n",
    "\n",
    "    def dequeue(self):\n",
    "        \"\"\"Remove and return next element from the queue.\n",
    "\n",
    "        Returns:\n",
    "            Any: Element from the queue.\n",
    "\n",
    "        Raises:\n",
    "            IndexError: If queue is empty.\n",
    "\n",
    "        \"\"\"\n",
    "\n",
    "        return self.elements.popleft()\n",
    "\n",
    "    def isempty(self):\n",
    "        \"\"\"Check whether queue is empty.\n",
    "\n",
    "        Returns:\n",
    "            bool: True if queue is empty, False otherwise.\n",
    "\n",
    "        \"\"\"\n",
    "\n",
    "        return len(self.elements) == 0\n"
   ]
  },
  {
   "cell_type": "code",
   "execution_count": 29,
   "metadata": {
    "collapsed": true
   },
   "outputs": [],
   "source": [
    "from algopy import queue\n",
    "from algopy.queue import Queue"
   ]
  },
  {
   "cell_type": "markdown",
   "metadata": {},
   "source": [
    "Here is an example of how they can be used."
   ]
  },
  {
   "cell_type": "code",
   "execution_count": 30,
   "metadata": {},
   "outputs": [
    {
     "data": {
      "text/plain": [
       "<algopy.queue.Queue at 0x7f6213fe7e48>"
      ]
     },
     "execution_count": 30,
     "metadata": {},
     "output_type": "execute_result"
    }
   ],
   "source": [
    "q = Queue()\n",
    "\n",
    "q"
   ]
  },
  {
   "cell_type": "code",
   "execution_count": 31,
   "metadata": {
    "collapsed": true
   },
   "outputs": [],
   "source": [
    "for i in range(10):\n",
    "    q.enqueue(i)"
   ]
  },
  {
   "cell_type": "code",
   "execution_count": 32,
   "metadata": {},
   "outputs": [
    {
     "data": {
      "text/plain": [
       "0"
      ]
     },
     "execution_count": 32,
     "metadata": {},
     "output_type": "execute_result"
    }
   ],
   "source": [
    "q.dequeue()"
   ]
  },
  {
   "cell_type": "code",
   "execution_count": 33,
   "metadata": {},
   "outputs": [
    {
     "data": {
      "text/plain": [
       "False"
      ]
     },
     "execution_count": 33,
     "metadata": {},
     "output_type": "execute_result"
    }
   ],
   "source": [
    "q.isempty()"
   ]
  },
  {
   "cell_type": "markdown",
   "metadata": {},
   "source": [
    "### <b> <font color = blue> Écrire un algorithme qui affiche les clés d'un arbre général niveau par niveau, un niveau par lignes ? </font> </b>\n",
    "\n",
    "#### Implémentation : variante \"graphe\""
   ]
  },
  {
   "cell_type": "code",
   "execution_count": 34,
   "metadata": {
    "collapsed": true
   },
   "outputs": [],
   "source": [
    "def breadthlevels(T):\n",
    "    q1 = Queue()\n",
    "    q2 = Queue()\n",
    "    \n",
    "    q1.enqueue(T)\n",
    "    \n",
    "    while not q1.isempty():\n",
    "        T = q1.dequeue()\n",
    "        \n",
    "        print(T.key, end=\" \")\n",
    "        \n",
    "        for t in T.children:\n",
    "            q2.enqueue(t)\n",
    "            \n",
    "        if q1.isempty():\n",
    "            (q1, q2) = (q2, q1)\n",
    "            print()\n",
    "    print(\"Bye\")"
   ]
  },
  {
   "cell_type": "code",
   "execution_count": 35,
   "metadata": {},
   "outputs": [
    {
     "name": "stdout",
     "output_type": "stream",
     "text": [
      "15 \n",
      "3 8 9 \n",
      "-6 10 11 2 5 \n",
      "0 4 \n",
      "Bye\n"
     ]
    }
   ],
   "source": [
    "breadthlevels(L)"
   ]
  },
  {
   "cell_type": "markdown",
   "metadata": {},
   "source": [
    "#### Implémentation : varainte \"arbre binaire\""
   ]
  },
  {
   "cell_type": "code",
   "execution_count": 36,
   "metadata": {
    "collapsed": true
   },
   "outputs": [],
   "source": [
    "def breadth_asbin(B):\n",
    "    q_sib = Queue()\n",
    "    q_child = Queue()\n",
    "    q_sib.enqueue(B)\n",
    "    while not q_sib.isempty():\n",
    "        C = q_sib.dequeue()\n",
    "        print(C.key, end=\" \")\n",
    "        if (C.child):\n",
    "            q_child.enqueue(C.child)\n",
    "        if (C.sibling):\n",
    "            q_sib.enqueue(C.sibling)\n",
    "        else:\n",
    "            (q_sib, q_child) = (q_child, q_sib)\n",
    "            print()\n",
    "\n",
    "        "
   ]
  },
  {
   "cell_type": "code",
   "execution_count": 37,
   "metadata": {},
   "outputs": [
    {
     "name": "stdout",
     "output_type": "stream",
     "text": [
      "15 \n",
      "3 8 9 \n",
      "-6 11 10 \n",
      "0 4 \n",
      "2 5 \n"
     ]
    }
   ],
   "source": [
    "breadth_asbin(LTAB)"
   ]
  },
  {
   "cell_type": "code",
   "execution_count": 38,
   "metadata": {
    "collapsed": true
   },
   "outputs": [],
   "source": [
    "def breadth_asbin(B):\n",
    "    q1 = Queue()\n",
    "    q2 = Queue()\n",
    "    q1.enqueue(B)\n",
    "    while not q1.isempty():\n",
    "        B = q1.dequeue()\n",
    "        print(B.key, end=\" \")\n",
    "        C = B.child\n",
    "        while C:\n",
    "            q2.enqueue(C)\n",
    "            C = C.sibling\n",
    "        if q1.isempty():\n",
    "            (q1, q2) = (q2, q1)\n",
    "            print()\n"
   ]
  },
  {
   "cell_type": "code",
   "execution_count": 39,
   "metadata": {},
   "outputs": [
    {
     "name": "stdout",
     "output_type": "stream",
     "text": [
      "15 \n",
      "3 8 9 \n",
      "-6 10 11 2 5 \n",
      "0 4 \n"
     ]
    }
   ],
   "source": [
    "breadth_asbin(LTAB)"
   ]
  },
  {
   "cell_type": "markdown",
   "metadata": {},
   "source": [
    "# Applications\n",
    "\n",
    "## Exercice 3.1 \n",
    "\n",
    "Écrire une fonction `same` qui vérifie si deux arbres généraux, l'un implémenté en représentation en $n$-uplet et l'autre en premier fils-frère droit."
   ]
  },
  {
   "cell_type": "code",
   "execution_count": 40,
   "metadata": {
    "collapsed": true
   },
   "outputs": [],
   "source": [
    "def same(T, B):\n",
    "    if (not B) or T.key != B.key:\n",
    "        return False\n",
    "    res, i = True, 0\n",
    "    C = B.child\n",
    "    while i < T.nbchildren and res:\n",
    "        res = same(T.children[i], C)\n",
    "        C = C.sibling\n",
    "        i += 1\n",
    "    return res and not(C)"
   ]
  },
  {
   "cell_type": "markdown",
   "metadata": {},
   "source": [
    "## Exercice 3.2\n",
    "\n",
    "Calculer l'arité moyenne d'un arbre général."
   ]
  },
  {
   "cell_type": "code",
   "execution_count": 41,
   "metadata": {
    "collapsed": true
   },
   "outputs": [],
   "source": [
    "def _arite(T):\n",
    "    t, i = 1, 0 + (T.nbchildren > 0)\n",
    "    for c in T.children:\n",
    "        r0, r1 = _arite(c)\n",
    "        t, i = t + r0, i + r1\n",
    "    return t, i\n",
    "\n",
    "def arite(T):\n",
    "    t, i = _arite(T)\n",
    "    \n",
    "    if i == 0:\n",
    "        return 0\n",
    "    \n",
    "    return (t-1) / i"
   ]
  },
  {
   "cell_type": "code",
   "execution_count": 42,
   "metadata": {},
   "outputs": [
    {
     "data": {
      "text/plain": [
       "2.5"
      ]
     },
     "execution_count": 42,
     "metadata": {},
     "output_type": "execute_result"
    }
   ],
   "source": [
    "arite(L)"
   ]
  },
  {
   "cell_type": "code",
   "execution_count": 43,
   "metadata": {},
   "outputs": [
    {
     "data": {
      "text/plain": [
       "2.75"
      ]
     },
     "execution_count": 43,
     "metadata": {},
     "output_type": "execute_result"
    }
   ],
   "source": [
    "11/4"
   ]
  },
  {
   "cell_type": "markdown",
   "metadata": {},
   "source": [
    "## Exercice 3.3\n",
    "\n",
    "C'est un exercice sur la sérialisation. On chercher à représenter un arbre à l'aide d'une liste. La racine est en case 0 et contient l'identifiant du père, ici -1. Puis tout autre noeud représenté par l'indice de la case i (son identifiant) contient l'identifiant de son père. "
   ]
  },
  {
   "cell_type": "markdown",
   "metadata": {},
   "source": [
    "### Implémentation : variante \"graphe\""
   ]
  },
  {
   "cell_type": "code",
   "execution_count": 44,
   "metadata": {
    "collapsed": true
   },
   "outputs": [],
   "source": [
    "def parent(T, P, l):\n",
    "    for child in T.children:\n",
    "        \n",
    "        slack = child.key - l + 1\n",
    "        for i in range(slack):\n",
    "            P.append(None)\n",
    "            l += 1\n",
    "        \n",
    "        P[child.key] = T.key\n",
    "        parent(child, P, l)\n",
    "    \n",
    "def build_parent(T):\n",
    "    P = [None]*(T.key + 1)\n",
    "    P[T.key] = -1\n",
    "    parent(T, P, T.key + 1)\n",
    "    return P"
   ]
  },
  {
   "cell_type": "code",
   "execution_count": 45,
   "metadata": {},
   "outputs": [
    {
     "data": {
      "text/plain": [
       "[11, None, 8, 15, 11, 8, None, None, 15, 15, 3, 8, None, None, None, -1]"
      ]
     },
     "execution_count": 45,
     "metadata": {},
     "output_type": "execute_result"
    }
   ],
   "source": [
    "build_parent(L)"
   ]
  },
  {
   "cell_type": "markdown",
   "metadata": {},
   "source": [
    "### Implémentation : variante arbre binaire"
   ]
  },
  {
   "cell_type": "code",
   "execution_count": 46,
   "metadata": {
    "collapsed": true
   },
   "outputs": [],
   "source": [
    "def tutoEx3():\n",
    "    D1 = TreeAsBin(10, None, TreeAsBin(11))\n",
    "    D2 = TreeAsBin(6, D1)\n",
    "    D3 = TreeAsBin(7, D2)\n",
    "    D4 = TreeAsBin(8, D3)\n",
    "       \n",
    "    G1 = TreeAsBin(3, None, TreeAsBin(4))\n",
    "    G2 = TreeAsBin(1, None, G1)\n",
    "    \n",
    "    A = TreeAsBin(2, TreeAsBin(0, None, G2), TreeAsBin(5, None, D4))\n",
    "    \n",
    "    return TreeAsBin(9, A, None)"
   ]
  },
  {
   "cell_type": "code",
   "execution_count": 47,
   "metadata": {
    "collapsed": true
   },
   "outputs": [],
   "source": [
    "L3TAB = tutoEx3()"
   ]
  },
  {
   "cell_type": "code",
   "execution_count": 48,
   "metadata": {
    "collapsed": true
   },
   "outputs": [],
   "source": [
    "def parent_asbin (T, P, l):\n",
    "    C = T.child\n",
    "    while C:\n",
    "        slack = C.key - l + 1\n",
    "        for i in range(slack): \n",
    "            P.append(None)\n",
    "            l += 1\n",
    "        P[C.key] = T.key\n",
    "        parent_asbin(C, P, l)\n",
    "        C = C.sibling\n",
    "    \n",
    "    \n",
    "def build_parent_asbin(T):\n",
    "    P = [None]*(T.key + 1)\n",
    "    P[T.key] = -1\n",
    "    parent_asbin(T, P, T.key + 1)\n",
    "    return P"
   ]
  },
  {
   "cell_type": "code",
   "execution_count": 49,
   "metadata": {},
   "outputs": [
    {
     "data": {
      "text/plain": [
       "[2, 2, 9, 2, 2, 9, 7, 8, 9, -1, 6, 6]"
      ]
     },
     "execution_count": 49,
     "metadata": {},
     "output_type": "execute_result"
    }
   ],
   "source": [
    "build_parent_asbin(L3TAB)"
   ]
  },
  {
   "cell_type": "markdown",
   "metadata": {},
   "source": [
    "## Exercice 3.4\n",
    "\n",
    "L'exercice porte sur la conversion de la représentation classique en machine vers la représentation binaire et vice-versa. \n",
    "\n",
    "### Implémentation cas binaire vers classique"
   ]
  },
  {
   "cell_type": "code",
   "execution_count": 50,
   "metadata": {
    "collapsed": true
   },
   "outputs": [],
   "source": [
    "def asbintotree(B):\n",
    "    T = Tree(B.key)    \n",
    "    C = B.child\n",
    "    while C:\n",
    "        T.children.append(asbintotree(C))\n",
    "        C = C.sibling\n",
    "    return T"
   ]
  },
  {
   "cell_type": "code",
   "execution_count": 51,
   "metadata": {},
   "outputs": [
    {
     "data": {
      "text/plain": [
       "True"
      ]
     },
     "execution_count": 51,
     "metadata": {},
     "output_type": "execute_result"
    }
   ],
   "source": [
    "same(asbintotree(LTAB), LTAB)"
   ]
  },
  {
   "cell_type": "markdown",
   "metadata": {},
   "source": [
    "### Implémentation classique vers binaire\n"
   ]
  },
  {
   "cell_type": "code",
   "execution_count": 52,
   "metadata": {
    "collapsed": true
   },
   "outputs": [],
   "source": [
    "def treetoasbin(T):\n",
    "    B = TreeAsBin(T.key)\n",
    "    if T.nbchildren:\n",
    "        B.child = treetoasbin(T.children[0])\n",
    "        C = B.child\n",
    "        for i in range(1, T.nbchildren):\n",
    "            C.sibling = treetoasbin(T.children[i])\n",
    "            C = C.sibling\n",
    "    return B"
   ]
  },
  {
   "cell_type": "code",
   "execution_count": 53,
   "metadata": {},
   "outputs": [
    {
     "data": {
      "text/plain": [
       "True"
      ]
     },
     "execution_count": 53,
     "metadata": {},
     "output_type": "execute_result"
    }
   ],
   "source": [
    "same(asbintotree(LTAB), treetoasbin(asbintotree(LTAB)))"
   ]
  },
  {
   "cell_type": "markdown",
   "metadata": {},
   "source": [
    "## Exercice 3.5"
   ]
  },
  {
   "cell_type": "markdown",
   "metadata": {
    "collapsed": true
   },
   "source": [
    "Voici la liste dans le cas de la figure 1.\n",
    "\n",
    "(15 (3 (-6) (10)) (8 (11 (0) (4)) (2) (5)) (9))\n",
    "\n",
    "### Implémentation variante \"graphe\""
   ]
  },
  {
   "cell_type": "code",
   "execution_count": 54,
   "metadata": {
    "collapsed": true
   },
   "outputs": [],
   "source": [
    "def rep_list (T):\n",
    "    s = \"(\"\n",
    "    s += str(T.key)\n",
    "    for child in T.children:\n",
    "         s += rep_list(child)\n",
    "            \n",
    "    return s + \")\""
   ]
  },
  {
   "cell_type": "code",
   "execution_count": 55,
   "metadata": {},
   "outputs": [
    {
     "data": {
      "text/plain": [
       "'(15(3(-6)(10))(8(11(0)(4))(2)(5))(9))'"
      ]
     },
     "execution_count": 55,
     "metadata": {},
     "output_type": "execute_result"
    }
   ],
   "source": [
    "rep_list(L)"
   ]
  },
  {
   "cell_type": "markdown",
   "metadata": {},
   "source": [
    "### Implémentation variante arbre binaire"
   ]
  },
  {
   "cell_type": "code",
   "execution_count": 56,
   "metadata": {
    "collapsed": true
   },
   "outputs": [],
   "source": [
    "def rep_list_asbin(T):\n",
    "    s = '('\n",
    "    s += str(T.key)\n",
    "    C = T.child\n",
    "    while C:\n",
    "        s += rep_list_asbin(C)\n",
    "        C = C.sibling\n",
    "    return s + ')'"
   ]
  },
  {
   "cell_type": "code",
   "execution_count": 57,
   "metadata": {},
   "outputs": [
    {
     "data": {
      "text/plain": [
       "'(15(3(-6)(10))(8(11(0)(4))(2)(5))(9))'"
      ]
     },
     "execution_count": 57,
     "metadata": {},
     "output_type": "execute_result"
    }
   ],
   "source": [
    "rep_list_asbin(LTAB)"
   ]
  },
  {
   "cell_type": "markdown",
   "metadata": {},
   "source": [
    "## Bonus"
   ]
  },
  {
   "cell_type": "code",
   "execution_count": 58,
   "metadata": {
    "collapsed": true
   },
   "outputs": [],
   "source": [
    "def __fromlist(s, i=0): \n",
    "    if i < len(s) and s[i] == '(':   # can this test be removed?\n",
    "        i = i + 1 # to pass the '('\n",
    "        T = Tree()\n",
    "        T.key = \"\"\n",
    "        while not (s[i] in \"()\"):\n",
    "            T.key = T.key + s[i]\n",
    "            i += 1\n",
    "        T.children = []\n",
    "        while s[i] != ')':\n",
    "            (C, i) = __fromlist(s, i)\n",
    "            T.children.append(C)\n",
    "        i = i + 1   # to pass the ')'\n",
    "        return (T, i)\n",
    "    else:\n",
    "        return None\n",
    "\n",
    "def fromlist(L):\n",
    "    (T, _) = __fromlist(L)"
   ]
  },
  {
   "cell_type": "code",
   "execution_count": 59,
   "metadata": {
    "collapsed": true
   },
   "outputs": [],
   "source": [
    "def fromlist_asbin(s, i=0): \n",
    "    if i < len(s) and s[i] == '(':   # can this test be removed?\n",
    "        i = i + 1 # to pass the '('\n",
    "        B = Tree(key = \"\") \n",
    "        while not (s[i] in \"()\"):\n",
    "            B.key = B.key + s[i]\n",
    "            i += 1\n",
    "        B.child = fromlist_asbin(s, i)\n",
    "        i = i + 1   # to pass the ')'\n",
    "        B.sibling = fromlis_asbin(s, i)\n",
    "        return B\n",
    "    else:\n",
    "        return None    "
   ]
  }
 ],
 "metadata": {
  "kernelspec": {
   "display_name": "Python 3",
   "language": "python",
   "name": "python3"
  },
  "language_info": {
   "codemirror_mode": {
    "name": "ipython",
    "version": 3
   },
   "file_extension": ".py",
   "mimetype": "text/x-python",
   "name": "python",
   "nbconvert_exporter": "python",
   "pygments_lexer": "ipython3",
   "version": "3.5.2"
  }
 },
 "nbformat": 4,
 "nbformat_minor": 1
}
