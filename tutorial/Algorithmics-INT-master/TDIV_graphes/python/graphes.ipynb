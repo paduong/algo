{
 "cells": [
  {
   "cell_type": "code",
   "execution_count": 1,
   "metadata": {
    "collapsed": true
   },
   "outputs": [],
   "source": [
    "from algopy import graph, graphmat\n",
    "from algopy.graphmat import GraphMat\n",
    "from algopy.graph import Graph\n"
   ]
  },
  {
   "cell_type": "markdown",
   "metadata": {},
   "source": [
    "# Graphes - Implémentations et parcours\n",
    "\n",
    "On va voir deux façons d'aborder l'implémentation des graphes: statiquement en utilisant la représentation matricielle ou dynamiquement (ou statico-dynamiquement) à l'aide des listes d'adjacences.\n",
    "\n",
    "## Exercice 1.1 : Implémentation matricielle\n",
    "\n",
    "Il s'agit de construire une matrice carrée de taille $|S|$ où $S$ est l'ensemble des sommets du graphes. En ligne $i$ et colonne $j$ on trouve $1$ si le graphe contient l'arcs $(i, j)$ et $0$ sinon. Dans le cas d'un graphe non-orienté la matrice obtenue est symétrique car si l'arcs $(i, j)$ appartient au graphe il en va de même de l'arcs $(i, j)$. \n",
    "\n",
    "Voici une manière d'implémenter la représentation matricielle d'un graphe sous Python. "
   ]
  },
  {
   "cell_type": "raw",
   "metadata": {
    "collapsed": true
   },
   "source": [
    "class GraphMat:\n",
    "    \"\"\" Simple class for static graph.\n",
    "\n",
    "    Attributes:\n",
    "        order (int): Number of vertices.\n",
    "        directed (bool): True if the graph is directed. False otherwise.\n",
    "        adj (List[List[int]]): Adjacency matrix\n",
    "    \"\"\"\n",
    "\n",
    "    def __init__(self, order, directed=False):\n",
    "        \"\"\"\n",
    "        Args:\n",
    "            order (int): Number of nodes.\n",
    "            directed (bool): True if the graph is directed. False otherwise.\n",
    "        \"\"\"\n",
    "        \n",
    "        self.order = order\n",
    "        self.directed = directed\n",
    "        self.adj = [[0 for j in range(order)] for i in range(order)]"
   ]
  },
  {
   "cell_type": "markdown",
   "metadata": {},
   "source": [
    "### Comment est-ce qu'on représente les multigraphes? \n",
    "\n",
    "Il suffit de stocker le nombre d'arêtes/arcs entre les sommets $i$ et $j$ dans le coefficient en place $(i, j)$ (et $(j, i)$ dans le cas non-orienté) de notre matrice d'adjacence. \n",
    "\n",
    "### Que faire si l'on veut ajouter des coûts sur les arêtes/arcs?\n",
    "\n",
    "On peut ajouter une matrice de coûts de même taille que la matrice d'adjacence. "
   ]
  },
  {
   "cell_type": "markdown",
   "metadata": {},
   "source": [
    "### Quelle complexité en espace pour cette représentation?\n",
    "\n",
    "La complexité en espace est $O(|S|^2)$\n",
    "\n",
    "### Quels avantages et incovenients de travailler avec une telle représentation?\n",
    "\n",
    "Ces avantages et inconvenients ont sens quand ils sont comparés avec le cas de la représentation par listes d'adjacences.\n",
    "\n",
    "#### Avantages\n",
    "\n",
    "- Il est très facile de déterminer s'il y a un lien entre deux sommets (pourquoi?). \n",
    "\n",
    "- Elle est pratique quand on veut travailler simultanément sur tous les arcs/arêtes d'un graphe. C'est en particulier pour cette raison qu'elle est utilisée pour les algorithmes de recherches des plus courts chemins entre deux sommets quelconques d'un graphe. \n",
    "\n",
    "- On a facilement la liste des prédécesseurs d'un sommets : il suffit de parcourir la colonne qui correspond à celui-ci. \n",
    "\n",
    "#### Inconvénients\n",
    "\n",
    "- En comparaison avec la représentation par listes d'adjacences la complexité est un inconvenient dans le cas des graphes non denses ; c'est-à-dire quand le nombre des arcs/arêtes est très petit par rapport à celui des sommets au carré.\n",
    "\n",
    "- Pour parcourir la liste des successeurs à un sommet on doit parcourir toute la ligne de celui-ci. C'est-à-dire une liste de la taille le nombre de sommets du graphe. Quand on n'a qu'un seul successeur, c'est cher payé. Le fait qu'un tel parcours est le point de départ des parcours en largeur et en profondeur d'un graphe, cette représentation est souvent abandonnée au profit de celle par listes d'adjacences."
   ]
  },
  {
   "cell_type": "markdown",
   "metadata": {},
   "source": [
    "## Exercices 1.2 : Implémentation par listes d'adjacences\n",
    "\n",
    "Dans cette représentation un graphe est représenté par une liste de listes. Une liste du premier niveau correspond à un sommet $s$, les éléments de celle-ci représentent les sommets successeurs de $s</tt>. Dans une représentation totalement dynamique les éléments d'une liste représentant un sommet sont des pointeurs. \n",
    "\n",
    "En voici une l'implémentation avec laquelle on travaillera sous Python."
   ]
  },
  {
   "cell_type": "raw",
   "metadata": {
    "collapsed": true
   },
   "source": [
    "class Graph:\n",
    "    \"\"\" Simple class for graph: adjacency lists\n",
    "\n",
    "    Attributes:\n",
    "        order (int): Number of vertices.\n",
    "        directed (bool): True if the graph is directed. False otherwise.\n",
    "        adjlists (List[List[int]]): Lists of connected vertices for each vertex.\n",
    "\n",
    "    \"\"\"\n",
    "\n",
    "    def __init__(self, order, directed=False):\n",
    "        \"\"\"Init graph, allocate adjacency lists\n",
    "\n",
    "        Args:\n",
    "            order (int): Number of nodes.\n",
    "            directed (bool): True if the graph is directed. False otherwise.\n",
    "\n",
    "        \"\"\"\n",
    "\n",
    "        self.order = order\n",
    "        self.directed = directed\n",
    "        self.adjlists = []\n",
    "        for _ in range(order):\n",
    "            self.adjlists.append([])"
   ]
  },
  {
   "cell_type": "markdown",
   "metadata": {},
   "source": [
    "### Comment est-ce qu'on représente les multigraphes? \n",
    "\n",
    "Étant donné un sommet $s$ source de plusieurs liens vers un sommet $v$, il suffit de répéter $v$ autant de fois que nécessaire dans la liste d'adjacence de $s$.\n",
    "\n",
    "### Que faire si l'on veut ajouter des coûts sur les arêtes/arcs?\n",
    "\n",
    "On peut remplacer les sommets (ou les pointeurs vers ceux-ci dans les listes d'adjacences) par des couples (sommet but, coût de l'arc source -> but).\n",
    "\n",
    "### Quelle complexité en espace pour cette représentation?\n",
    "\n",
    "La complexité en espace est $O(|S| + |A|)$."
   ]
  },
  {
   "cell_type": "markdown",
   "metadata": {},
   "source": [
    "### Quels avantages et incovenients de travailler avec une telle représentation?\n",
    "\n",
    "#### Avantages\n",
    "\n",
    "- Il est très facile de déterminer la liste des successeurs d'un sommet. \n",
    "\n",
    "- Complexité bien inférieure au cas de la représentation matricielle, notamment dans le cas des graphes éparses.\n",
    "\n",
    "#### Inconvénients\n",
    "\n",
    "- Rechercher si a lien existe entre deux sommets n'est pas facile (pourquoi?). \n",
    "\n",
    "- Il faut faire un petit travail pour rechercher la liste des prédecesseurs d'un sommet."
   ]
  },
  {
   "cell_type": "markdown",
   "metadata": {},
   "source": [
    "## Exercice 1.3 : Load\n",
    "\n",
    "### Cas de l'implémentation matricielle\n",
    "\n",
    "On commence par écrire une fonction qui ajoute un arc/arête entre deux sommets."
   ]
  },
  {
   "cell_type": "code",
   "execution_count": 41,
   "metadata": {
    "collapsed": true
   },
   "outputs": [],
   "source": [
    "def addedge_m(G, src, dst):\n",
    "    if (src >= G.order or src < 0) or (dst >= G.order or dst < 0): \n",
    "        raise IndexError\n",
    "    if not G.adj[src][dst]:\n",
    "        G.adj[src][dst] += 1\n",
    "        if not G.directed and dst != src:\n",
    "            G.adj[dst][src] += 1"
   ]
  },
  {
   "cell_type": "code",
   "execution_count": 42,
   "metadata": {
    "collapsed": true
   },
   "outputs": [],
   "source": [
    "def loadGRA_m(filename):\n",
    "    f = open(filename)\n",
    "    digraph = bool(int(f.readline()))\n",
    "    order = int(f.readline())\n",
    "    G = GraphMat(order, digraph)\n",
    "    for line in f.readlines():\n",
    "        edge = line.strip().split(' ')\n",
    "        (i, j) = (int(edge[0]), int(edge[1]))\n",
    "        addedge_m(G, i, j)\n",
    "    f.close()\n",
    "    return G"
   ]
  },
  {
   "cell_type": "code",
   "execution_count": 44,
   "metadata": {},
   "outputs": [],
   "source": [
    "graph_1_m = loadGRA_m(\"files/digraph1.gra\")"
   ]
  },
  {
   "cell_type": "code",
   "execution_count": 45,
   "metadata": {},
   "outputs": [],
   "source": [
    "graph_2_m = loadGRA_m(\"files/graph2.gra\")"
   ]
  },
  {
   "cell_type": "markdown",
   "metadata": {},
   "source": [
    "### Cas de l'implémentation par listes d'adjacences\n",
    "\n",
    "On commence par écrire une fonction qui ajoute un arc au graphe représenté par listes d'adjacences."
   ]
  },
  {
   "cell_type": "code",
   "execution_count": 46,
   "metadata": {
    "collapsed": true
   },
   "outputs": [],
   "source": [
    "def addedge(G, src, dst):\n",
    "    if (src >= G.order or src < 0) or (dst >=G.order or dst <0): \n",
    "        raise IndexError\n",
    "    if dst not in G.adjlists[src]:\n",
    "        G.adjlists[src].append(dst)\n",
    "        if not G.directed and dst != src:\n",
    "            G.adjlists[dst].append(src)"
   ]
  },
  {
   "cell_type": "code",
   "execution_count": 47,
   "metadata": {
    "collapsed": true
   },
   "outputs": [],
   "source": [
    "def loadGRA(filename):\n",
    "    f = open(filename)\n",
    "    digraph = bool(int(f.readline()))\n",
    "    order = int(f.readline())\n",
    "    G = Graph(order, digraph)\n",
    "    for line in f.readlines():\n",
    "        edge = line.strip().split(' ')\n",
    "        (i, j) = (int(edge[0]), int(edge[1]))\n",
    "        addedge(G, i, j)\n",
    "    f.close()\n",
    "    return G"
   ]
  },
  {
   "cell_type": "code",
   "execution_count": 48,
   "metadata": {
    "collapsed": true
   },
   "outputs": [],
   "source": [
    "graph_1 = loadGRA(\"files/digraph1.gra\")"
   ]
  },
  {
   "cell_type": "code",
   "execution_count": 49,
   "metadata": {
    "collapsed": true
   },
   "outputs": [],
   "source": [
    "graph_2 = loadGRA(\"files/graph2.gra\")"
   ]
  },
  {
   "cell_type": "markdown",
   "metadata": {},
   "source": [
    "## Exercice 1.4 : degrés\n",
    "\n",
    "Chaque sommet d'un graphe a un degré intérieur et extérieur. Le degré intérieur correspond au nombre d'arêtes qui entrent vers ce somment, le degré extérieur au nombre d'arêtes sortantes. \n",
    "\n",
    "### Case de l'implémentation par listes d'adjacences"
   ]
  },
  {
   "cell_type": "code",
   "execution_count": 50,
   "metadata": {
    "collapsed": true
   },
   "outputs": [],
   "source": [
    "def degrees(G):\n",
    "    \"\"\"\n",
    "    Args:\n",
    "        G (Graph): digraph\n",
    "    Returns:\n",
    "        (din, dout) (list[int], list[int): indegrees and outdegrees of each vertex\n",
    "\n",
    "    \"\"\"\n",
    "    din = [0] * G.order\n",
    "    dout = [0] * G.order\n",
    "    for s in range(G.order):\n",
    "        dout[s] = len(G.adjlists[s])\n",
    "        for adj in G.adjlists[s]:\n",
    "            din[adj] += 1\n",
    "    return (din, dout)"
   ]
  },
  {
   "cell_type": "markdown",
   "metadata": {},
   "source": [
    "###  Cas de l'implémentation par matrice d'adjacence"
   ]
  },
  {
   "cell_type": "code",
   "execution_count": 51,
   "metadata": {
    "collapsed": true
   },
   "outputs": [],
   "source": [
    "def graphdegrees(G):\n",
    "    \"\"\"\n",
    "    Args:\n",
    "        G (GraphMat): digraph\n",
    "    Returns:\n",
    "        (din, dout) (int, int): indegree and outdegree of G\n",
    "\n",
    "    \"\"\"\n",
    "    din = 0\n",
    "    dout = 0\n",
    "    for x in range(G.order):\n",
    "        (din_x, dout_x) = (0, 0)\n",
    "        for y in range(G.order):\n",
    "            dout_x += G.adj[x][y]\n",
    "            din_x += G.adj[y][x]\n",
    "        din = max(din, din_x)\n",
    "        dout = max(dout, dout_x)\n",
    "    return (din, dout)"
   ]
  },
  {
   "cell_type": "markdown",
   "metadata": {},
   "source": [
    "## Exercice 1.5: dot\n",
    "\n",
    "### Cas de l'implémentation matricielle"
   ]
  },
  {
   "cell_type": "code",
   "execution_count": 52,
   "metadata": {
    "collapsed": true
   },
   "outputs": [],
   "source": [
    "def todot(G):\n",
    "    (dot, link) = (\"digraph \", \" -> \") if G.directed else (\"graph \", \" -- \")\n",
    "    dot += \"G {\\n\"\n",
    "    #vertex traversal\n",
    "    for s in range(G.order):\n",
    "        # adjacent list traversal\n",
    "        for v in range(G.order):\n",
    "            if G.adj[s][v]:             \n",
    "                if G.directed or s >= v:\n",
    "                    for i in range(G.adj[s][v]):\n",
    "                        dot += \"  \" + str(s) + link + str(v) + '\\n'\n",
    "    dot += '}'\n",
    "    return dot"
   ]
  },
  {
   "cell_type": "code",
   "execution_count": 53,
   "metadata": {},
   "outputs": [
    {
     "name": "stdout",
     "output_type": "stream",
     "text": [
      "digraph G {\n",
      "  0 -> 1\n",
      "  0 -> 2\n",
      "  0 -> 6\n",
      "  1 -> 3\n",
      "  2 -> 6\n",
      "  2 -> 8\n",
      "  3 -> 6\n",
      "  4 -> 3\n",
      "  5 -> 2\n",
      "  5 -> 6\n",
      "  6 -> 3\n",
      "  6 -> 4\n",
      "  7 -> 5\n",
      "  7 -> 6\n",
      "  7 -> 8\n",
      "}\n"
     ]
    }
   ],
   "source": [
    "print(todot(graph_1_m))"
   ]
  },
  {
   "cell_type": "markdown",
   "metadata": {},
   "source": [
    "### Cas de l'implémentation par listes d'adjacences"
   ]
  },
  {
   "cell_type": "code",
   "execution_count": 54,
   "metadata": {
    "collapsed": true
   },
   "outputs": [],
   "source": [
    "def todot(G):\n",
    "    arrow = \" -\" + (\"> \" if G.directed else \"- \")\n",
    "    res = \"digraph {\\n\" if G.directed else \"graph {\\n\"\n",
    "    for s in range(G.order):\n",
    "        for v in G.adjlists[s]:\n",
    "            if G.directed or v < s:\n",
    "                res += \"  {}{}{}\\n\".format(str(s), arrow, str(v))\n",
    "    return res + \"}\""
   ]
  },
  {
   "cell_type": "code",
   "execution_count": 55,
   "metadata": {},
   "outputs": [
    {
     "name": "stdout",
     "output_type": "stream",
     "text": [
      "digraph {\n",
      "  0 -> 1\n",
      "  0 -> 6\n",
      "  0 -> 2\n",
      "  1 -> 3\n",
      "  2 -> 6\n",
      "  2 -> 8\n",
      "  3 -> 6\n",
      "  4 -> 3\n",
      "  5 -> 2\n",
      "  5 -> 6\n",
      "  6 -> 3\n",
      "  6 -> 4\n",
      "  7 -> 6\n",
      "  7 -> 5\n",
      "  7 -> 8\n",
      "}\n"
     ]
    }
   ],
   "source": [
    "print(todot(graph_1))"
   ]
  },
  {
   "cell_type": "code",
   "execution_count": 56,
   "metadata": {},
   "outputs": [
    {
     "name": "stdout",
     "output_type": "stream",
     "text": [
      "graph {\n",
      "  1 -- 0\n",
      "  2 -- 0\n",
      "  3 -- 1\n",
      "  5 -- 4\n",
      "  6 -- 4\n",
      "  7 -- 4\n",
      "  7 -- 6\n",
      "  7 -- 5\n",
      "  8 -- 7\n",
      "  8 -- 5\n",
      "}\n"
     ]
    }
   ],
   "source": [
    "print(todot(graph_2))"
   ]
  },
  {
   "cell_type": "markdown",
   "metadata": {
    "collapsed": true
   },
   "source": [
    "# Parcours\n",
    "\n",
    "Sauf indication du contraire on suppose qu'on travaille avec des graphes simples (sans boucles ni arêtes/arcs multiples).\n",
    "\n",
    "## Exercice 2.1 : parcours largeur\n",
    "\n",
    "Il s'agit de parcourir un graphe en partant d'un sommet <tt>s</tt> puis tous les successeurs de celui-ci puis les successeurs de chacun des successeurs et ainsi de suite. Lors du parcours à partir de <tt>s</tt> on garde en mémoire le père de chaque sommet découvert. On choisi de le stocker dans une liste des pères; à l'indice <tt>i</tt> elle contient le père de <tt>i</tt>.\n",
    "\n",
    "Pour ce parcours inspirez-vous du parcours profondeur sur les arbres.\n",
    "\n",
    "Voici la fonction d'appel que vous aurez à utiliser :"
   ]
  },
  {
   "cell_type": "code",
   "execution_count": 57,
   "metadata": {
    "collapsed": true
   },
   "outputs": [],
   "source": [
    "from algopy import queue"
   ]
  },
  {
   "cell_type": "markdown",
   "metadata": {},
   "source": [
    "### Avec l'implémentation matricielle"
   ]
  },
  {
   "cell_type": "code",
   "execution_count": 58,
   "metadata": {
    "collapsed": true
   },
   "outputs": [],
   "source": [
    "def bfs_m(G):\n",
    "    p = [None]*G.order\n",
    "    for s in range(G.order):\n",
    "        if p[s] is None:\n",
    "            p[s] = -1\n",
    "            __bfs_m(G, s, p)"
   ]
  },
  {
   "cell_type": "code",
   "execution_count": 59,
   "metadata": {
    "collapsed": true
   },
   "outputs": [],
   "source": [
    "def __bfs_m(G, s, p):\n",
    "    q = queue.Queue()\n",
    "    q.enqueue(s)\n",
    "    while not q.isempty():\n",
    "        vertex = q.dequeue()\n",
    "        print(vertex, end=\" \")\n",
    "        for v in range(G.order):\n",
    "            if G.adj[vertex][v]:\n",
    "                if p[v] == None:\n",
    "                    q.enqueue(v)\n",
    "                    p[v] = vertex"
   ]
  },
  {
   "cell_type": "code",
   "execution_count": 60,
   "metadata": {},
   "outputs": [
    {
     "name": "stdout",
     "output_type": "stream",
     "text": [
      "0 1 2 3 4 5 6 7 8 "
     ]
    }
   ],
   "source": [
    "bfs_m(graph_2_m)"
   ]
  },
  {
   "cell_type": "markdown",
   "metadata": {},
   "source": [
    "### Avec l'implémentation par listes d'adjacences"
   ]
  },
  {
   "cell_type": "code",
   "execution_count": 61,
   "metadata": {
    "collapsed": true
   },
   "outputs": [],
   "source": [
    "def bfs(G):\n",
    "    p = [None]*G.order\n",
    "    for s in range(G.order):\n",
    "        if p[s] is None:\n",
    "            p[s] = -1\n",
    "            __bfs(G, s, p)"
   ]
  },
  {
   "cell_type": "code",
   "execution_count": 62,
   "metadata": {
    "collapsed": true
   },
   "outputs": [],
   "source": [
    "def __bfs(G, s, p):\n",
    "    q = queue.Queue()\n",
    "    q.enqueue(s)\n",
    "    while not q.isempty():\n",
    "        vertex = q.dequeue()\n",
    "        print(vertex, end=\" \")\n",
    "        for v in G.adjlists[vertex]:\n",
    "                if p[v] == None:\n",
    "                    q.enqueue(v)\n",
    "                    p[v] = vertex"
   ]
  },
  {
   "cell_type": "code",
   "execution_count": 63,
   "metadata": {},
   "outputs": [
    {
     "name": "stdout",
     "output_type": "stream",
     "text": [
      "0 2 1 3 4 5 6 7 8 "
     ]
    }
   ],
   "source": [
    "bfs(graph_2)"
   ]
  },
  {
   "cell_type": "markdown",
   "metadata": {},
   "source": [
    "## Exercice 2.2 : Parcours Profondeur\n",
    "\n",
    "Le principe du parcours profondeur est de passer d'un sommet vers un successeur puis au successeur de ce dernier jusqu'à ne plus avoir de successeurs non visités, on reprend au premier sommet ayant un successeur non visité. C'est une généralisation du parcours profondeur pour les arbres.\n",
    "\n",
    "### Avec l'implémentation par listes d'adjacences\n",
    "\n",
    "#### On choisit de renvoyer la forêt couvrante"
   ]
  },
  {
   "cell_type": "code",
   "execution_count": 64,
   "metadata": {
    "collapsed": true
   },
   "outputs": [],
   "source": [
    "def __dfs(G, s, p):\n",
    "    for v in G.adjlists[s]:\n",
    "        if p[v] is None:\n",
    "            print(v, end=\" \")\n",
    "            p[v] = s\n",
    "            __dfs(G, v, p)\n",
    "    \n",
    "def dfs(G):\n",
    "    p = [None]*G.order\n",
    "    for s in range(G.order):\n",
    "        if p[s] is None:\n",
    "            p[s] = -1\n",
    "            __dfs(G, s, p)\n",
    "    return p        "
   ]
  },
  {
   "cell_type": "code",
   "execution_count": 65,
   "metadata": {},
   "outputs": [
    {
     "name": "stdout",
     "output_type": "stream",
     "text": [
      "2 1 3 5 7 6 8 "
     ]
    },
    {
     "data": {
      "text/plain": [
       "[-1, 0, 0, 1, -1, 4, 7, 5, 7]"
      ]
     },
     "execution_count": 65,
     "metadata": {},
     "output_type": "execute_result"
    }
   ],
   "source": [
    "dfs(graph_2)"
   ]
  },
  {
   "cell_type": "markdown",
   "metadata": {},
   "source": [
    "#### On choisit de renvoyer les arcs retour\n",
    "\n",
    "On sous-entend ici qu'on travail sur un graph non-orienté en entrée."
   ]
  },
  {
   "cell_type": "code",
   "execution_count": 71,
   "metadata": {
    "collapsed": true
   },
   "outputs": [],
   "source": [
    "def __dfsback(G, s, p):\n",
    "     for v in G.adjlists[s]:\n",
    "        if p[v] is None:\n",
    "            # print(v, end=\" \")\n",
    "            p[v] = s\n",
    "            __dfsback(G, v, p)\n",
    "        else:\n",
    "            if v != p[s]:\n",
    "                print(s, \"->\", v, \"backward edge.\")\n",
    "\n",
    "def dfsback(G):\n",
    "    p = [None]*G.order\n",
    "    for s in range(G.order):\n",
    "        if p[s] is None:\n",
    "            p[s] = -1\n",
    "            __dfsback(G, s, p)\n",
    "    return p        "
   ]
  },
  {
   "cell_type": "code",
   "execution_count": 72,
   "metadata": {},
   "outputs": [
    {
     "name": "stdout",
     "output_type": "stream",
     "text": [
      "7 -> 4 backward edge.\n",
      "6 -> 4 backward edge.\n",
      "8 -> 5 backward edge.\n",
      "5 -> 8 backward edge.\n",
      "4 -> 6 backward edge.\n",
      "4 -> 7 backward edge.\n"
     ]
    },
    {
     "data": {
      "text/plain": [
       "[-1, 0, 0, 1, -1, 4, 7, 5, 7]"
      ]
     },
     "execution_count": 72,
     "metadata": {},
     "output_type": "execute_result"
    }
   ],
   "source": [
    "dfsback(graph_2)"
   ]
  },
  {
   "cell_type": "markdown",
   "metadata": {},
   "source": [
    "#### On choisit de travailler les arcs avants, retours ou croisés\n",
    "\n",
    "On sous-entend dans ce cas qu'on travaille avec les graphes orientés. Sans quoi les seuls arcs qui ne sont pas dans la forêt sont des arcs retours."
   ]
  },
  {
   "cell_type": "code",
   "execution_count": 70,
   "metadata": {
    "collapsed": true
   },
   "outputs": [],
   "source": [
    "def __depthfull(G, s, pref, suff, cpt):\n",
    "    cpt += 1\n",
    "    pref[s] = cpt\n",
    "    for adj in G.adjLists[s]:\n",
    "        if pref[adj] == 0:\n",
    "            print (s, \"->\",  adj)\n",
    "            cpt = __depthfull(G, adj, pref, suff, cpt)\n",
    "        else:\n",
    "            if pref[s] < pref[adj]:\n",
    "                print (s, \"->\",  adj, \"forward\")\n",
    "            else:\n",
    "                if suff[adj] == 0:\n",
    "                    print (s, \"->\",  adj, \"back\")\n",
    "                else:\n",
    "                    print (s, \"->\",  adj, \"cross\")\n",
    "    cpt += 1\n",
    "    suff[s] = cpt\n",
    "    return cpt\n",
    "\n",
    "def depthfull(G):\n",
    "    pref = [0] * G.order\n",
    "    suff = [0] * G.order \n",
    "    cpt = 0\n",
    "    for s in range(G.order):\n",
    "        if pref[s] == 0:\n",
    "            cpt = __depthfull(G, s, pref, suff, cpt)\n",
    "    return(pref, suff)"
   ]
  },
  {
   "cell_type": "markdown",
   "metadata": {},
   "source": [
    "### Implémentation avec matrice d'adjacence\n",
    "\n",
    "#### Cas des arcs retours uniquement\n",
    "\n",
    "Retour sur les graphes non-orientés."
   ]
  },
  {
   "cell_type": "code",
   "execution_count": 74,
   "metadata": {
    "collapsed": true
   },
   "outputs": [],
   "source": [
    "def __dfsback_m(G, s, p):\n",
    "    for adj in range(G.order):\n",
    "        if G.adj[s][adj]:\n",
    "            if p[adj] == None:  # tree edge\n",
    "                p[adj] = s      # vertices has to be marked here\n",
    "                print(s, \"->\", adj)\n",
    "                __dfsback_m(G, adj, p)\n",
    "            else:\n",
    "                if adj != p[s]:\n",
    "                    print(s, '->', adj, \"back edge\")    #unless adj -> s is a back edge!\n",
    "                \n",
    "def dfsback_m(G):\n",
    "    p = [None] * G.order\n",
    "    for s in range(G.order):\n",
    "        if p[s] == None:\n",
    "            p[s] = -1\n",
    "            __dfsback_m(G, s, p)\n",
    "    return p"
   ]
  },
  {
   "cell_type": "markdown",
   "metadata": {},
   "source": [
    "#### Cas des arcs avants, retours et croisés\n",
    "\n",
    "A nouveau le cas des graphs orientés."
   ]
  },
  {
   "cell_type": "code",
   "execution_count": 75,
   "metadata": {
    "collapsed": true
   },
   "outputs": [],
   "source": [
    "def __dephtfull_m(G, s, pref, suff, cpt):\n",
    "    cpt += 1\n",
    "    pref[s] = cpt\n",
    "    for adj in range(G.order):\n",
    "        if G.adj[s][adj]:\n",
    "            if pref[adj] == 0:\n",
    "                print(s, \"->\", adj)\n",
    "                cpt = __dephtfull_m(G, s, pref, suff, cpt)\n",
    "            else :\n",
    "                if pref[s] < pref[adj]:\n",
    "                    print(s, \"->\", adj, \"is forward\")\n",
    "                else:\n",
    "                    if suff[adj] == 0:\n",
    "                        print(s, \"->\", adj, \"is backward\")\n",
    "                    else:\n",
    "                        print(s, \"->\", adj, \"is cross\")\n",
    "    cpt += 1\n",
    "    suff[s] = cpt\n",
    "    return cpt\n",
    "\n",
    "\n",
    "def depthfull_m(G):\n",
    "    pref = [0] * G.order\n",
    "    suff = [0] * G.order \n",
    "    cpt = 0\n",
    "    for s in range(G.order):\n",
    "        if pref[s] == 0:\n",
    "            cpt = __depthfull_m(G, s, pref, suff, cpt)\n",
    "    return(pref, suff)"
   ]
  },
  {
   "cell_type": "markdown",
   "metadata": {},
   "source": [
    "# Quelques applications"
   ]
  },
  {
   "cell_type": "markdown",
   "metadata": {},
   "source": [
    "## Exercice 3.1 : recherche de trajet\n",
    "\n",
    "On a deux manières de trouver un chemin entre un sommet <tt>s</tt> et un autre <tt>v</tt> dans un graphe <tt>G</tt> :\n",
    "\n",
    "- En faisant un parcours profondeur au départ de <tt>s</tt> puis, une fois <tt>v</tt> trouvé renvoyer la liste des antécédants de <tt>v</tt> dans l'arbre couvrant. \n",
    "- En faisant un parcours largeur au départ de <tt>s</tt> puis, une fois <tt>v</tt> trouvé renvoyer la liste des antécédants de <tt>v</tt> dans l'arbre couvrant.\n",
    "\n",
    "Bien entendu, si <tt>v</tt> n'est pas atteint lors des parcours précédants il n'y a pas de chemin de <tt>s</tt> à <tt>v</tt>. L'intérêt du parcours largeur vient du fait qu'on obtient un plus court chemin de <tt>s</tt> à <tt>v</tt>. Dans le cas d'un parcours profondeur le chemin n'est cependant pas un plus court chemin.\n",
    "\n",
    "### Parcours profondeur"
   ]
  },
  {
   "cell_type": "code",
   "execution_count": 76,
   "metadata": {
    "collapsed": true
   },
   "outputs": [],
   "source": [
    "def __pathDFS(G, s, v, M, path):\n",
    "    for adj in G.adjLists[s]:\n",
    "        M[adj] = True\n",
    "        if adj == v or __pathDFS(G, adj, v, M, path):\n",
    "            path.insert(0, adj)\n",
    "            return(True)\n",
    "    return(False)\n",
    "\n",
    "def pathDFS(G, s, v):\n",
    "    M = [False]*G.order\n",
    "    path = [] \n",
    "    if __pathDFS(G, s, v, M, path):\n",
    "        path.insert(0, s)\n",
    "    return(path)"
   ]
  },
  {
   "cell_type": "markdown",
   "metadata": {},
   "source": [
    "### Parcours largeur"
   ]
  },
  {
   "cell_type": "code",
   "execution_count": 77,
   "metadata": {
    "collapsed": true
   },
   "outputs": [],
   "source": [
    "def __pathBFS(G, src, dst, p):\n",
    "    q = queue.Queue()\n",
    "    q = queue.enqueue(src, q)\n",
    "    p[src] = -1\n",
    "    while not queue.isEmpty(q):\n",
    "        s = queue.dequeue(q)\n",
    "        for adj in G.adjLists[s]:\n",
    "            if p[adj] == None:       \n",
    "                p[adj] = s\n",
    "                if adj == dst:\n",
    "                    return True\n",
    "                q = queue.enqueue(adj, q)\n",
    "            \n",
    "    return False\n",
    "\n",
    "def pathBFS(G, src, dst):\n",
    "    p = [None] * G.order\n",
    "    L = []\n",
    "    if __pathBFS(G, src, dst, p):\n",
    "        while dst != -1:\n",
    "            L.insert(0, dst)\n",
    "            dst = p[dst]\n",
    "    return L"
   ]
  },
  {
   "cell_type": "markdown",
   "metadata": {},
   "source": [
    "## Exercice 3.2 : distance au départ\n",
    "\n",
    "Le parcours largeur calcule les distances entre le point de départ de la recherche et n'importe quel deux sommets de l'arbre. Il suffit à partir de là de repérer quand on se retrouve à distance entre `d_min` et `d_max`."
   ]
  },
  {
   "cell_type": "code",
   "execution_count": 81,
   "metadata": {
    "collapsed": true
   },
   "outputs": [],
   "source": [
    "def __distances(G, s, M, dmin, dmax):    \n",
    "    q = queue.Queue()\n",
    "    f = queue.Queue()\n",
    "    q.enqueue(s)\n",
    "    M[s] = True\n",
    "    depth = 0\n",
    "    while not q.isempty():\n",
    "        s = q.dequeue()\n",
    "        if depth >= dmin:\n",
    "            print(s, end=' ')\n",
    "        if depth < dmax:\n",
    "            for adj in range(G.order):\n",
    "                if G.adj[s][adj]:\n",
    "                    if not M[adj]:\n",
    "                        f.enqueue(adj)\n",
    "                        M[adj] = True\n",
    "        if q.isempty():\n",
    "            depth += 1\n",
    "            if depth > dmin:\n",
    "                print()\n",
    "            (q, f) = (f, q)\n",
    "            \n",
    "    \n",
    "def distances(G, src, dmin, dmax):\n",
    "    M = [False] * G.order\n",
    "    __distances2(G, src, M, dmin, dmax)"
   ]
  },
  {
   "cell_type": "markdown",
   "metadata": {},
   "source": [
    "## Exercice 3.3 : I want to be tree\n",
    "\n",
    "Il s'agit de repérer les arcs retours. C'est précisément ceux-ci qui permettent de repérer les cylces d'un graphe."
   ]
  },
  {
   "cell_type": "code",
   "execution_count": 35,
   "metadata": {
    "collapsed": true
   },
   "outputs": [],
   "source": [
    "def __istree(G, s, p):\n",
    "    for v in G.adjlists[s]:\n",
    "        if p[v] is None:\n",
    "            p[v] = s\n",
    "            if not __istree(G, v, p):\n",
    "                return False\n",
    "        else:\n",
    "            if v != p[s]:\n",
    "                return False\n",
    "    return True\n",
    "    \n",
    "def istree(G):\n",
    "    p = [None]*G.order\n",
    "    p[0] = -1\n",
    "    if __istree(G, 0, p):\n",
    "        j = 0\n",
    "        while j < G.order and p[j] != None:\n",
    "            j += 1\n",
    "        return j == G.order\n",
    "    else:\n",
    "        return False"
   ]
  },
  {
   "cell_type": "markdown",
   "metadata": {},
   "source": [
    "## Exercice 3.4 : diamètre\n",
    "\n",
    "Pour calculer le diamètre on calcule la plus grande distance de la racine à une des feuilles de l'arbre. À partir de cette feuille on recalcule la plus grande distance de celle-ci à l'un des sommets de l'arbre. On aura dans un tel cas \"déplié\" la plus grande branche de l'arbre."
   ]
  },
  {
   "cell_type": "code",
   "execution_count": 79,
   "metadata": {
    "collapsed": true
   },
   "outputs": [],
   "source": [
    "def __diam(G, s, m):\n",
    "    q = queue.Queue()\n",
    "    f = queue.Queue()\n",
    "    i = -1\n",
    "    q.enqueue(s)\n",
    "    while not q.isempty():\n",
    "        s = q.dequeue()\n",
    "        for adj in G.adjlists[s]:\n",
    "            if not m[adj]:\n",
    "                m[adj] = True\n",
    "                f.enqueue(adj)\n",
    "        if q.isempty():\n",
    "            q, f = f, q\n",
    "            i = i + 1\n",
    "    return  s, i \n",
    "    \n",
    "    \n",
    "def diam(G):\n",
    "    if not G.order:\n",
    "        raise Exception(\"Graph is empty. Diameter is not well defined.\")\n",
    "        \n",
    "    m = [False]*G.order\n",
    "    m[0] = True\n",
    "    s, _ = __diam(G, 0, m)\n",
    "    \n",
    "    m = [False]*G.order\n",
    "    m[s] = True\n",
    "    _ , d = __diam(G, s, m)\n",
    "    \n",
    "    return d"
   ]
  },
  {
   "cell_type": "markdown",
   "metadata": {},
   "source": [
    "## Exercice 3.5 : un problème d'ordonnancement\n"
   ]
  },
  {
   "cell_type": "markdown",
   "metadata": {
    "collapsed": true
   },
   "source": [
    "Les problèmes d'ordonnancement qu'on est en mesure de traiter sont des problèmes de tris topologiques. Il s'agit d'ordonner les sommets d'un graphe orienté de manière à ce que les extrémités d'un arc <tt>(dst, src)</tt> soient toujours ordonnés par ordre croissant. Bien évidemment celà n'est pas possible dans le cas de l'existence d'un circuit. \n",
    "\n",
    "### Principe \n",
    "\n",
    "Pour effectuer un tel tri il suffit de se souvenir du fait suivant : lors d'un parcours profondeur d'un graphe le passage suffixe sur un sommet <tt>s</tt> signifie qu'on a déjà visité tous les successeurs de <tt>s</tt>. À ce stade aucun des sommets qui apparaitront dans la suite du parcours n'ont de chemin vers <tt>s</tt>. Les sommets qui apparaissent à la suite dans ce parcours seront ajoutés après <tt>s</tt> dans l'ordre, les autres avant."
   ]
  },
  {
   "cell_type": "code",
   "execution_count": 78,
   "metadata": {
    "collapsed": true
   },
   "outputs": [],
   "source": [
    "def __toporder(G, s, M, L):\n",
    "    M[s] = True\n",
    "    for adj in G.adjLists[s]:\n",
    "        if not M[adj]:\n",
    "            __toporder(G, adj, M, L)\n",
    "    L.insert(0, s)\n",
    "\n",
    "def toporder(G):\n",
    "    M = [False] * G.order\n",
    "    L = []\n",
    "    for s in range(G.order):\n",
    "        if not M[s]:\n",
    "            __toporder(G, s, M, L)\n",
    "    return L"
   ]
  },
  {
   "cell_type": "code",
   "execution_count": null,
   "metadata": {
    "collapsed": true
   },
   "outputs": [],
   "source": []
  }
 ],
 "metadata": {
  "kernelspec": {
   "display_name": "Python 3",
   "language": "python",
   "name": "python3"
  },
  "language_info": {
   "codemirror_mode": {
    "name": "ipython",
    "version": 3
   },
   "file_extension": ".py",
   "mimetype": "text/x-python",
   "name": "python",
   "nbconvert_exporter": "python",
   "pygments_lexer": "ipython3",
   "version": "3.5.2"
  }
 },
 "nbformat": 4,
 "nbformat_minor": 1
}
