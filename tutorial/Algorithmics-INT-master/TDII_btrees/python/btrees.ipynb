{
 "cells": [
  {
   "cell_type": "markdown",
   "metadata": {
    "collapsed": true
   },
   "source": [
    "# 1. Arbres - B"
   ]
  },
  {
   "cell_type": "markdown",
   "metadata": {},
   "source": [
    "### Définition\n",
    "\n",
    "Pour fixer les idées je rappelle ici la définition d'un B-arbre:\n",
    "\n",
    "- Un B-arbre peut être vide, s'il ne l'est pas aucun de ses sous-arbres l'est.\n",
    "- Chaque noeud d'un B-arbre contient une liste de clés triées. Un noeud **interne** ayant $k$-clés a $(k+1)$-fils on dit que c'est un $(k+1)$-noeud.\n",
    "- La clé en position $i$ d'un noeud a un fils gauche et un autre droit, respectivement le $i$-ème fils et le $(i+1)$-ème. Les clés du fils gauche sont plus petite que la clé $i$ et celle du fils droit plus grandes. En ce sens un B-arbre non-vide est un arbre général de recherche.\n",
    "- Un B-arbre a un degré $t > 1$ :\n",
    "    - la racine a au plus $2t-1$ clés\n",
    "    - tout autre noeud a au moins $t-1$ clés et au plus $2t-1$."
   ]
  },
  {
   "cell_type": "code",
   "execution_count": 458,
   "metadata": {
    "collapsed": true
   },
   "outputs": [],
   "source": [
    "from algopy import btree\n",
    "from algopy.btree import BTree"
   ]
  },
  {
   "cell_type": "raw",
   "metadata": {},
   "source": [
    "class BTree:\n",
    "    \"\"\"BTree class.\n",
    "\n",
    "    Attributes:\n",
    "        degree (int): Degree for all existing trees.\n",
    "        keys (list[Any]): List of node keys.\n",
    "        children (list[BTree]): lLst of children.\n",
    "\n",
    "    \"\"\"\n",
    "\n",
    "    degree = None\n",
    "\n",
    "    def __init__(self, keys=None, children=None):\n",
    "        \"\"\"BTree instance constructor.\n",
    "\n",
    "        Args:\n",
    "            keys (list[Any]).\n",
    "            children (list[BTree])\n",
    "\n",
    "        \"\"\"\n",
    "        self.keys = keys if keys else []\n",
    "        self.children = children if children else []\n",
    "\n",
    "    @property\n",
    "    def nbkeys(self):\n",
    "        \"\"\"Number of keys in node.\n",
    "\n",
    "        Returns:\n",
    "            int.\n",
    "\n",
    "        \"\"\"\n",
    "        return len(self.keys)"
   ]
  },
  {
   "cell_type": "markdown",
   "metadata": {},
   "source": [
    "Dans l'implémentation précédente un arbre vide est repéré par un `None` et une feuille par le fait que ca liste de fils est vide. L'attribut `degree` est un attribut de classe, il permet d'instancier des classes ayant un degré donné. Par exemple, pour les 2-3-4 on peut définir la classe:"
   ]
  },
  {
   "cell_type": "code",
   "execution_count": 459,
   "metadata": {
    "collapsed": true
   },
   "outputs": [],
   "source": [
    "class B234(BTree):\n",
    "    degree = 2"
   ]
  },
  {
   "cell_type": "code",
   "execution_count": 460,
   "metadata": {
    "collapsed": true
   },
   "outputs": [],
   "source": [
    "Dummy = B234([22], \n",
    "             [B234([15], \n",
    "                   [B234([8, 12]), B234([18, 19, 20])]), \n",
    "              B234([27, 41], \n",
    "                   [B234([24, 25]), B234([30, 35, 38]), B234([45, 48])])])"
   ]
  },
  {
   "cell_type": "code",
   "execution_count": 461,
   "metadata": {},
   "outputs": [
    {
     "data": {
      "image/svg+xml": [
       "<svg height=\"191pt\" viewBox=\"0.00 0.00 434.00 191.00\" width=\"434pt\" xmlns=\"http://www.w3.org/2000/svg\" xmlns:xlink=\"http://www.w3.org/1999/xlink\">\n",
       "<g class=\"graph\" id=\"graph0\" transform=\"scale(1 1) rotate(0) translate(4 187)\">\n",
       "<title>temp</title>\n",
       "<polygon fill=\"white\" points=\"-4,4 -4,-187 430,-187 430,4 -4,4\" stroke=\"none\"/>\n",
       "<!-- 140526306141688 -->\n",
       "<g class=\"node\" id=\"node1\"><title>140526306141688</title>\n",
       "<path d=\"M148,-146.5C148,-146.5 178,-146.5 178,-146.5 184,-146.5 190,-152.5 190,-158.5 190,-158.5 190,-170.5 190,-170.5 190,-176.5 184,-182.5 178,-182.5 178,-182.5 148,-182.5 148,-182.5 142,-182.5 136,-176.5 136,-170.5 136,-170.5 136,-158.5 136,-158.5 136,-152.5 142,-146.5 148,-146.5\" fill=\"none\" stroke=\"black\"/>\n",
       "<text font-family=\"Times,serif\" font-size=\"14.00\" text-anchor=\"middle\" x=\"163\" y=\"-160.8\">22</text>\n",
       "</g>\n",
       "<!-- 140526306404000 -->\n",
       "<g class=\"node\" id=\"node2\"><title>140526306404000</title>\n",
       "<path d=\"M102,-73.5C102,-73.5 132,-73.5 132,-73.5 138,-73.5 144,-79.5 144,-85.5 144,-85.5 144,-97.5 144,-97.5 144,-103.5 138,-109.5 132,-109.5 132,-109.5 102,-109.5 102,-109.5 96,-109.5 90,-103.5 90,-97.5 90,-97.5 90,-85.5 90,-85.5 90,-79.5 96,-73.5 102,-73.5\" fill=\"none\" stroke=\"black\"/>\n",
       "<text font-family=\"Times,serif\" font-size=\"14.00\" text-anchor=\"middle\" x=\"117\" y=\"-87.8\">15</text>\n",
       "</g>\n",
       "<!-- 140526306141688&#45;&#45;140526306404000 -->\n",
       "<g class=\"edge\" id=\"edge1\"><title>140526306141688--140526306404000</title>\n",
       "<path d=\"M151.865,-146.313C144.632,-135.15 135.245,-120.66 128.033,-109.529\" fill=\"none\" stroke=\"black\"/>\n",
       "</g>\n",
       "<!-- 140526306142528 -->\n",
       "<g class=\"node\" id=\"node3\"><title>140526306142528</title>\n",
       "<path d=\"M238,-73.5C238,-73.5 274,-73.5 274,-73.5 280,-73.5 286,-79.5 286,-85.5 286,-85.5 286,-97.5 286,-97.5 286,-103.5 280,-109.5 274,-109.5 274,-109.5 238,-109.5 238,-109.5 232,-109.5 226,-103.5 226,-97.5 226,-97.5 226,-85.5 226,-85.5 226,-79.5 232,-73.5 238,-73.5\" fill=\"none\" stroke=\"black\"/>\n",
       "<text font-family=\"Times,serif\" font-size=\"14.00\" text-anchor=\"middle\" x=\"241\" y=\"-87.8\">27</text>\n",
       "<polyline fill=\"none\" points=\"256,-73.5 256,-109.5 \" stroke=\"black\"/>\n",
       "<text font-family=\"Times,serif\" font-size=\"14.00\" text-anchor=\"middle\" x=\"271\" y=\"-87.8\">41</text>\n",
       "</g>\n",
       "<!-- 140526306141688&#45;&#45;140526306142528 -->\n",
       "<g class=\"edge\" id=\"edge2\"><title>140526306141688--140526306142528</title>\n",
       "<path d=\"M185.513,-146.313C200.135,-135.15 219.114,-120.66 233.695,-109.529\" fill=\"none\" stroke=\"black\"/>\n",
       "</g>\n",
       "<!-- 140526306403328 -->\n",
       "<g class=\"node\" id=\"node4\"><title>140526306403328</title>\n",
       "<path d=\"M12,-0.5C12,-0.5 42,-0.5 42,-0.5 48,-0.5 54,-6.5 54,-12.5 54,-12.5 54,-24.5 54,-24.5 54,-30.5 48,-36.5 42,-36.5 42,-36.5 12,-36.5 12,-36.5 6,-36.5 0,-30.5 0,-24.5 0,-24.5 0,-12.5 0,-12.5 0,-6.5 6,-0.5 12,-0.5\" fill=\"none\" stroke=\"black\"/>\n",
       "<text font-family=\"Times,serif\" font-size=\"14.00\" text-anchor=\"middle\" x=\"11.5\" y=\"-14.8\">8</text>\n",
       "<polyline fill=\"none\" points=\"23,-0.5 23,-36.5 \" stroke=\"black\"/>\n",
       "<text font-family=\"Times,serif\" font-size=\"14.00\" text-anchor=\"middle\" x=\"38.5\" y=\"-14.8\">12</text>\n",
       "</g>\n",
       "<!-- 140526306404000&#45;&#45;140526306403328 -->\n",
       "<g class=\"edge\" id=\"edge3\"><title>140526306404000--140526306403328</title>\n",
       "<path d=\"M95.2135,-73.3129C81.0633,-62.1499 62.696,-47.6602 48.5859,-36.5288\" fill=\"none\" stroke=\"black\"/>\n",
       "</g>\n",
       "<!-- 140526306403496 -->\n",
       "<g class=\"node\" id=\"node5\"><title>140526306403496</title>\n",
       "<path d=\"M84,-0.5C84,-0.5 150,-0.5 150,-0.5 156,-0.5 162,-6.5 162,-12.5 162,-12.5 162,-24.5 162,-24.5 162,-30.5 156,-36.5 150,-36.5 150,-36.5 84,-36.5 84,-36.5 78,-36.5 72,-30.5 72,-24.5 72,-24.5 72,-12.5 72,-12.5 72,-6.5 78,-0.5 84,-0.5\" fill=\"none\" stroke=\"black\"/>\n",
       "<text font-family=\"Times,serif\" font-size=\"14.00\" text-anchor=\"middle\" x=\"87\" y=\"-14.8\">18</text>\n",
       "<polyline fill=\"none\" points=\"102,-0.5 102,-36.5 \" stroke=\"black\"/>\n",
       "<text font-family=\"Times,serif\" font-size=\"14.00\" text-anchor=\"middle\" x=\"117\" y=\"-14.8\">19</text>\n",
       "<polyline fill=\"none\" points=\"132,-0.5 132,-36.5 \" stroke=\"black\"/>\n",
       "<text font-family=\"Times,serif\" font-size=\"14.00\" text-anchor=\"middle\" x=\"147\" y=\"-14.8\">20</text>\n",
       "</g>\n",
       "<!-- 140526306404000&#45;&#45;140526306403496 -->\n",
       "<g class=\"edge\" id=\"edge4\"><title>140526306404000--140526306403496</title>\n",
       "<path d=\"M117,-73.3129C117,-62.1499 117,-47.6602 117,-36.5288\" fill=\"none\" stroke=\"black\"/>\n",
       "</g>\n",
       "<!-- 140526307461440 -->\n",
       "<g class=\"node\" id=\"node6\"><title>140526307461440</title>\n",
       "<path d=\"M192,-0.5C192,-0.5 228,-0.5 228,-0.5 234,-0.5 240,-6.5 240,-12.5 240,-12.5 240,-24.5 240,-24.5 240,-30.5 234,-36.5 228,-36.5 228,-36.5 192,-36.5 192,-36.5 186,-36.5 180,-30.5 180,-24.5 180,-24.5 180,-12.5 180,-12.5 180,-6.5 186,-0.5 192,-0.5\" fill=\"none\" stroke=\"black\"/>\n",
       "<text font-family=\"Times,serif\" font-size=\"14.00\" text-anchor=\"middle\" x=\"195\" y=\"-14.8\">24</text>\n",
       "<polyline fill=\"none\" points=\"210,-0.5 210,-36.5 \" stroke=\"black\"/>\n",
       "<text font-family=\"Times,serif\" font-size=\"14.00\" text-anchor=\"middle\" x=\"225\" y=\"-14.8\">25</text>\n",
       "</g>\n",
       "<!-- 140526306142528&#45;&#45;140526307461440 -->\n",
       "<g class=\"edge\" id=\"edge5\"><title>140526306142528--140526307461440</title>\n",
       "<path d=\"M244.865,-73.3129C237.632,-62.1499 228.245,-47.6602 221.033,-36.5288\" fill=\"none\" stroke=\"black\"/>\n",
       "</g>\n",
       "<!-- 140526307461328 -->\n",
       "<g class=\"node\" id=\"node7\"><title>140526307461328</title>\n",
       "<path d=\"M270,-0.5C270,-0.5 336,-0.5 336,-0.5 342,-0.5 348,-6.5 348,-12.5 348,-12.5 348,-24.5 348,-24.5 348,-30.5 342,-36.5 336,-36.5 336,-36.5 270,-36.5 270,-36.5 264,-36.5 258,-30.5 258,-24.5 258,-24.5 258,-12.5 258,-12.5 258,-6.5 264,-0.5 270,-0.5\" fill=\"none\" stroke=\"black\"/>\n",
       "<text font-family=\"Times,serif\" font-size=\"14.00\" text-anchor=\"middle\" x=\"273\" y=\"-14.8\">30</text>\n",
       "<polyline fill=\"none\" points=\"288,-0.5 288,-36.5 \" stroke=\"black\"/>\n",
       "<text font-family=\"Times,serif\" font-size=\"14.00\" text-anchor=\"middle\" x=\"303\" y=\"-14.8\">35</text>\n",
       "<polyline fill=\"none\" points=\"318,-0.5 318,-36.5 \" stroke=\"black\"/>\n",
       "<text font-family=\"Times,serif\" font-size=\"14.00\" text-anchor=\"middle\" x=\"333\" y=\"-14.8\">38</text>\n",
       "</g>\n",
       "<!-- 140526306142528&#45;&#45;140526307461328 -->\n",
       "<g class=\"edge\" id=\"edge6\"><title>140526306142528--140526307461328</title>\n",
       "<path d=\"M267.377,-73.3129C274.767,-62.1499 284.359,-47.6602 291.727,-36.5288\" fill=\"none\" stroke=\"black\"/>\n",
       "</g>\n",
       "<!-- 140526306142472 -->\n",
       "<g class=\"node\" id=\"node8\"><title>140526306142472</title>\n",
       "<path d=\"M378,-0.5C378,-0.5 414,-0.5 414,-0.5 420,-0.5 426,-6.5 426,-12.5 426,-12.5 426,-24.5 426,-24.5 426,-30.5 420,-36.5 414,-36.5 414,-36.5 378,-36.5 378,-36.5 372,-36.5 366,-30.5 366,-24.5 366,-24.5 366,-12.5 366,-12.5 366,-6.5 372,-0.5 378,-0.5\" fill=\"none\" stroke=\"black\"/>\n",
       "<text font-family=\"Times,serif\" font-size=\"14.00\" text-anchor=\"middle\" x=\"381\" y=\"-14.8\">45</text>\n",
       "<polyline fill=\"none\" points=\"396,-0.5 396,-36.5 \" stroke=\"black\"/>\n",
       "<text font-family=\"Times,serif\" font-size=\"14.00\" text-anchor=\"middle\" x=\"411\" y=\"-14.8\">48</text>\n",
       "</g>\n",
       "<!-- 140526306142528&#45;&#45;140526306142472 -->\n",
       "<g class=\"edge\" id=\"edge7\"><title>140526306142528--140526306142472</title>\n",
       "<path d=\"M286.034,-75.2687C309.494,-63.3708 341.962,-46.9048 365.533,-34.9511\" fill=\"none\" stroke=\"black\"/>\n",
       "</g>\n",
       "</g>\n",
       "</svg>"
      ],
      "text/plain": [
       "<IPython.core.display.SVG object>"
      ]
     },
     "execution_count": 461,
     "metadata": {},
     "output_type": "execute_result"
    }
   ],
   "source": [
    "btree.display(Dummy)"
   ]
  },
  {
   "cell_type": "markdown",
   "metadata": {},
   "source": [
    "\n",
    "## Exercice 1.3 : En ordre\n",
    "\n",
    "Écrire une fonction qui construit une liste des clés d'un B-arbre en ordre croissant"
   ]
  },
  {
   "cell_type": "code",
   "execution_count": 462,
   "metadata": {
    "collapsed": true
   },
   "outputs": [],
   "source": [
    "def __btreeseq(B, L):\n",
    "    if not B.children:\n",
    "        for i in range(B.nbkeys):\n",
    "            L.append(B.keys[i])\n",
    "    else:\n",
    "        for i in range(B.nbkeys):\n",
    "            __btreeseq(B.children[i], L)\n",
    "            L.append(B.keys[i])\n",
    "        __btreeseq(B.children[B.nbkeys], L)\n",
    "        \n",
    "def btreeseq(B):\n",
    "    L = []\n",
    "    __btreeseq(B, L)\n",
    "    return L"
   ]
  },
  {
   "cell_type": "code",
   "execution_count": 463,
   "metadata": {},
   "outputs": [
    {
     "data": {
      "text/plain": [
       "[8, 12, 15, 18, 19, 20, 22, 24, 25, 27, 30, 35, 38, 41, 45, 48]"
      ]
     },
     "execution_count": 463,
     "metadata": {},
     "output_type": "execute_result"
    }
   ],
   "source": [
    "btreeseq(Dummy)"
   ]
  },
  {
   "cell_type": "markdown",
   "metadata": {},
   "source": [
    "## Exercice 1.4 : Représentation linéaire\n",
    "\n",
    "### Sérialisation d'un B-arbre\n",
    "\n",
    "En traitement préfixe on affiche la liste des clés d'un noeud puis en traitement suffice on ferme la parenthèse."
   ]
  },
  {
   "cell_type": "code",
   "execution_count": 464,
   "metadata": {
    "collapsed": true
   },
   "outputs": [],
   "source": [
    "def __btreetolist(B):\n",
    "    s = \"(<\" + str(B.keys[0])\n",
    "    for i in range(1, B.nbkeys):\n",
    "        s += \",\" + str(B.keys[i])\n",
    "    s += \">\"\n",
    "    for child in B.children:\n",
    "           s += __btreetolist(child)\n",
    "    return s + \")\"\n",
    "    \n",
    "def btreetolist(B):\n",
    "    if not B:\n",
    "        return \"()\"\n",
    "    return __btreetolist(B)"
   ]
  },
  {
   "cell_type": "code",
   "execution_count": 465,
   "metadata": {},
   "outputs": [
    {
     "data": {
      "text/plain": [
       "'(<22>(<15>(<8,12>)(<18,19,20>))(<27,41>(<24,25>)(<30,35,38>)(<45,48>)))'"
      ]
     },
     "execution_count": 465,
     "metadata": {},
     "output_type": "execute_result"
    }
   ],
   "source": [
    "btreetolist(Dummy)"
   ]
  },
  {
   "cell_type": "markdown",
   "metadata": {},
   "source": [
    "### D'une liste vers un B-arbre\n",
    "\n",
    "Afin de pouvoir lire les fils d'un noeuds il est nécessaire de renvoyer la position courante de lecture de la chaine de charactère."
   ]
  },
  {
   "cell_type": "code",
   "execution_count": 466,
   "metadata": {
    "collapsed": true
   },
   "outputs": [],
   "source": [
    "def __fromlist(s, i = 0): \n",
    "    if i < len(s) and s[i] == '(':   # can this test be removed?\n",
    "        i = i + 2 # to pass the '(<'\n",
    "        B = BTree()\n",
    "        while s[i] != '>':\n",
    "            key = \"\"            \n",
    "            while not(s[i] in ',>'):\n",
    "                key += s[i]\n",
    "                i += 1\n",
    "            B.keys.append(int(key))\n",
    "            if s[i] == ',':\n",
    "                i += 1 \n",
    "        i += 1  # to pass the '>'\n",
    "        B.children = []\n",
    "        while s[i] != ')':\n",
    "            (C, i) = __fromlist(s, i)\n",
    "            B.children.append(C)\n",
    "        i = i + 1   # to pass the ')'\n",
    "        return (B, i)\n",
    "    else:\n",
    "        return None\n",
    "\n",
    "def fromlist(s, d):\n",
    "    BTree.degree = d\n",
    "    (B, _) = __fromlist(s)\n",
    "    return B"
   ]
  },
  {
   "cell_type": "markdown",
   "metadata": {
    "collapsed": true
   },
   "source": [
    "# 2. Les classiques\n",
    "\n",
    "Pour simplifier : dans un noeud le fils gauche de la clé i correspond au ieme fils du noeud, le fils droit au ieme + 1.\n",
    "\n",
    "## Exercice 2.1 : Minimum et maximum\n",
    "\n",
    "### 1. Où se trouve la valeur minimal et celle maximale d'un B-arbre?\n",
    "\n",
    "Les valeurs extrémales sont en feuilles : la minimale dans la feuille la plus à gauche, celle maximale dans la plus à droite.\n",
    "\n",
    "### 2. Écrire les fonctions qui permettent de récupérer les valeurs minimales et maximales d'un B-arbre."
   ]
  },
  {
   "cell_type": "code",
   "execution_count": 467,
   "metadata": {
    "collapsed": true
   },
   "outputs": [],
   "source": [
    "def bmin(B):\n",
    "    if not B:\n",
    "        return None\n",
    "    while B.children: \n",
    "        B = B.children[0]\n",
    "    return B.keys[0]\n",
    "    "
   ]
  },
  {
   "cell_type": "code",
   "execution_count": 468,
   "metadata": {},
   "outputs": [
    {
     "data": {
      "text/plain": [
       "8"
      ]
     },
     "execution_count": 468,
     "metadata": {},
     "output_type": "execute_result"
    }
   ],
   "source": [
    "bmin(Dummy)"
   ]
  },
  {
   "cell_type": "markdown",
   "metadata": {},
   "source": [
    "En récursif"
   ]
  },
  {
   "cell_type": "code",
   "execution_count": 469,
   "metadata": {
    "collapsed": true
   },
   "outputs": [],
   "source": [
    "def _minbtree(B):\n",
    "    if B.children:\n",
    "        return _minbtree(B.children[0])\n",
    "    else:\n",
    "        return B.keys[0]  \n",
    "    \n",
    "def minbtree(B):\n",
    "    if not B:\n",
    "        return None\n",
    "    return _minbtree(B)"
   ]
  },
  {
   "cell_type": "code",
   "execution_count": 470,
   "metadata": {},
   "outputs": [
    {
     "data": {
      "text/plain": [
       "8"
      ]
     },
     "execution_count": 470,
     "metadata": {},
     "output_type": "execute_result"
    }
   ],
   "source": [
    "minbtree(Dummy)"
   ]
  },
  {
   "cell_type": "code",
   "execution_count": 471,
   "metadata": {
    "collapsed": true
   },
   "outputs": [],
   "source": [
    "def bmax(B):\n",
    "    if not B:\n",
    "        return None\n",
    "    while B.children: \n",
    "        B = B.children[-1]\n",
    "    return B.keys[-1]"
   ]
  },
  {
   "cell_type": "code",
   "execution_count": 472,
   "metadata": {},
   "outputs": [
    {
     "data": {
      "text/plain": [
       "48"
      ]
     },
     "execution_count": 472,
     "metadata": {},
     "output_type": "execute_result"
    }
   ],
   "source": [
    "bmax(Dummy)"
   ]
  },
  {
   "cell_type": "code",
   "execution_count": 473,
   "metadata": {
    "collapsed": true
   },
   "outputs": [],
   "source": [
    "def _maxbtree(B):\n",
    "    if B.children:\n",
    "        return _maxbtree(B.children[-1])\n",
    "    else:\n",
    "        return B.keys[-1]  \n",
    "    \n",
    "def maxbtree(B):\n",
    "    if not B:\n",
    "        return None\n",
    "    return _maxbtree(B)"
   ]
  },
  {
   "cell_type": "code",
   "execution_count": 474,
   "metadata": {},
   "outputs": [
    {
     "data": {
      "text/plain": [
       "48"
      ]
     },
     "execution_count": 474,
     "metadata": {},
     "output_type": "execute_result"
    }
   ],
   "source": [
    "maxbtree(Dummy)"
   ]
  },
  {
   "cell_type": "markdown",
   "metadata": {
    "collapsed": true
   },
   "source": [
    "## Exercice 2.2 : Recherche\n",
    "\n",
    "Une fonction recherche d'un éléments dans un B-arbre : elle retourne <tt>(N, i)</tt> si l'élément recherché est à la clé <tt>i</tt> du noeud <tt>N</tt> et <tt>None</tt> sinon."
   ]
  },
  {
   "cell_type": "code",
   "execution_count": 475,
   "metadata": {},
   "outputs": [],
   "source": [
    "def ksearch(L, x, r):\n",
    "    l = 0\n",
    "    m = (r + l) // 2\n",
    "    while r > l and L[m] != x:\n",
    "        if x < L[m]:\n",
    "            r = m\n",
    "        else:\n",
    "            l = m + 1\n",
    "        m = (r + l) // 2\n",
    "    return m \n",
    "\n",
    "def bsearch(A, x):\n",
    "    i = ksearch(A.keys, x, A.nbkeys)\n",
    "    if i < A.nbkeys and A.keys[i] == x:\n",
    "        return A, i\n",
    "    if A.children:\n",
    "        return bsearch(A.children[i], x)"
   ]
  },
  {
   "cell_type": "code",
   "execution_count": 476,
   "metadata": {},
   "outputs": [
    {
     "data": {
      "text/plain": [
       "0"
      ]
     },
     "execution_count": 476,
     "metadata": {},
     "output_type": "execute_result"
    }
   ],
   "source": [
    "ksearch([1,2,4,5,26,32], 0, 6)"
   ]
  },
  {
   "cell_type": "code",
   "execution_count": 477,
   "metadata": {},
   "outputs": [
    {
     "data": {
      "text/plain": [
       "(<__main__.B234 at 0x7fced48f2908>, 1)"
      ]
     },
     "execution_count": 477,
     "metadata": {},
     "output_type": "execute_result"
    }
   ],
   "source": [
    "bsearch(Dummy, 48)"
   ]
  },
  {
   "cell_type": "markdown",
   "metadata": {
    "collapsed": true
   },
   "source": [
    "## Exercice 2.3 : Insérer un nouvel élément (méthode classique)\n",
    "\n",
    "\n",
    "### 1.a. Où peut-on insérer un nouvel élément dans un B-arbre afin qu'il conserve ces propriétés?\n",
    "\n",
    "En feuille, à condition qu'il y ai suffisamment de place: le remplissage des clés ne doit pas être égal à <tt>2t-1</tt> où <tt>t</tt> est le degré du B-arbre avec lequel on travaille.\n",
    "\n",
    "### 1.b. Quel problème cela pose?\n",
    "\n",
    "Le fait de savoir s'il y a assez de place en feuille.\n",
    "\n",
    "### 1.c. Quelle transformation peut-être appliquée à l'arbre pour le résoudre? Dans quelles conditions peut-on effectuer cette transformation?\n",
    "\n",
    "On peut éclater la feuille courante à la position médiane pour obtenir deux feuilles contenant <tt>t-1</tt> clés chacune, la clé mediane remonte vers le noeud père. Cette transformation ne peut être effectuée que si le noeud père n'est pas plein à son tour.\n",
    "\n",
    "### 1.d. Écrire cette transformation dans le cas où le noeuds père n'est pas plein et le noeud courant n'est pas la racine. "
   ]
  },
  {
   "cell_type": "code",
   "execution_count": 478,
   "metadata": {
    "collapsed": true
   },
   "outputs": [],
   "source": [
    "def bsplit(A, i):\n",
    "    \"\"\"Split child i of node\n",
    "    \n",
    "    Splitting full child i of A assuming A has enough room \n",
    "    for median element\n",
    "    \n",
    "    \"\"\"\n",
    "    t = A.degree  # degree of B-tree. mid index is t-1\n",
    "    Cil = A.children[i]\n",
    "    \n",
    "    # Upgrading median key to father's key\n",
    "    A.keys.insert(i, Cil.keys[t-1])\n",
    "    \n",
    "    # Splitting node\n",
    "    Cir = BTree()\n",
    "    Cir.degree = t\n",
    "    \n",
    "    # Building up the split subtrees\n",
    "    (Cir.keys, Cil.keys) = (Cil.keys[t:], Cil.keys[:t-1])\n",
    "    (Cir.children, Cil.children) = (Cil.children[t:], Cil.children[:t])\n",
    "    \n",
    "    # Updating list of children of A\n",
    "    A.children.insert(i+1, Cir) \n",
    "\n",
    "    return(A)"
   ]
  },
  {
   "cell_type": "code",
   "execution_count": 479,
   "metadata": {
    "collapsed": true
   },
   "outputs": [],
   "source": [
    "subDummy = B234([15],[B234([8, 12]), B234([18, 19, 20])])"
   ]
  },
  {
   "cell_type": "code",
   "execution_count": 480,
   "metadata": {},
   "outputs": [
    {
     "data": {
      "image/svg+xml": [
       "<svg height=\"118pt\" viewBox=\"0.00 0.00 170.00 118.00\" width=\"170pt\" xmlns=\"http://www.w3.org/2000/svg\" xmlns:xlink=\"http://www.w3.org/1999/xlink\">\n",
       "<g class=\"graph\" id=\"graph0\" transform=\"scale(1 1) rotate(0) translate(4 114)\">\n",
       "<title>temp</title>\n",
       "<polygon fill=\"white\" points=\"-4,4 -4,-114 166,-114 166,4 -4,4\" stroke=\"none\"/>\n",
       "<!-- 140526306006800 -->\n",
       "<g class=\"node\" id=\"node1\"><title>140526306006800</title>\n",
       "<path d=\"M57,-73.5C57,-73.5 87,-73.5 87,-73.5 93,-73.5 99,-79.5 99,-85.5 99,-85.5 99,-97.5 99,-97.5 99,-103.5 93,-109.5 87,-109.5 87,-109.5 57,-109.5 57,-109.5 51,-109.5 45,-103.5 45,-97.5 45,-97.5 45,-85.5 45,-85.5 45,-79.5 51,-73.5 57,-73.5\" fill=\"none\" stroke=\"black\"/>\n",
       "<text font-family=\"Times,serif\" font-size=\"14.00\" text-anchor=\"middle\" x=\"72\" y=\"-87.8\">15</text>\n",
       "</g>\n",
       "<!-- 140526305938232 -->\n",
       "<g class=\"node\" id=\"node2\"><title>140526305938232</title>\n",
       "<path d=\"M12,-0.5C12,-0.5 42,-0.5 42,-0.5 48,-0.5 54,-6.5 54,-12.5 54,-12.5 54,-24.5 54,-24.5 54,-30.5 48,-36.5 42,-36.5 42,-36.5 12,-36.5 12,-36.5 6,-36.5 0,-30.5 0,-24.5 0,-24.5 0,-12.5 0,-12.5 0,-6.5 6,-0.5 12,-0.5\" fill=\"none\" stroke=\"black\"/>\n",
       "<text font-family=\"Times,serif\" font-size=\"14.00\" text-anchor=\"middle\" x=\"11.5\" y=\"-14.8\">8</text>\n",
       "<polyline fill=\"none\" points=\"23,-0.5 23,-36.5 \" stroke=\"black\"/>\n",
       "<text font-family=\"Times,serif\" font-size=\"14.00\" text-anchor=\"middle\" x=\"38.5\" y=\"-14.8\">12</text>\n",
       "</g>\n",
       "<!-- 140526306006800&#45;&#45;140526305938232 -->\n",
       "<g class=\"edge\" id=\"edge1\"><title>140526306006800--140526305938232</title>\n",
       "<path d=\"M61.1068,-73.3129C54.0316,-62.1499 44.848,-47.6602 37.7929,-36.5288\" fill=\"none\" stroke=\"black\"/>\n",
       "</g>\n",
       "<!-- 140526306005456 -->\n",
       "<g class=\"node\" id=\"node3\"><title>140526306005456</title>\n",
       "<path d=\"M84,-0.5C84,-0.5 150,-0.5 150,-0.5 156,-0.5 162,-6.5 162,-12.5 162,-12.5 162,-24.5 162,-24.5 162,-30.5 156,-36.5 150,-36.5 150,-36.5 84,-36.5 84,-36.5 78,-36.5 72,-30.5 72,-24.5 72,-24.5 72,-12.5 72,-12.5 72,-6.5 78,-0.5 84,-0.5\" fill=\"none\" stroke=\"black\"/>\n",
       "<text font-family=\"Times,serif\" font-size=\"14.00\" text-anchor=\"middle\" x=\"87\" y=\"-14.8\">18</text>\n",
       "<polyline fill=\"none\" points=\"102,-0.5 102,-36.5 \" stroke=\"black\"/>\n",
       "<text font-family=\"Times,serif\" font-size=\"14.00\" text-anchor=\"middle\" x=\"117\" y=\"-14.8\">19</text>\n",
       "<polyline fill=\"none\" points=\"132,-0.5 132,-36.5 \" stroke=\"black\"/>\n",
       "<text font-family=\"Times,serif\" font-size=\"14.00\" text-anchor=\"middle\" x=\"147\" y=\"-14.8\">20</text>\n",
       "</g>\n",
       "<!-- 140526306006800&#45;&#45;140526306005456 -->\n",
       "<g class=\"edge\" id=\"edge2\"><title>140526306006800--140526306005456</title>\n",
       "<path d=\"M82.8932,-73.3129C89.9684,-62.1499 99.152,-47.6602 106.207,-36.5288\" fill=\"none\" stroke=\"black\"/>\n",
       "</g>\n",
       "</g>\n",
       "</svg>"
      ],
      "text/plain": [
       "<IPython.core.display.SVG object>"
      ]
     },
     "execution_count": 480,
     "metadata": {},
     "output_type": "execute_result"
    }
   ],
   "source": [
    "btree.display(subDummy)"
   ]
  },
  {
   "cell_type": "code",
   "execution_count": 481,
   "metadata": {},
   "outputs": [
    {
     "data": {
      "text/plain": [
       "<__main__.B234 at 0x7fced48d1710>"
      ]
     },
     "execution_count": 481,
     "metadata": {},
     "output_type": "execute_result"
    }
   ],
   "source": [
    "bsplit(subDummy, 1)"
   ]
  },
  {
   "cell_type": "code",
   "execution_count": 482,
   "metadata": {},
   "outputs": [
    {
     "data": {
      "image/svg+xml": [
       "<svg height=\"118pt\" viewBox=\"0.00 0.00 206.00 118.00\" width=\"206pt\" xmlns=\"http://www.w3.org/2000/svg\" xmlns:xlink=\"http://www.w3.org/1999/xlink\">\n",
       "<g class=\"graph\" id=\"graph0\" transform=\"scale(1 1) rotate(0) translate(4 114)\">\n",
       "<title>temp</title>\n",
       "<polygon fill=\"white\" points=\"-4,4 -4,-114 202,-114 202,4 -4,4\" stroke=\"none\"/>\n",
       "<!-- 140526306006800 -->\n",
       "<g class=\"node\" id=\"node1\"><title>140526306006800</title>\n",
       "<path d=\"M81,-73.5C81,-73.5 117,-73.5 117,-73.5 123,-73.5 129,-79.5 129,-85.5 129,-85.5 129,-97.5 129,-97.5 129,-103.5 123,-109.5 117,-109.5 117,-109.5 81,-109.5 81,-109.5 75,-109.5 69,-103.5 69,-97.5 69,-97.5 69,-85.5 69,-85.5 69,-79.5 75,-73.5 81,-73.5\" fill=\"none\" stroke=\"black\"/>\n",
       "<text font-family=\"Times,serif\" font-size=\"14.00\" text-anchor=\"middle\" x=\"84\" y=\"-87.8\">15</text>\n",
       "<polyline fill=\"none\" points=\"99,-73.5 99,-109.5 \" stroke=\"black\"/>\n",
       "<text font-family=\"Times,serif\" font-size=\"14.00\" text-anchor=\"middle\" x=\"114\" y=\"-87.8\">19</text>\n",
       "</g>\n",
       "<!-- 140526305938232 -->\n",
       "<g class=\"node\" id=\"node2\"><title>140526305938232</title>\n",
       "<path d=\"M12,-0.5C12,-0.5 42,-0.5 42,-0.5 48,-0.5 54,-6.5 54,-12.5 54,-12.5 54,-24.5 54,-24.5 54,-30.5 48,-36.5 42,-36.5 42,-36.5 12,-36.5 12,-36.5 6,-36.5 0,-30.5 0,-24.5 0,-24.5 0,-12.5 0,-12.5 0,-6.5 6,-0.5 12,-0.5\" fill=\"none\" stroke=\"black\"/>\n",
       "<text font-family=\"Times,serif\" font-size=\"14.00\" text-anchor=\"middle\" x=\"11.5\" y=\"-14.8\">8</text>\n",
       "<polyline fill=\"none\" points=\"23,-0.5 23,-36.5 \" stroke=\"black\"/>\n",
       "<text font-family=\"Times,serif\" font-size=\"14.00\" text-anchor=\"middle\" x=\"38.5\" y=\"-14.8\">12</text>\n",
       "</g>\n",
       "<!-- 140526306006800&#45;&#45;140526305938232 -->\n",
       "<g class=\"edge\" id=\"edge1\"><title>140526306006800--140526305938232</title>\n",
       "<path d=\"M81.5708,-73.3129C70.2506,-62.1499 55.5568,-47.6602 44.2687,-36.5288\" fill=\"none\" stroke=\"black\"/>\n",
       "</g>\n",
       "<!-- 140526306005456 -->\n",
       "<g class=\"node\" id=\"node3\"><title>140526306005456</title>\n",
       "<path d=\"M84,-0.5C84,-0.5 114,-0.5 114,-0.5 120,-0.5 126,-6.5 126,-12.5 126,-12.5 126,-24.5 126,-24.5 126,-30.5 120,-36.5 114,-36.5 114,-36.5 84,-36.5 84,-36.5 78,-36.5 72,-30.5 72,-24.5 72,-24.5 72,-12.5 72,-12.5 72,-6.5 78,-0.5 84,-0.5\" fill=\"none\" stroke=\"black\"/>\n",
       "<text font-family=\"Times,serif\" font-size=\"14.00\" text-anchor=\"middle\" x=\"99\" y=\"-14.8\">18</text>\n",
       "</g>\n",
       "<!-- 140526306006800&#45;&#45;140526306005456 -->\n",
       "<g class=\"edge\" id=\"edge2\"><title>140526306006800--140526306005456</title>\n",
       "<path d=\"M99,-73.3129C99,-62.1499 99,-47.6602 99,-36.5288\" fill=\"none\" stroke=\"black\"/>\n",
       "</g>\n",
       "<!-- 140526307559296 -->\n",
       "<g class=\"node\" id=\"node4\"><title>140526307559296</title>\n",
       "<path d=\"M156,-0.5C156,-0.5 186,-0.5 186,-0.5 192,-0.5 198,-6.5 198,-12.5 198,-12.5 198,-24.5 198,-24.5 198,-30.5 192,-36.5 186,-36.5 186,-36.5 156,-36.5 156,-36.5 150,-36.5 144,-30.5 144,-24.5 144,-24.5 144,-12.5 144,-12.5 144,-6.5 150,-0.5 156,-0.5\" fill=\"none\" stroke=\"black\"/>\n",
       "<text font-family=\"Times,serif\" font-size=\"14.00\" text-anchor=\"middle\" x=\"171\" y=\"-14.8\">20</text>\n",
       "</g>\n",
       "<!-- 140526306006800&#45;&#45;140526307559296 -->\n",
       "<g class=\"edge\" id=\"edge3\"><title>140526306006800--140526307559296</title>\n",
       "<path d=\"M116.429,-73.3129C127.749,-62.1499 142.443,-47.6602 153.731,-36.5288\" fill=\"none\" stroke=\"black\"/>\n",
       "</g>\n",
       "</g>\n",
       "</svg>"
      ],
      "text/plain": [
       "<IPython.core.display.SVG object>"
      ]
     },
     "execution_count": 482,
     "metadata": {},
     "output_type": "execute_result"
    }
   ],
   "source": [
    "btree.display(subDummy)"
   ]
  },
  {
   "cell_type": "markdown",
   "metadata": {},
   "source": [
    "### 2. Donner le principe d'insertion à la descente et à la remontée\n",
    "\n",
    "Pour le principe d'insertion à la descente on éclate tous les noeuds pleins, en particulier on rajoute une racine si la racine l'est. Pour ce qui est de l'insertion à la remontée on doit éclater successivement tous les pères pleins de la feuille pleine d'insertion jusqu'à trouver de la place; on ajoute une racine si cette remontée est infructueuse."
   ]
  },
  {
   "cell_type": "markdown",
   "metadata": {},
   "source": [
    "### 3. Écrire la fonction dans un B-arbre en appliquant le principe de précaution\n"
   ]
  },
  {
   "cell_type": "code",
   "execution_count": 483,
   "metadata": {
    "collapsed": true
   },
   "outputs": [],
   "source": [
    "def _binsert(A, x, t):\n",
    "    i = ksearch(A.keys, x, A.nbkeys)\n",
    "    print(\"ksearch result: {}\".format(i))\n",
    "    if i >= A.nbkeys or A.keys[i] != x:\n",
    "        if A.children:\n",
    "            Ci = A.children[i]\n",
    "            if Ci.nbkeys == (2*t - 1):\n",
    "                bsplit(A, i)\n",
    "                if x > A.keys[i]:\n",
    "                    Ci = A.children[i+1]\n",
    "            _binsert(Ci, x, t)\n",
    "        else:\n",
    "            A.keys.insert(i, x) #leaf\n",
    "\n",
    "def binsert(A, x, t): #Giving degree, needed when A is none.\n",
    "    if not A:\n",
    "        return BTree([x], [])\n",
    "    if A.nbkeys == (2*t - 1):        \n",
    "        A = BTree([], [A])\n",
    "        A.degree = t\n",
    "        bsplit(A, 0)\n",
    "    _binsert(A, x, t)\n",
    "    return A"
   ]
  },
  {
   "cell_type": "code",
   "execution_count": 484,
   "metadata": {},
   "outputs": [
    {
     "name": "stdout",
     "output_type": "stream",
     "text": [
      "ksearch result: 1\n",
      "ksearch result: 1\n",
      "ksearch result: 0\n"
     ]
    },
    {
     "data": {
      "image/svg+xml": [
       "<svg height=\"191pt\" viewBox=\"0.00 0.00 476.00 191.00\" width=\"476pt\" xmlns=\"http://www.w3.org/2000/svg\" xmlns:xlink=\"http://www.w3.org/1999/xlink\">\n",
       "<g class=\"graph\" id=\"graph0\" transform=\"scale(1 1) rotate(0) translate(4 187)\">\n",
       "<title>temp</title>\n",
       "<polygon fill=\"white\" points=\"-4,4 -4,-187 472,-187 472,4 -4,4\" stroke=\"none\"/>\n",
       "<!-- 140526306141688 -->\n",
       "<g class=\"node\" id=\"node1\"><title>140526306141688</title>\n",
       "<path d=\"M186,-146.5C186,-146.5 216,-146.5 216,-146.5 222,-146.5 228,-152.5 228,-158.5 228,-158.5 228,-170.5 228,-170.5 228,-176.5 222,-182.5 216,-182.5 216,-182.5 186,-182.5 186,-182.5 180,-182.5 174,-176.5 174,-170.5 174,-170.5 174,-158.5 174,-158.5 174,-152.5 180,-146.5 186,-146.5\" fill=\"none\" stroke=\"black\"/>\n",
       "<text font-family=\"Times,serif\" font-size=\"14.00\" text-anchor=\"middle\" x=\"201\" y=\"-160.8\">22</text>\n",
       "</g>\n",
       "<!-- 140526306404000 -->\n",
       "<g class=\"node\" id=\"node2\"><title>140526306404000</title>\n",
       "<path d=\"M102,-73.5C102,-73.5 132,-73.5 132,-73.5 138,-73.5 144,-79.5 144,-85.5 144,-85.5 144,-97.5 144,-97.5 144,-103.5 138,-109.5 132,-109.5 132,-109.5 102,-109.5 102,-109.5 96,-109.5 90,-103.5 90,-97.5 90,-97.5 90,-85.5 90,-85.5 90,-79.5 96,-73.5 102,-73.5\" fill=\"none\" stroke=\"black\"/>\n",
       "<text font-family=\"Times,serif\" font-size=\"14.00\" text-anchor=\"middle\" x=\"117\" y=\"-87.8\">15</text>\n",
       "</g>\n",
       "<!-- 140526306141688&#45;&#45;140526306404000 -->\n",
       "<g class=\"edge\" id=\"edge1\"><title>140526306141688--140526306404000</title>\n",
       "<path d=\"M180.666,-146.313C167.459,-135.15 150.316,-120.66 137.147,-109.529\" fill=\"none\" stroke=\"black\"/>\n",
       "</g>\n",
       "<!-- 140526306142528 -->\n",
       "<g class=\"node\" id=\"node3\"><title>140526306142528</title>\n",
       "<path d=\"M252,-73.5C252,-73.5 318,-73.5 318,-73.5 324,-73.5 330,-79.5 330,-85.5 330,-85.5 330,-97.5 330,-97.5 330,-103.5 324,-109.5 318,-109.5 318,-109.5 252,-109.5 252,-109.5 246,-109.5 240,-103.5 240,-97.5 240,-97.5 240,-85.5 240,-85.5 240,-79.5 246,-73.5 252,-73.5\" fill=\"none\" stroke=\"black\"/>\n",
       "<text font-family=\"Times,serif\" font-size=\"14.00\" text-anchor=\"middle\" x=\"255\" y=\"-87.8\">27</text>\n",
       "<polyline fill=\"none\" points=\"270,-73.5 270,-109.5 \" stroke=\"black\"/>\n",
       "<text font-family=\"Times,serif\" font-size=\"14.00\" text-anchor=\"middle\" x=\"285\" y=\"-87.8\">35</text>\n",
       "<polyline fill=\"none\" points=\"300,-73.5 300,-109.5 \" stroke=\"black\"/>\n",
       "<text font-family=\"Times,serif\" font-size=\"14.00\" text-anchor=\"middle\" x=\"315\" y=\"-87.8\">41</text>\n",
       "</g>\n",
       "<!-- 140526306141688&#45;&#45;140526306142528 -->\n",
       "<g class=\"edge\" id=\"edge2\"><title>140526306141688--140526306142528</title>\n",
       "<path d=\"M221.334,-146.313C234.541,-135.15 251.684,-120.66 264.853,-109.529\" fill=\"none\" stroke=\"black\"/>\n",
       "</g>\n",
       "<!-- 140526306403328 -->\n",
       "<g class=\"node\" id=\"node4\"><title>140526306403328</title>\n",
       "<path d=\"M12,-0.5C12,-0.5 42,-0.5 42,-0.5 48,-0.5 54,-6.5 54,-12.5 54,-12.5 54,-24.5 54,-24.5 54,-30.5 48,-36.5 42,-36.5 42,-36.5 12,-36.5 12,-36.5 6,-36.5 0,-30.5 0,-24.5 0,-24.5 0,-12.5 0,-12.5 0,-6.5 6,-0.5 12,-0.5\" fill=\"none\" stroke=\"black\"/>\n",
       "<text font-family=\"Times,serif\" font-size=\"14.00\" text-anchor=\"middle\" x=\"11.5\" y=\"-14.8\">8</text>\n",
       "<polyline fill=\"none\" points=\"23,-0.5 23,-36.5 \" stroke=\"black\"/>\n",
       "<text font-family=\"Times,serif\" font-size=\"14.00\" text-anchor=\"middle\" x=\"38.5\" y=\"-14.8\">12</text>\n",
       "</g>\n",
       "<!-- 140526306404000&#45;&#45;140526306403328 -->\n",
       "<g class=\"edge\" id=\"edge3\"><title>140526306404000--140526306403328</title>\n",
       "<path d=\"M95.2135,-73.3129C81.0633,-62.1499 62.696,-47.6602 48.5859,-36.5288\" fill=\"none\" stroke=\"black\"/>\n",
       "</g>\n",
       "<!-- 140526306403496 -->\n",
       "<g class=\"node\" id=\"node5\"><title>140526306403496</title>\n",
       "<path d=\"M84,-0.5C84,-0.5 150,-0.5 150,-0.5 156,-0.5 162,-6.5 162,-12.5 162,-12.5 162,-24.5 162,-24.5 162,-30.5 156,-36.5 150,-36.5 150,-36.5 84,-36.5 84,-36.5 78,-36.5 72,-30.5 72,-24.5 72,-24.5 72,-12.5 72,-12.5 72,-6.5 78,-0.5 84,-0.5\" fill=\"none\" stroke=\"black\"/>\n",
       "<text font-family=\"Times,serif\" font-size=\"14.00\" text-anchor=\"middle\" x=\"87\" y=\"-14.8\">18</text>\n",
       "<polyline fill=\"none\" points=\"102,-0.5 102,-36.5 \" stroke=\"black\"/>\n",
       "<text font-family=\"Times,serif\" font-size=\"14.00\" text-anchor=\"middle\" x=\"117\" y=\"-14.8\">19</text>\n",
       "<polyline fill=\"none\" points=\"132,-0.5 132,-36.5 \" stroke=\"black\"/>\n",
       "<text font-family=\"Times,serif\" font-size=\"14.00\" text-anchor=\"middle\" x=\"147\" y=\"-14.8\">20</text>\n",
       "</g>\n",
       "<!-- 140526306404000&#45;&#45;140526306403496 -->\n",
       "<g class=\"edge\" id=\"edge4\"><title>140526306404000--140526306403496</title>\n",
       "<path d=\"M117,-73.3129C117,-62.1499 117,-47.6602 117,-36.5288\" fill=\"none\" stroke=\"black\"/>\n",
       "</g>\n",
       "<!-- 140526307461440 -->\n",
       "<g class=\"node\" id=\"node6\"><title>140526307461440</title>\n",
       "<path d=\"M192,-0.5C192,-0.5 228,-0.5 228,-0.5 234,-0.5 240,-6.5 240,-12.5 240,-12.5 240,-24.5 240,-24.5 240,-30.5 234,-36.5 228,-36.5 228,-36.5 192,-36.5 192,-36.5 186,-36.5 180,-30.5 180,-24.5 180,-24.5 180,-12.5 180,-12.5 180,-6.5 186,-0.5 192,-0.5\" fill=\"none\" stroke=\"black\"/>\n",
       "<text font-family=\"Times,serif\" font-size=\"14.00\" text-anchor=\"middle\" x=\"195\" y=\"-14.8\">24</text>\n",
       "<polyline fill=\"none\" points=\"210,-0.5 210,-36.5 \" stroke=\"black\"/>\n",
       "<text font-family=\"Times,serif\" font-size=\"14.00\" text-anchor=\"middle\" x=\"225\" y=\"-14.8\">25</text>\n",
       "</g>\n",
       "<!-- 140526306142528&#45;&#45;140526307461440 -->\n",
       "<g class=\"edge\" id=\"edge5\"><title>140526306142528--140526307461440</title>\n",
       "<path d=\"M266.845,-73.3129C255.053,-62.1499 239.747,-47.6602 227.988,-36.5288\" fill=\"none\" stroke=\"black\"/>\n",
       "</g>\n",
       "<!-- 140526307461328 -->\n",
       "<g class=\"node\" id=\"node7\"><title>140526307461328</title>\n",
       "<path d=\"M270,-0.5C270,-0.5 300,-0.5 300,-0.5 306,-0.5 312,-6.5 312,-12.5 312,-12.5 312,-24.5 312,-24.5 312,-30.5 306,-36.5 300,-36.5 300,-36.5 270,-36.5 270,-36.5 264,-36.5 258,-30.5 258,-24.5 258,-24.5 258,-12.5 258,-12.5 258,-6.5 264,-0.5 270,-0.5\" fill=\"none\" stroke=\"black\"/>\n",
       "<text font-family=\"Times,serif\" font-size=\"14.00\" text-anchor=\"middle\" x=\"285\" y=\"-14.8\">30</text>\n",
       "</g>\n",
       "<!-- 140526306142528&#45;&#45;140526307461328 -->\n",
       "<g class=\"edge\" id=\"edge6\"><title>140526306142528--140526307461328</title>\n",
       "<path d=\"M285,-73.3129C285,-62.1499 285,-47.6602 285,-36.5288\" fill=\"none\" stroke=\"black\"/>\n",
       "</g>\n",
       "<!-- 140526305753520 -->\n",
       "<g class=\"node\" id=\"node8\"><title>140526305753520</title>\n",
       "<path d=\"M342,-0.5C342,-0.5 378,-0.5 378,-0.5 384,-0.5 390,-6.5 390,-12.5 390,-12.5 390,-24.5 390,-24.5 390,-30.5 384,-36.5 378,-36.5 378,-36.5 342,-36.5 342,-36.5 336,-36.5 330,-30.5 330,-24.5 330,-24.5 330,-12.5 330,-12.5 330,-6.5 336,-0.5 342,-0.5\" fill=\"none\" stroke=\"black\"/>\n",
       "<text font-family=\"Times,serif\" font-size=\"14.00\" text-anchor=\"middle\" x=\"345\" y=\"-14.8\">36</text>\n",
       "<polyline fill=\"none\" points=\"360,-0.5 360,-36.5 \" stroke=\"black\"/>\n",
       "<text font-family=\"Times,serif\" font-size=\"14.00\" text-anchor=\"middle\" x=\"375\" y=\"-14.8\">38</text>\n",
       "</g>\n",
       "<!-- 140526306142528&#45;&#45;140526305753520 -->\n",
       "<g class=\"edge\" id=\"edge7\"><title>140526306142528--140526305753520</title>\n",
       "<path d=\"M303.155,-73.3129C314.947,-62.1499 330.253,-47.6602 342.012,-36.5288\" fill=\"none\" stroke=\"black\"/>\n",
       "</g>\n",
       "<!-- 140526306142472 -->\n",
       "<g class=\"node\" id=\"node9\"><title>140526306142472</title>\n",
       "<path d=\"M420,-0.5C420,-0.5 456,-0.5 456,-0.5 462,-0.5 468,-6.5 468,-12.5 468,-12.5 468,-24.5 468,-24.5 468,-30.5 462,-36.5 456,-36.5 456,-36.5 420,-36.5 420,-36.5 414,-36.5 408,-30.5 408,-24.5 408,-24.5 408,-12.5 408,-12.5 408,-6.5 414,-0.5 420,-0.5\" fill=\"none\" stroke=\"black\"/>\n",
       "<text font-family=\"Times,serif\" font-size=\"14.00\" text-anchor=\"middle\" x=\"423\" y=\"-14.8\">45</text>\n",
       "<polyline fill=\"none\" points=\"438,-0.5 438,-36.5 \" stroke=\"black\"/>\n",
       "<text font-family=\"Times,serif\" font-size=\"14.00\" text-anchor=\"middle\" x=\"453\" y=\"-14.8\">48</text>\n",
       "</g>\n",
       "<!-- 140526306142528&#45;&#45;140526306142472 -->\n",
       "<g class=\"edge\" id=\"edge8\"><title>140526306142528--140526306142472</title>\n",
       "<path d=\"M321.647,-73.4937C347.992,-61.2683 383.086,-44.9831 407.819,-33.5055\" fill=\"none\" stroke=\"black\"/>\n",
       "</g>\n",
       "</g>\n",
       "</svg>"
      ],
      "text/plain": [
       "<IPython.core.display.SVG object>"
      ]
     },
     "execution_count": 484,
     "metadata": {},
     "output_type": "execute_result"
    }
   ],
   "source": [
    "binsert(Dummy, 36, 2)\n",
    "btree.display(Dummy)"
   ]
  },
  {
   "cell_type": "code",
   "execution_count": 485,
   "metadata": {},
   "outputs": [
    {
     "name": "stdout",
     "output_type": "stream",
     "text": [
      "ksearch result: 1\n",
      "ksearch result: 1\n",
      "ksearch result: 2\n"
     ]
    },
    {
     "data": {
      "image/svg+xml": [
       "<svg height=\"191pt\" viewBox=\"0.00 0.00 506.00 191.00\" width=\"506pt\" xmlns=\"http://www.w3.org/2000/svg\" xmlns:xlink=\"http://www.w3.org/1999/xlink\">\n",
       "<g class=\"graph\" id=\"graph0\" transform=\"scale(1 1) rotate(0) translate(4 187)\">\n",
       "<title>temp</title>\n",
       "<polygon fill=\"white\" points=\"-4,4 -4,-187 502,-187 502,4 -4,4\" stroke=\"none\"/>\n",
       "<!-- 140526306141688 -->\n",
       "<g class=\"node\" id=\"node1\"><title>140526306141688</title>\n",
       "<path d=\"M229,-146.5C229,-146.5 265,-146.5 265,-146.5 271,-146.5 277,-152.5 277,-158.5 277,-158.5 277,-170.5 277,-170.5 277,-176.5 271,-182.5 265,-182.5 265,-182.5 229,-182.5 229,-182.5 223,-182.5 217,-176.5 217,-170.5 217,-170.5 217,-158.5 217,-158.5 217,-152.5 223,-146.5 229,-146.5\" fill=\"none\" stroke=\"black\"/>\n",
       "<text font-family=\"Times,serif\" font-size=\"14.00\" text-anchor=\"middle\" x=\"232\" y=\"-160.8\">22</text>\n",
       "<polyline fill=\"none\" points=\"247,-146.5 247,-182.5 \" stroke=\"black\"/>\n",
       "<text font-family=\"Times,serif\" font-size=\"14.00\" text-anchor=\"middle\" x=\"262\" y=\"-160.8\">35</text>\n",
       "</g>\n",
       "<!-- 140526306404000 -->\n",
       "<g class=\"node\" id=\"node2\"><title>140526306404000</title>\n",
       "<path d=\"M102,-73.5C102,-73.5 132,-73.5 132,-73.5 138,-73.5 144,-79.5 144,-85.5 144,-85.5 144,-97.5 144,-97.5 144,-103.5 138,-109.5 132,-109.5 132,-109.5 102,-109.5 102,-109.5 96,-109.5 90,-103.5 90,-97.5 90,-97.5 90,-85.5 90,-85.5 90,-79.5 96,-73.5 102,-73.5\" fill=\"none\" stroke=\"black\"/>\n",
       "<text font-family=\"Times,serif\" font-size=\"14.00\" text-anchor=\"middle\" x=\"117\" y=\"-87.8\">15</text>\n",
       "</g>\n",
       "<!-- 140526306141688&#45;&#45;140526306404000 -->\n",
       "<g class=\"edge\" id=\"edge1\"><title>140526306141688--140526306404000</title>\n",
       "<path d=\"M216.849,-147.033C194.947,-135.071 165.55,-119.016 144.331,-107.427\" fill=\"none\" stroke=\"black\"/>\n",
       "</g>\n",
       "<!-- 140526306142528 -->\n",
       "<g class=\"node\" id=\"node3\"><title>140526306142528</title>\n",
       "<path d=\"M232,-73.5C232,-73.5 262,-73.5 262,-73.5 268,-73.5 274,-79.5 274,-85.5 274,-85.5 274,-97.5 274,-97.5 274,-103.5 268,-109.5 262,-109.5 262,-109.5 232,-109.5 232,-109.5 226,-109.5 220,-103.5 220,-97.5 220,-97.5 220,-85.5 220,-85.5 220,-79.5 226,-73.5 232,-73.5\" fill=\"none\" stroke=\"black\"/>\n",
       "<text font-family=\"Times,serif\" font-size=\"14.00\" text-anchor=\"middle\" x=\"247\" y=\"-87.8\">27</text>\n",
       "</g>\n",
       "<!-- 140526306141688&#45;&#45;140526306142528 -->\n",
       "<g class=\"edge\" id=\"edge2\"><title>140526306141688--140526306142528</title>\n",
       "<path d=\"M247,-146.313C247,-135.15 247,-120.66 247,-109.529\" fill=\"none\" stroke=\"black\"/>\n",
       "</g>\n",
       "<!-- 140526307560920 -->\n",
       "<g class=\"node\" id=\"node4\"><title>140526307560920</title>\n",
       "<path d=\"M345,-73.5C345,-73.5 375,-73.5 375,-73.5 381,-73.5 387,-79.5 387,-85.5 387,-85.5 387,-97.5 387,-97.5 387,-103.5 381,-109.5 375,-109.5 375,-109.5 345,-109.5 345,-109.5 339,-109.5 333,-103.5 333,-97.5 333,-97.5 333,-85.5 333,-85.5 333,-79.5 339,-73.5 345,-73.5\" fill=\"none\" stroke=\"black\"/>\n",
       "<text font-family=\"Times,serif\" font-size=\"14.00\" text-anchor=\"middle\" x=\"360\" y=\"-87.8\">41</text>\n",
       "</g>\n",
       "<!-- 140526306141688&#45;&#45;140526307560920 -->\n",
       "<g class=\"edge\" id=\"edge3\"><title>140526306141688--140526307560920</title>\n",
       "<path d=\"M274.066,-146.494C291.826,-135.335 314.969,-120.794 332.763,-109.614\" fill=\"none\" stroke=\"black\"/>\n",
       "</g>\n",
       "<!-- 140526306403328 -->\n",
       "<g class=\"node\" id=\"node5\"><title>140526306403328</title>\n",
       "<path d=\"M12,-0.5C12,-0.5 42,-0.5 42,-0.5 48,-0.5 54,-6.5 54,-12.5 54,-12.5 54,-24.5 54,-24.5 54,-30.5 48,-36.5 42,-36.5 42,-36.5 12,-36.5 12,-36.5 6,-36.5 0,-30.5 0,-24.5 0,-24.5 0,-12.5 0,-12.5 0,-6.5 6,-0.5 12,-0.5\" fill=\"none\" stroke=\"black\"/>\n",
       "<text font-family=\"Times,serif\" font-size=\"14.00\" text-anchor=\"middle\" x=\"11.5\" y=\"-14.8\">8</text>\n",
       "<polyline fill=\"none\" points=\"23,-0.5 23,-36.5 \" stroke=\"black\"/>\n",
       "<text font-family=\"Times,serif\" font-size=\"14.00\" text-anchor=\"middle\" x=\"38.5\" y=\"-14.8\">12</text>\n",
       "</g>\n",
       "<!-- 140526306404000&#45;&#45;140526306403328 -->\n",
       "<g class=\"edge\" id=\"edge4\"><title>140526306404000--140526306403328</title>\n",
       "<path d=\"M95.2135,-73.3129C81.0633,-62.1499 62.696,-47.6602 48.5859,-36.5288\" fill=\"none\" stroke=\"black\"/>\n",
       "</g>\n",
       "<!-- 140526306403496 -->\n",
       "<g class=\"node\" id=\"node6\"><title>140526306403496</title>\n",
       "<path d=\"M84,-0.5C84,-0.5 150,-0.5 150,-0.5 156,-0.5 162,-6.5 162,-12.5 162,-12.5 162,-24.5 162,-24.5 162,-30.5 156,-36.5 150,-36.5 150,-36.5 84,-36.5 84,-36.5 78,-36.5 72,-30.5 72,-24.5 72,-24.5 72,-12.5 72,-12.5 72,-6.5 78,-0.5 84,-0.5\" fill=\"none\" stroke=\"black\"/>\n",
       "<text font-family=\"Times,serif\" font-size=\"14.00\" text-anchor=\"middle\" x=\"87\" y=\"-14.8\">18</text>\n",
       "<polyline fill=\"none\" points=\"102,-0.5 102,-36.5 \" stroke=\"black\"/>\n",
       "<text font-family=\"Times,serif\" font-size=\"14.00\" text-anchor=\"middle\" x=\"117\" y=\"-14.8\">19</text>\n",
       "<polyline fill=\"none\" points=\"132,-0.5 132,-36.5 \" stroke=\"black\"/>\n",
       "<text font-family=\"Times,serif\" font-size=\"14.00\" text-anchor=\"middle\" x=\"147\" y=\"-14.8\">20</text>\n",
       "</g>\n",
       "<!-- 140526306404000&#45;&#45;140526306403496 -->\n",
       "<g class=\"edge\" id=\"edge5\"><title>140526306404000--140526306403496</title>\n",
       "<path d=\"M117,-73.3129C117,-62.1499 117,-47.6602 117,-36.5288\" fill=\"none\" stroke=\"black\"/>\n",
       "</g>\n",
       "<!-- 140526307461440 -->\n",
       "<g class=\"node\" id=\"node7\"><title>140526307461440</title>\n",
       "<path d=\"M192,-0.5C192,-0.5 228,-0.5 228,-0.5 234,-0.5 240,-6.5 240,-12.5 240,-12.5 240,-24.5 240,-24.5 240,-30.5 234,-36.5 228,-36.5 228,-36.5 192,-36.5 192,-36.5 186,-36.5 180,-30.5 180,-24.5 180,-24.5 180,-12.5 180,-12.5 180,-6.5 186,-0.5 192,-0.5\" fill=\"none\" stroke=\"black\"/>\n",
       "<text font-family=\"Times,serif\" font-size=\"14.00\" text-anchor=\"middle\" x=\"195\" y=\"-14.8\">24</text>\n",
       "<polyline fill=\"none\" points=\"210,-0.5 210,-36.5 \" stroke=\"black\"/>\n",
       "<text font-family=\"Times,serif\" font-size=\"14.00\" text-anchor=\"middle\" x=\"225\" y=\"-14.8\">25</text>\n",
       "</g>\n",
       "<!-- 140526306142528&#45;&#45;140526307461440 -->\n",
       "<g class=\"edge\" id=\"edge6\"><title>140526306142528--140526307461440</title>\n",
       "<path d=\"M238.043,-73.3129C232.226,-62.1499 224.675,-47.6602 218.874,-36.5288\" fill=\"none\" stroke=\"black\"/>\n",
       "</g>\n",
       "<!-- 140526307461328 -->\n",
       "<g class=\"node\" id=\"node8\"><title>140526307461328</title>\n",
       "<path d=\"M270,-0.5C270,-0.5 300,-0.5 300,-0.5 306,-0.5 312,-6.5 312,-12.5 312,-12.5 312,-24.5 312,-24.5 312,-30.5 306,-36.5 300,-36.5 300,-36.5 270,-36.5 270,-36.5 264,-36.5 258,-30.5 258,-24.5 258,-24.5 258,-12.5 258,-12.5 258,-6.5 264,-0.5 270,-0.5\" fill=\"none\" stroke=\"black\"/>\n",
       "<text font-family=\"Times,serif\" font-size=\"14.00\" text-anchor=\"middle\" x=\"285\" y=\"-14.8\">30</text>\n",
       "</g>\n",
       "<!-- 140526306142528&#45;&#45;140526307461328 -->\n",
       "<g class=\"edge\" id=\"edge7\"><title>140526306142528--140526307461328</title>\n",
       "<path d=\"M256.199,-73.3129C262.173,-62.1499 269.928,-47.6602 275.886,-36.5288\" fill=\"none\" stroke=\"black\"/>\n",
       "</g>\n",
       "<!-- 140526305753520 -->\n",
       "<g class=\"node\" id=\"node9\"><title>140526305753520</title>\n",
       "<path d=\"M342,-0.5C342,-0.5 378,-0.5 378,-0.5 384,-0.5 390,-6.5 390,-12.5 390,-12.5 390,-24.5 390,-24.5 390,-30.5 384,-36.5 378,-36.5 378,-36.5 342,-36.5 342,-36.5 336,-36.5 330,-30.5 330,-24.5 330,-24.5 330,-12.5 330,-12.5 330,-6.5 336,-0.5 342,-0.5\" fill=\"none\" stroke=\"black\"/>\n",
       "<text font-family=\"Times,serif\" font-size=\"14.00\" text-anchor=\"middle\" x=\"345\" y=\"-14.8\">36</text>\n",
       "<polyline fill=\"none\" points=\"360,-0.5 360,-36.5 \" stroke=\"black\"/>\n",
       "<text font-family=\"Times,serif\" font-size=\"14.00\" text-anchor=\"middle\" x=\"375\" y=\"-14.8\">38</text>\n",
       "</g>\n",
       "<!-- 140526307560920&#45;&#45;140526305753520 -->\n",
       "<g class=\"edge\" id=\"edge8\"><title>140526307560920--140526305753520</title>\n",
       "<path d=\"M360,-73.3129C360,-62.1499 360,-47.6602 360,-36.5288\" fill=\"none\" stroke=\"black\"/>\n",
       "</g>\n",
       "<!-- 140526306142472 -->\n",
       "<g class=\"node\" id=\"node10\"><title>140526306142472</title>\n",
       "<path d=\"M420,-0.5C420,-0.5 486,-0.5 486,-0.5 492,-0.5 498,-6.5 498,-12.5 498,-12.5 498,-24.5 498,-24.5 498,-30.5 492,-36.5 486,-36.5 486,-36.5 420,-36.5 420,-36.5 414,-36.5 408,-30.5 408,-24.5 408,-24.5 408,-12.5 408,-12.5 408,-6.5 414,-0.5 420,-0.5\" fill=\"none\" stroke=\"black\"/>\n",
       "<text font-family=\"Times,serif\" font-size=\"14.00\" text-anchor=\"middle\" x=\"423\" y=\"-14.8\">45</text>\n",
       "<polyline fill=\"none\" points=\"438,-0.5 438,-36.5 \" stroke=\"black\"/>\n",
       "<text font-family=\"Times,serif\" font-size=\"14.00\" text-anchor=\"middle\" x=\"453\" y=\"-14.8\">48</text>\n",
       "<polyline fill=\"none\" points=\"468,-0.5 468,-36.5 \" stroke=\"black\"/>\n",
       "<text font-family=\"Times,serif\" font-size=\"14.00\" text-anchor=\"middle\" x=\"483\" y=\"-14.8\">49</text>\n",
       "</g>\n",
       "<!-- 140526307560920&#45;&#45;140526306142472 -->\n",
       "<g class=\"edge\" id=\"edge9\"><title>140526307560920--140526306142472</title>\n",
       "<path d=\"M382.513,-73.3129C397.135,-62.1499 416.114,-47.6602 430.695,-36.5288\" fill=\"none\" stroke=\"black\"/>\n",
       "</g>\n",
       "</g>\n",
       "</svg>"
      ],
      "text/plain": [
       "<IPython.core.display.SVG object>"
      ]
     },
     "execution_count": 485,
     "metadata": {},
     "output_type": "execute_result"
    }
   ],
   "source": [
    "binsert(Dummy, 49, 2)\n",
    "btree.display(Dummy)"
   ]
  },
  {
   "cell_type": "markdown",
   "metadata": {},
   "source": [
    "## Exercice 2.4 : Suppression d'un élément à la descente\n",
    "\n",
    "### 1. Comment supprimer une clé lorsqu'on n'est pas en feuille?\n",
    "\n",
    "Bah, ça pose problème. Supposons qu'on supprime la $i$-ème clé d'un noeud, une manière de faire est de chercher à faire remonter la plus grande clé du sous-arbre gauche de la $i$-ème clé ou la plus petite du sous-arbre droit. Mais on se trouve dans ce cas devant le problème suivant : il se peut que le sous-arbre qu'on détrousse n'ai qu'une racine à  $t-1$ clés et que ses voisins n'ai que $2t-1$ cumulées à eux deux. Dans ce cas on pourrait envisager de simplement fusionner le fils à détrousser avec l'un de ses voisins, mais cela n'est valable que si le père ne se retrouve pas avec $t-1$ clés car une clé du père est nécessaire pour effectuer la fusion.  \n",
    "\n",
    "### 2. Quelle approche adaptée des AVL peut nous être utiles?\n",
    "\n",
    "Les rotations gauches et droites.\n",
    "\n",
    "### Implémtation rotation gauche\n",
    "\n",
    "Pour que celle-ci fasse sens il faut qu'on ai un fils droit et que celui-ci ait au moins $t$ clés. De plus, il faut garantir que le fils gauche a moins de $2t-1$ clés. À l'évidence il doit y avoir un père."
   ]
  },
  {
   "cell_type": "code",
   "execution_count": 486,
   "metadata": {
    "collapsed": true
   },
   "outputs": [],
   "source": [
    "def blr(A, i):\n",
    "    \"\"\"Rotation from child i+1 to child i.\n",
    "    \n",
    "    Conditions: \n",
    "    - the tree A exists, \n",
    "    - its child i exists and its root is not a 2t-node, \n",
    "    - its child i+1 exists and its root is not a t-node.\n",
    "    \n",
    "    \"\"\"\n",
    "    Cr = A.children[i+1]\n",
    "    Cl = A.children[i]\n",
    "    \n",
    "    Cl.keys.append(A.keys[i])\n",
    "    \n",
    "    A.keys[i] = Cr.keys.pop(0)\n",
    "    \n",
    "    if Cr.children:\n",
    "        Cl.children.append(Cr.children.pop(0))    "
   ]
  },
  {
   "cell_type": "code",
   "execution_count": 487,
   "metadata": {},
   "outputs": [
    {
     "data": {
      "image/svg+xml": [
       "<svg height=\"118pt\" viewBox=\"0.00 0.00 170.00 118.00\" width=\"170pt\" xmlns=\"http://www.w3.org/2000/svg\" xmlns:xlink=\"http://www.w3.org/1999/xlink\">\n",
       "<g class=\"graph\" id=\"graph0\" transform=\"scale(1 1) rotate(0) translate(4 114)\">\n",
       "<title>temp</title>\n",
       "<polygon fill=\"white\" points=\"-4,4 -4,-114 166,-114 166,4 -4,4\" stroke=\"none\"/>\n",
       "<!-- 140526305455296 -->\n",
       "<g class=\"node\" id=\"node1\"><title>140526305455296</title>\n",
       "<path d=\"M57,-73.5C57,-73.5 87,-73.5 87,-73.5 93,-73.5 99,-79.5 99,-85.5 99,-85.5 99,-97.5 99,-97.5 99,-103.5 93,-109.5 87,-109.5 87,-109.5 57,-109.5 57,-109.5 51,-109.5 45,-103.5 45,-97.5 45,-97.5 45,-85.5 45,-85.5 45,-79.5 51,-73.5 57,-73.5\" fill=\"none\" stroke=\"black\"/>\n",
       "<text font-family=\"Times,serif\" font-size=\"14.00\" text-anchor=\"middle\" x=\"72\" y=\"-87.8\">15</text>\n",
       "</g>\n",
       "<!-- 140526305454960 -->\n",
       "<g class=\"node\" id=\"node2\"><title>140526305454960</title>\n",
       "<path d=\"M12,-0.5C12,-0.5 42,-0.5 42,-0.5 48,-0.5 54,-6.5 54,-12.5 54,-12.5 54,-24.5 54,-24.5 54,-30.5 48,-36.5 42,-36.5 42,-36.5 12,-36.5 12,-36.5 6,-36.5 0,-30.5 0,-24.5 0,-24.5 0,-12.5 0,-12.5 0,-6.5 6,-0.5 12,-0.5\" fill=\"none\" stroke=\"black\"/>\n",
       "<text font-family=\"Times,serif\" font-size=\"14.00\" text-anchor=\"middle\" x=\"11.5\" y=\"-14.8\">8</text>\n",
       "<polyline fill=\"none\" points=\"23,-0.5 23,-36.5 \" stroke=\"black\"/>\n",
       "<text font-family=\"Times,serif\" font-size=\"14.00\" text-anchor=\"middle\" x=\"38.5\" y=\"-14.8\">12</text>\n",
       "</g>\n",
       "<!-- 140526305455296&#45;&#45;140526305454960 -->\n",
       "<g class=\"edge\" id=\"edge1\"><title>140526305455296--140526305454960</title>\n",
       "<path d=\"M61.1068,-73.3129C54.0316,-62.1499 44.848,-47.6602 37.7929,-36.5288\" fill=\"none\" stroke=\"black\"/>\n",
       "</g>\n",
       "<!-- 140526305455184 -->\n",
       "<g class=\"node\" id=\"node3\"><title>140526305455184</title>\n",
       "<path d=\"M84,-0.5C84,-0.5 150,-0.5 150,-0.5 156,-0.5 162,-6.5 162,-12.5 162,-12.5 162,-24.5 162,-24.5 162,-30.5 156,-36.5 150,-36.5 150,-36.5 84,-36.5 84,-36.5 78,-36.5 72,-30.5 72,-24.5 72,-24.5 72,-12.5 72,-12.5 72,-6.5 78,-0.5 84,-0.5\" fill=\"none\" stroke=\"black\"/>\n",
       "<text font-family=\"Times,serif\" font-size=\"14.00\" text-anchor=\"middle\" x=\"87\" y=\"-14.8\">18</text>\n",
       "<polyline fill=\"none\" points=\"102,-0.5 102,-36.5 \" stroke=\"black\"/>\n",
       "<text font-family=\"Times,serif\" font-size=\"14.00\" text-anchor=\"middle\" x=\"117\" y=\"-14.8\">19</text>\n",
       "<polyline fill=\"none\" points=\"132,-0.5 132,-36.5 \" stroke=\"black\"/>\n",
       "<text font-family=\"Times,serif\" font-size=\"14.00\" text-anchor=\"middle\" x=\"147\" y=\"-14.8\">20</text>\n",
       "</g>\n",
       "<!-- 140526305455296&#45;&#45;140526305455184 -->\n",
       "<g class=\"edge\" id=\"edge2\"><title>140526305455296--140526305455184</title>\n",
       "<path d=\"M82.8932,-73.3129C89.9684,-62.1499 99.152,-47.6602 106.207,-36.5288\" fill=\"none\" stroke=\"black\"/>\n",
       "</g>\n",
       "</g>\n",
       "</svg>"
      ],
      "text/plain": [
       "<IPython.core.display.SVG object>"
      ]
     },
     "execution_count": 487,
     "metadata": {},
     "output_type": "execute_result"
    }
   ],
   "source": [
    "subDummy = B234([15],[B234([8, 12]), B234([18, 19, 20])])\n",
    "btree.display(subDummy)"
   ]
  },
  {
   "cell_type": "code",
   "execution_count": 488,
   "metadata": {},
   "outputs": [
    {
     "data": {
      "image/svg+xml": [
       "<svg height=\"118pt\" viewBox=\"0.00 0.00 169.50 118.00\" width=\"170pt\" xmlns=\"http://www.w3.org/2000/svg\" xmlns:xlink=\"http://www.w3.org/1999/xlink\">\n",
       "<g class=\"graph\" id=\"graph0\" transform=\"scale(1 1) rotate(0) translate(4 114)\">\n",
       "<title>temp</title>\n",
       "<polygon fill=\"white\" points=\"-4,4 -4,-114 165.5,-114 165.5,4 -4,4\" stroke=\"none\"/>\n",
       "<!-- 140526305455296 -->\n",
       "<g class=\"node\" id=\"node1\"><title>140526305455296</title>\n",
       "<path d=\"M71.5,-73.5C71.5,-73.5 101.5,-73.5 101.5,-73.5 107.5,-73.5 113.5,-79.5 113.5,-85.5 113.5,-85.5 113.5,-97.5 113.5,-97.5 113.5,-103.5 107.5,-109.5 101.5,-109.5 101.5,-109.5 71.5,-109.5 71.5,-109.5 65.5,-109.5 59.5,-103.5 59.5,-97.5 59.5,-97.5 59.5,-85.5 59.5,-85.5 59.5,-79.5 65.5,-73.5 71.5,-73.5\" fill=\"none\" stroke=\"black\"/>\n",
       "<text font-family=\"Times,serif\" font-size=\"14.00\" text-anchor=\"middle\" x=\"86.5\" y=\"-87.8\">18</text>\n",
       "</g>\n",
       "<!-- 140526305454960 -->\n",
       "<g class=\"node\" id=\"node2\"><title>140526305454960</title>\n",
       "<path d=\"M12,-0.5C12,-0.5 71,-0.5 71,-0.5 77,-0.5 83,-6.5 83,-12.5 83,-12.5 83,-24.5 83,-24.5 83,-30.5 77,-36.5 71,-36.5 71,-36.5 12,-36.5 12,-36.5 6,-36.5 0,-30.5 0,-24.5 0,-24.5 0,-12.5 0,-12.5 0,-6.5 6,-0.5 12,-0.5\" fill=\"none\" stroke=\"black\"/>\n",
       "<text font-family=\"Times,serif\" font-size=\"14.00\" text-anchor=\"middle\" x=\"11.5\" y=\"-14.8\">8</text>\n",
       "<polyline fill=\"none\" points=\"23,-0.5 23,-36.5 \" stroke=\"black\"/>\n",
       "<text font-family=\"Times,serif\" font-size=\"14.00\" text-anchor=\"middle\" x=\"38\" y=\"-14.8\">12</text>\n",
       "<polyline fill=\"none\" points=\"53,-0.5 53,-36.5 \" stroke=\"black\"/>\n",
       "<text font-family=\"Times,serif\" font-size=\"14.00\" text-anchor=\"middle\" x=\"68\" y=\"-14.8\">15</text>\n",
       "</g>\n",
       "<!-- 140526305455296&#45;&#45;140526305454960 -->\n",
       "<g class=\"edge\" id=\"edge1\"><title>140526305455296--140526305454960</title>\n",
       "<path d=\"M75.6068,-73.3129C68.5316,-62.1499 59.348,-47.6602 52.2929,-36.5288\" fill=\"none\" stroke=\"black\"/>\n",
       "</g>\n",
       "<!-- 140526305455184 -->\n",
       "<g class=\"node\" id=\"node3\"><title>140526305455184</title>\n",
       "<path d=\"M113.5,-0.5C113.5,-0.5 149.5,-0.5 149.5,-0.5 155.5,-0.5 161.5,-6.5 161.5,-12.5 161.5,-12.5 161.5,-24.5 161.5,-24.5 161.5,-30.5 155.5,-36.5 149.5,-36.5 149.5,-36.5 113.5,-36.5 113.5,-36.5 107.5,-36.5 101.5,-30.5 101.5,-24.5 101.5,-24.5 101.5,-12.5 101.5,-12.5 101.5,-6.5 107.5,-0.5 113.5,-0.5\" fill=\"none\" stroke=\"black\"/>\n",
       "<text font-family=\"Times,serif\" font-size=\"14.00\" text-anchor=\"middle\" x=\"116.5\" y=\"-14.8\">19</text>\n",
       "<polyline fill=\"none\" points=\"131.5,-0.5 131.5,-36.5 \" stroke=\"black\"/>\n",
       "<text font-family=\"Times,serif\" font-size=\"14.00\" text-anchor=\"middle\" x=\"146.5\" y=\"-14.8\">20</text>\n",
       "</g>\n",
       "<!-- 140526305455296&#45;&#45;140526305455184 -->\n",
       "<g class=\"edge\" id=\"edge2\"><title>140526305455296--140526305455184</title>\n",
       "<path d=\"M97.3932,-73.3129C104.468,-62.1499 113.652,-47.6602 120.707,-36.5288\" fill=\"none\" stroke=\"black\"/>\n",
       "</g>\n",
       "</g>\n",
       "</svg>"
      ],
      "text/plain": [
       "<IPython.core.display.SVG object>"
      ]
     },
     "execution_count": 488,
     "metadata": {},
     "output_type": "execute_result"
    }
   ],
   "source": [
    "blr(subDummy, 0)\n",
    "btree.display(subDummy)"
   ]
  },
  {
   "cell_type": "markdown",
   "metadata": {},
   "source": [
    "### Implémtation rotation droite\n",
    "\n",
    "Pour que celle-ci fasse sens il faut qu'on ai un fils gauche et que celui-ci ait au moins $t$ clés. De plus, il faut garantir que le fils droit a moins de $2t-1$ clés. Il est nécssaire d'avoir un père."
   ]
  },
  {
   "cell_type": "code",
   "execution_count": 489,
   "metadata": {
    "collapsed": true
   },
   "outputs": [],
   "source": [
    "def brr(A, i):\n",
    "    \"\"\"Rotation from child i-1 to child i.\n",
    "    \n",
    "    Conditions: \n",
    "    - the tree A exists, \n",
    "    - its child i exists and its root is not a 2t-node, \n",
    "    - its child i-1 exists and its root is not a t-node.\n",
    "    \n",
    "    \"\"\"\n",
    "    Cr = A.children[i]\n",
    "    Cl = A.children[i-1]\n",
    "    \n",
    "    Cr.keys.insert(0, A.keys[i-1])\n",
    "    \n",
    "    A.keys[i-1] = Cl.keys.pop()\n",
    "    \n",
    "    if Cl.children:\n",
    "        Cr.children.insert(0, Cl.chidren.pop())"
   ]
  },
  {
   "cell_type": "code",
   "execution_count": 490,
   "metadata": {},
   "outputs": [
    {
     "data": {
      "image/svg+xml": [
       "<svg height=\"118pt\" viewBox=\"0.00 0.00 170.00 118.00\" width=\"170pt\" xmlns=\"http://www.w3.org/2000/svg\" xmlns:xlink=\"http://www.w3.org/1999/xlink\">\n",
       "<g class=\"graph\" id=\"graph0\" transform=\"scale(1 1) rotate(0) translate(4 114)\">\n",
       "<title>temp</title>\n",
       "<polygon fill=\"white\" points=\"-4,4 -4,-114 166,-114 166,4 -4,4\" stroke=\"none\"/>\n",
       "<!-- 140526305455296 -->\n",
       "<g class=\"node\" id=\"node1\"><title>140526305455296</title>\n",
       "<path d=\"M57,-73.5C57,-73.5 87,-73.5 87,-73.5 93,-73.5 99,-79.5 99,-85.5 99,-85.5 99,-97.5 99,-97.5 99,-103.5 93,-109.5 87,-109.5 87,-109.5 57,-109.5 57,-109.5 51,-109.5 45,-103.5 45,-97.5 45,-97.5 45,-85.5 45,-85.5 45,-79.5 51,-73.5 57,-73.5\" fill=\"none\" stroke=\"black\"/>\n",
       "<text font-family=\"Times,serif\" font-size=\"14.00\" text-anchor=\"middle\" x=\"72\" y=\"-87.8\">15</text>\n",
       "</g>\n",
       "<!-- 140526305454960 -->\n",
       "<g class=\"node\" id=\"node2\"><title>140526305454960</title>\n",
       "<path d=\"M12,-0.5C12,-0.5 42,-0.5 42,-0.5 48,-0.5 54,-6.5 54,-12.5 54,-12.5 54,-24.5 54,-24.5 54,-30.5 48,-36.5 42,-36.5 42,-36.5 12,-36.5 12,-36.5 6,-36.5 0,-30.5 0,-24.5 0,-24.5 0,-12.5 0,-12.5 0,-6.5 6,-0.5 12,-0.5\" fill=\"none\" stroke=\"black\"/>\n",
       "<text font-family=\"Times,serif\" font-size=\"14.00\" text-anchor=\"middle\" x=\"11.5\" y=\"-14.8\">8</text>\n",
       "<polyline fill=\"none\" points=\"23,-0.5 23,-36.5 \" stroke=\"black\"/>\n",
       "<text font-family=\"Times,serif\" font-size=\"14.00\" text-anchor=\"middle\" x=\"38.5\" y=\"-14.8\">12</text>\n",
       "</g>\n",
       "<!-- 140526305455296&#45;&#45;140526305454960 -->\n",
       "<g class=\"edge\" id=\"edge1\"><title>140526305455296--140526305454960</title>\n",
       "<path d=\"M61.1068,-73.3129C54.0316,-62.1499 44.848,-47.6602 37.7929,-36.5288\" fill=\"none\" stroke=\"black\"/>\n",
       "</g>\n",
       "<!-- 140526305455184 -->\n",
       "<g class=\"node\" id=\"node3\"><title>140526305455184</title>\n",
       "<path d=\"M84,-0.5C84,-0.5 150,-0.5 150,-0.5 156,-0.5 162,-6.5 162,-12.5 162,-12.5 162,-24.5 162,-24.5 162,-30.5 156,-36.5 150,-36.5 150,-36.5 84,-36.5 84,-36.5 78,-36.5 72,-30.5 72,-24.5 72,-24.5 72,-12.5 72,-12.5 72,-6.5 78,-0.5 84,-0.5\" fill=\"none\" stroke=\"black\"/>\n",
       "<text font-family=\"Times,serif\" font-size=\"14.00\" text-anchor=\"middle\" x=\"87\" y=\"-14.8\">18</text>\n",
       "<polyline fill=\"none\" points=\"102,-0.5 102,-36.5 \" stroke=\"black\"/>\n",
       "<text font-family=\"Times,serif\" font-size=\"14.00\" text-anchor=\"middle\" x=\"117\" y=\"-14.8\">19</text>\n",
       "<polyline fill=\"none\" points=\"132,-0.5 132,-36.5 \" stroke=\"black\"/>\n",
       "<text font-family=\"Times,serif\" font-size=\"14.00\" text-anchor=\"middle\" x=\"147\" y=\"-14.8\">20</text>\n",
       "</g>\n",
       "<!-- 140526305455296&#45;&#45;140526305455184 -->\n",
       "<g class=\"edge\" id=\"edge2\"><title>140526305455296--140526305455184</title>\n",
       "<path d=\"M82.8932,-73.3129C89.9684,-62.1499 99.152,-47.6602 106.207,-36.5288\" fill=\"none\" stroke=\"black\"/>\n",
       "</g>\n",
       "</g>\n",
       "</svg>"
      ],
      "text/plain": [
       "<IPython.core.display.SVG object>"
      ]
     },
     "execution_count": 490,
     "metadata": {},
     "output_type": "execute_result"
    }
   ],
   "source": [
    "brr(subDummy, 1)\n",
    "btree.display(subDummy)"
   ]
  },
  {
   "cell_type": "markdown",
   "metadata": {},
   "source": [
    "### 3. Quel autre problème peut apparaître lors d'une suppression?\n"
   ]
  },
  {
   "cell_type": "markdown",
   "metadata": {
    "collapsed": true
   },
   "source": [
    "### Implémentation fusion"
   ]
  },
  {
   "cell_type": "code",
   "execution_count": 491,
   "metadata": {
    "collapsed": true
   },
   "outputs": [],
   "source": [
    "def fusion(A, i):\n",
    "    \"\"\"Merge A children i and i+1 into child i.\n",
    "    \n",
    "    Conditions: \n",
    "    - the tree A exists and its root is not a t-node,\n",
    "    - children i and i+1 exist and their roots are t-nodes.\n",
    "    \n",
    "    \"\"\"    \n",
    "    Cr = A.children[i+1]\n",
    "    Cl = A.children[i]\n",
    "    \n",
    "    Cl.keys.append(A.keys.pop(i))\n",
    "    \n",
    "    Cl.keys += Cr.keys #creates a shallow copy\n",
    "    Cl.children += Cr.children #creates a shallow copy \n",
    "    \n",
    "    A.children.pop(i+1)"
   ]
  },
  {
   "cell_type": "code",
   "execution_count": 492,
   "metadata": {},
   "outputs": [
    {
     "data": {
      "image/svg+xml": [
       "<svg height=\"118pt\" viewBox=\"0.00 0.00 284.00 118.00\" width=\"284pt\" xmlns=\"http://www.w3.org/2000/svg\" xmlns:xlink=\"http://www.w3.org/1999/xlink\">\n",
       "<g class=\"graph\" id=\"graph0\" transform=\"scale(1 1) rotate(0) translate(4 114)\">\n",
       "<title>temp</title>\n",
       "<polygon fill=\"white\" points=\"-4,4 -4,-114 280,-114 280,4 -4,4\" stroke=\"none\"/>\n",
       "<!-- 140526305903504 -->\n",
       "<g class=\"node\" id=\"node1\"><title>140526305903504</title>\n",
       "<path d=\"M102,-73.5C102,-73.5 168,-73.5 168,-73.5 174,-73.5 180,-79.5 180,-85.5 180,-85.5 180,-97.5 180,-97.5 180,-103.5 174,-109.5 168,-109.5 168,-109.5 102,-109.5 102,-109.5 96,-109.5 90,-103.5 90,-97.5 90,-97.5 90,-85.5 90,-85.5 90,-79.5 96,-73.5 102,-73.5\" fill=\"none\" stroke=\"black\"/>\n",
       "<text font-family=\"Times,serif\" font-size=\"14.00\" text-anchor=\"middle\" x=\"105\" y=\"-87.8\">15</text>\n",
       "<polyline fill=\"none\" points=\"120,-73.5 120,-109.5 \" stroke=\"black\"/>\n",
       "<text font-family=\"Times,serif\" font-size=\"14.00\" text-anchor=\"middle\" x=\"135\" y=\"-87.8\">20</text>\n",
       "<polyline fill=\"none\" points=\"150,-73.5 150,-109.5 \" stroke=\"black\"/>\n",
       "<text font-family=\"Times,serif\" font-size=\"14.00\" text-anchor=\"middle\" x=\"165\" y=\"-87.8\">25</text>\n",
       "</g>\n",
       "<!-- 140526305903952 -->\n",
       "<g class=\"node\" id=\"node2\"><title>140526305903952</title>\n",
       "<path d=\"M12,-0.5C12,-0.5 42,-0.5 42,-0.5 48,-0.5 54,-6.5 54,-12.5 54,-12.5 54,-24.5 54,-24.5 54,-30.5 48,-36.5 42,-36.5 42,-36.5 12,-36.5 12,-36.5 6,-36.5 0,-30.5 0,-24.5 0,-24.5 0,-12.5 0,-12.5 0,-6.5 6,-0.5 12,-0.5\" fill=\"none\" stroke=\"black\"/>\n",
       "<text font-family=\"Times,serif\" font-size=\"14.00\" text-anchor=\"middle\" x=\"27\" y=\"-14.8\">8</text>\n",
       "</g>\n",
       "<!-- 140526305903504&#45;&#45;140526305903952 -->\n",
       "<g class=\"edge\" id=\"edge1\"><title>140526305903504--140526305903952</title>\n",
       "<path d=\"M109.131,-73.4937C92.1574,-62.335 70.0387,-47.7939 53.0319,-36.6136\" fill=\"none\" stroke=\"black\"/>\n",
       "</g>\n",
       "<!-- 140526305903336 -->\n",
       "<g class=\"node\" id=\"node3\"><title>140526305903336</title>\n",
       "<path d=\"M84,-0.5C84,-0.5 114,-0.5 114,-0.5 120,-0.5 126,-6.5 126,-12.5 126,-12.5 126,-24.5 126,-24.5 126,-30.5 120,-36.5 114,-36.5 114,-36.5 84,-36.5 84,-36.5 78,-36.5 72,-30.5 72,-24.5 72,-24.5 72,-12.5 72,-12.5 72,-6.5 78,-0.5 84,-0.5\" fill=\"none\" stroke=\"black\"/>\n",
       "<text font-family=\"Times,serif\" font-size=\"14.00\" text-anchor=\"middle\" x=\"99\" y=\"-14.8\">18</text>\n",
       "</g>\n",
       "<!-- 140526305903504&#45;&#45;140526305903336 -->\n",
       "<g class=\"edge\" id=\"edge2\"><title>140526305903504--140526305903336</title>\n",
       "<path d=\"M126.285,-73.3129C120.625,-62.1499 113.278,-47.6602 107.634,-36.5288\" fill=\"none\" stroke=\"black\"/>\n",
       "</g>\n",
       "<!-- 140526305903896 -->\n",
       "<g class=\"node\" id=\"node4\"><title>140526305903896</title>\n",
       "<path d=\"M156,-0.5C156,-0.5 186,-0.5 186,-0.5 192,-0.5 198,-6.5 198,-12.5 198,-12.5 198,-24.5 198,-24.5 198,-30.5 192,-36.5 186,-36.5 186,-36.5 156,-36.5 156,-36.5 150,-36.5 144,-30.5 144,-24.5 144,-24.5 144,-12.5 144,-12.5 144,-6.5 150,-0.5 156,-0.5\" fill=\"none\" stroke=\"black\"/>\n",
       "<text font-family=\"Times,serif\" font-size=\"14.00\" text-anchor=\"middle\" x=\"171\" y=\"-14.8\">22</text>\n",
       "</g>\n",
       "<!-- 140526305903504&#45;&#45;140526305903896 -->\n",
       "<g class=\"edge\" id=\"edge3\"><title>140526305903504--140526305903896</title>\n",
       "<path d=\"M143.715,-73.3129C149.375,-62.1499 156.722,-47.6602 162.366,-36.5288\" fill=\"none\" stroke=\"black\"/>\n",
       "</g>\n",
       "<!-- 140526305903000 -->\n",
       "<g class=\"node\" id=\"node5\"><title>140526305903000</title>\n",
       "<path d=\"M228,-0.5C228,-0.5 264,-0.5 264,-0.5 270,-0.5 276,-6.5 276,-12.5 276,-12.5 276,-24.5 276,-24.5 276,-30.5 270,-36.5 264,-36.5 264,-36.5 228,-36.5 228,-36.5 222,-36.5 216,-30.5 216,-24.5 216,-24.5 216,-12.5 216,-12.5 216,-6.5 222,-0.5 228,-0.5\" fill=\"none\" stroke=\"black\"/>\n",
       "<text font-family=\"Times,serif\" font-size=\"14.00\" text-anchor=\"middle\" x=\"231\" y=\"-14.8\">27</text>\n",
       "<polyline fill=\"none\" points=\"246,-0.5 246,-36.5 \" stroke=\"black\"/>\n",
       "<text font-family=\"Times,serif\" font-size=\"14.00\" text-anchor=\"middle\" x=\"261\" y=\"-14.8\">28</text>\n",
       "</g>\n",
       "<!-- 140526305903504&#45;&#45;140526305903000 -->\n",
       "<g class=\"edge\" id=\"edge4\"><title>140526305903504--140526305903000</title>\n",
       "<path d=\"M161.587,-73.4937C179.033,-62.335 201.766,-47.7939 219.245,-36.6136\" fill=\"none\" stroke=\"black\"/>\n",
       "</g>\n",
       "</g>\n",
       "</svg>"
      ],
      "text/plain": [
       "<IPython.core.display.SVG object>"
      ]
     },
     "execution_count": 492,
     "metadata": {},
     "output_type": "execute_result"
    }
   ],
   "source": [
    "fusionDummy = B234([15,20,25],[B234([8]), B234([18]), B234([22]), B234([27, 28])])\n",
    "btree.display(fusionDummy)"
   ]
  },
  {
   "cell_type": "code",
   "execution_count": 493,
   "metadata": {},
   "outputs": [
    {
     "data": {
      "image/svg+xml": [
       "<svg height=\"118pt\" viewBox=\"0.00 0.00 248.00 118.00\" width=\"248pt\" xmlns=\"http://www.w3.org/2000/svg\" xmlns:xlink=\"http://www.w3.org/1999/xlink\">\n",
       "<g class=\"graph\" id=\"graph0\" transform=\"scale(1 1) rotate(0) translate(4 114)\">\n",
       "<title>temp</title>\n",
       "<polygon fill=\"white\" points=\"-4,4 -4,-114 244,-114 244,4 -4,4\" stroke=\"none\"/>\n",
       "<!-- 140526305903504 -->\n",
       "<g class=\"node\" id=\"node1\"><title>140526305903504</title>\n",
       "<path d=\"M99,-73.5C99,-73.5 135,-73.5 135,-73.5 141,-73.5 147,-79.5 147,-85.5 147,-85.5 147,-97.5 147,-97.5 147,-103.5 141,-109.5 135,-109.5 135,-109.5 99,-109.5 99,-109.5 93,-109.5 87,-103.5 87,-97.5 87,-97.5 87,-85.5 87,-85.5 87,-79.5 93,-73.5 99,-73.5\" fill=\"none\" stroke=\"black\"/>\n",
       "<text font-family=\"Times,serif\" font-size=\"14.00\" text-anchor=\"middle\" x=\"102\" y=\"-87.8\">15</text>\n",
       "<polyline fill=\"none\" points=\"117,-73.5 117,-109.5 \" stroke=\"black\"/>\n",
       "<text font-family=\"Times,serif\" font-size=\"14.00\" text-anchor=\"middle\" x=\"132\" y=\"-87.8\">25</text>\n",
       "</g>\n",
       "<!-- 140526305903952 -->\n",
       "<g class=\"node\" id=\"node2\"><title>140526305903952</title>\n",
       "<path d=\"M12,-0.5C12,-0.5 42,-0.5 42,-0.5 48,-0.5 54,-6.5 54,-12.5 54,-12.5 54,-24.5 54,-24.5 54,-30.5 48,-36.5 42,-36.5 42,-36.5 12,-36.5 12,-36.5 6,-36.5 0,-30.5 0,-24.5 0,-24.5 0,-12.5 0,-12.5 0,-6.5 6,-0.5 12,-0.5\" fill=\"none\" stroke=\"black\"/>\n",
       "<text font-family=\"Times,serif\" font-size=\"14.00\" text-anchor=\"middle\" x=\"27\" y=\"-14.8\">8</text>\n",
       "</g>\n",
       "<!-- 140526305903504&#45;&#45;140526305903952 -->\n",
       "<g class=\"edge\" id=\"edge1\"><title>140526305903504--140526305903952</title>\n",
       "<path d=\"M95.2135,-73.3129C81.0633,-62.1499 62.696,-47.6602 48.5859,-36.5288\" fill=\"none\" stroke=\"black\"/>\n",
       "</g>\n",
       "<!-- 140526305903336 -->\n",
       "<g class=\"node\" id=\"node3\"><title>140526305903336</title>\n",
       "<path d=\"M84,-0.5C84,-0.5 150,-0.5 150,-0.5 156,-0.5 162,-6.5 162,-12.5 162,-12.5 162,-24.5 162,-24.5 162,-30.5 156,-36.5 150,-36.5 150,-36.5 84,-36.5 84,-36.5 78,-36.5 72,-30.5 72,-24.5 72,-24.5 72,-12.5 72,-12.5 72,-6.5 78,-0.5 84,-0.5\" fill=\"none\" stroke=\"black\"/>\n",
       "<text font-family=\"Times,serif\" font-size=\"14.00\" text-anchor=\"middle\" x=\"87\" y=\"-14.8\">18</text>\n",
       "<polyline fill=\"none\" points=\"102,-0.5 102,-36.5 \" stroke=\"black\"/>\n",
       "<text font-family=\"Times,serif\" font-size=\"14.00\" text-anchor=\"middle\" x=\"117\" y=\"-14.8\">20</text>\n",
       "<polyline fill=\"none\" points=\"132,-0.5 132,-36.5 \" stroke=\"black\"/>\n",
       "<text font-family=\"Times,serif\" font-size=\"14.00\" text-anchor=\"middle\" x=\"147\" y=\"-14.8\">22</text>\n",
       "</g>\n",
       "<!-- 140526305903504&#45;&#45;140526305903336 -->\n",
       "<g class=\"edge\" id=\"edge2\"><title>140526305903504--140526305903336</title>\n",
       "<path d=\"M117,-73.3129C117,-62.1499 117,-47.6602 117,-36.5288\" fill=\"none\" stroke=\"black\"/>\n",
       "</g>\n",
       "<!-- 140526305903000 -->\n",
       "<g class=\"node\" id=\"node4\"><title>140526305903000</title>\n",
       "<path d=\"M192,-0.5C192,-0.5 228,-0.5 228,-0.5 234,-0.5 240,-6.5 240,-12.5 240,-12.5 240,-24.5 240,-24.5 240,-30.5 234,-36.5 228,-36.5 228,-36.5 192,-36.5 192,-36.5 186,-36.5 180,-30.5 180,-24.5 180,-24.5 180,-12.5 180,-12.5 180,-6.5 186,-0.5 192,-0.5\" fill=\"none\" stroke=\"black\"/>\n",
       "<text font-family=\"Times,serif\" font-size=\"14.00\" text-anchor=\"middle\" x=\"195\" y=\"-14.8\">27</text>\n",
       "<polyline fill=\"none\" points=\"210,-0.5 210,-36.5 \" stroke=\"black\"/>\n",
       "<text font-family=\"Times,serif\" font-size=\"14.00\" text-anchor=\"middle\" x=\"225\" y=\"-14.8\">28</text>\n",
       "</g>\n",
       "<!-- 140526305903504&#45;&#45;140526305903000 -->\n",
       "<g class=\"edge\" id=\"edge3\"><title>140526305903504--140526305903000</title>\n",
       "<path d=\"M139.513,-73.3129C154.135,-62.1499 173.114,-47.6602 187.695,-36.5288\" fill=\"none\" stroke=\"black\"/>\n",
       "</g>\n",
       "</g>\n",
       "</svg>"
      ],
      "text/plain": [
       "<IPython.core.display.SVG object>"
      ]
     },
     "execution_count": 493,
     "metadata": {},
     "output_type": "execute_result"
    }
   ],
   "source": [
    "fusion(fusionDummy, 1)\n",
    "btree.display(fusionDummy)"
   ]
  },
  {
   "cell_type": "markdown",
   "metadata": {},
   "source": [
    "### 4. En suivant le principe de précaution, préconisé dans le cas de l'insertion, comment procéder dans le cas d'une suppréssion?\n",
    "\n",
    "À chaque recherche négative dans un $t$-noeud on suit les règles suivantes :\n",
    "\n",
    "- Si l'un des noeuds voisins, en préviligiant d'abord le gauche, contient $t$ clés on effectue la rotation correspondante pour renflouer le noeud courant.\n",
    "- Si les noeuds voisins sont des $t$-noeuds on fusionne le noeud courant avec son fils gauche ou droit, toujours en préviligiant le gauche.\n",
    "\n",
    "Dans le cas d'une recherche positive dans un noeud courant :\n",
    "\n",
    "- On copie la plus grande clé du sous-arbre gauche ou la plus petite du sous-arbre droit, toujours en privilègiant le gauche, en écrasant la clé à supprimer. On supprime dans le le sous-arbre correspondant la clé copiée. Le choix du sous-arbre se fait suivant le nombre de clés dans la racine. Si les deux sous-arbres n'en ont que $t-1$ on commencera par les fusionner, dans ce cas la clé recherchée descend dans le noeud fusionné, on rappelle la supression avec ce sous-arbre et notre clé rechercée courante. \n",
    " \n",
    "De cette manière, à la suppression dans une feuille, on est garantit qu'elle contient au moins $t$ clés. \n",
    "\n",
    "### Implémentation de la suppression"
   ]
  },
  {
   "cell_type": "code",
   "execution_count": 494,
   "metadata": {
    "collapsed": true
   },
   "outputs": [],
   "source": [
    "def __delete(A, x):\n",
    "    pos = ksearch(A.keys, x, A.nbkeys)\n",
    "    if A.children:\n",
    "        if pos < A.nbkeys and A.keys[pos] == x:\n",
    "            if A.children[pos].nbkeys > A.children[pos + 1].nbkeys:\n",
    "                A.keys[pos] = maxbtree(A.children[pos])\n",
    "                __delete(A.children[pos], A.keys[pos])\n",
    "            elif A.children[pos+1].nbkeys > A.degree - 1:\n",
    "                A.keys[pos] = minbtree(A.children[pos+1])\n",
    "                __delete(A.children[pos+1], A.keys[pos])\n",
    "            else:\n",
    "                fusion(A, pos) # notice that you always have a right child in this case\n",
    "                __delete(A.children[pos], x)\n",
    "        else:        \n",
    "            if A.children[pos].nbkeys == A.degree - 1:\n",
    "                if pos > 0 and A.children[pos - 1].nbkeys > A.degree - 1:\n",
    "                    brr(A, pos)\n",
    "                elif pos < A.nbkeys and A.children[pos + 1].nbkeys > A.degree - 1:\n",
    "                    blr(A, pos)\n",
    "                else:\n",
    "                    if pos == A.nbkeys:\n",
    "                        fusion(A, pos-1)\n",
    "                    else:\n",
    "                        fusion(A, pos)\n",
    "            __delete(A.children[pos], x)\n",
    "    else:\n",
    "        print(\"Traitement feuille\")\n",
    "        if pos < A.nbkeys and A.keys[pos] == x:\n",
    "            print(\"Traitement feuille positif\")\n",
    "            A.keys.pop(pos)\n",
    "\n",
    "def delete(A, x):\n",
    "    if A != None:\n",
    "        __delete(A, x)\n",
    "        \n",
    "        if A.nbkeys > 0:\n",
    "            return A\n",
    "        \n",
    "        elif A.children:\n",
    "            return A.children[0]\n",
    "    \n",
    "    return None"
   ]
  },
  {
   "cell_type": "code",
   "execution_count": 495,
   "metadata": {},
   "outputs": [
    {
     "data": {
      "image/svg+xml": [
       "<svg height=\"191pt\" viewBox=\"0.00 0.00 506.00 191.00\" width=\"506pt\" xmlns=\"http://www.w3.org/2000/svg\" xmlns:xlink=\"http://www.w3.org/1999/xlink\">\n",
       "<g class=\"graph\" id=\"graph0\" transform=\"scale(1 1) rotate(0) translate(4 187)\">\n",
       "<title>temp</title>\n",
       "<polygon fill=\"white\" points=\"-4,4 -4,-187 502,-187 502,4 -4,4\" stroke=\"none\"/>\n",
       "<!-- 140526306141688 -->\n",
       "<g class=\"node\" id=\"node1\"><title>140526306141688</title>\n",
       "<path d=\"M229,-146.5C229,-146.5 265,-146.5 265,-146.5 271,-146.5 277,-152.5 277,-158.5 277,-158.5 277,-170.5 277,-170.5 277,-176.5 271,-182.5 265,-182.5 265,-182.5 229,-182.5 229,-182.5 223,-182.5 217,-176.5 217,-170.5 217,-170.5 217,-158.5 217,-158.5 217,-152.5 223,-146.5 229,-146.5\" fill=\"none\" stroke=\"black\"/>\n",
       "<text font-family=\"Times,serif\" font-size=\"14.00\" text-anchor=\"middle\" x=\"232\" y=\"-160.8\">22</text>\n",
       "<polyline fill=\"none\" points=\"247,-146.5 247,-182.5 \" stroke=\"black\"/>\n",
       "<text font-family=\"Times,serif\" font-size=\"14.00\" text-anchor=\"middle\" x=\"262\" y=\"-160.8\">35</text>\n",
       "</g>\n",
       "<!-- 140526306404000 -->\n",
       "<g class=\"node\" id=\"node2\"><title>140526306404000</title>\n",
       "<path d=\"M102,-73.5C102,-73.5 132,-73.5 132,-73.5 138,-73.5 144,-79.5 144,-85.5 144,-85.5 144,-97.5 144,-97.5 144,-103.5 138,-109.5 132,-109.5 132,-109.5 102,-109.5 102,-109.5 96,-109.5 90,-103.5 90,-97.5 90,-97.5 90,-85.5 90,-85.5 90,-79.5 96,-73.5 102,-73.5\" fill=\"none\" stroke=\"black\"/>\n",
       "<text font-family=\"Times,serif\" font-size=\"14.00\" text-anchor=\"middle\" x=\"117\" y=\"-87.8\">15</text>\n",
       "</g>\n",
       "<!-- 140526306141688&#45;&#45;140526306404000 -->\n",
       "<g class=\"edge\" id=\"edge1\"><title>140526306141688--140526306404000</title>\n",
       "<path d=\"M216.849,-147.033C194.947,-135.071 165.55,-119.016 144.331,-107.427\" fill=\"none\" stroke=\"black\"/>\n",
       "</g>\n",
       "<!-- 140526306142528 -->\n",
       "<g class=\"node\" id=\"node3\"><title>140526306142528</title>\n",
       "<path d=\"M232,-73.5C232,-73.5 262,-73.5 262,-73.5 268,-73.5 274,-79.5 274,-85.5 274,-85.5 274,-97.5 274,-97.5 274,-103.5 268,-109.5 262,-109.5 262,-109.5 232,-109.5 232,-109.5 226,-109.5 220,-103.5 220,-97.5 220,-97.5 220,-85.5 220,-85.5 220,-79.5 226,-73.5 232,-73.5\" fill=\"none\" stroke=\"black\"/>\n",
       "<text font-family=\"Times,serif\" font-size=\"14.00\" text-anchor=\"middle\" x=\"247\" y=\"-87.8\">27</text>\n",
       "</g>\n",
       "<!-- 140526306141688&#45;&#45;140526306142528 -->\n",
       "<g class=\"edge\" id=\"edge2\"><title>140526306141688--140526306142528</title>\n",
       "<path d=\"M247,-146.313C247,-135.15 247,-120.66 247,-109.529\" fill=\"none\" stroke=\"black\"/>\n",
       "</g>\n",
       "<!-- 140526307560920 -->\n",
       "<g class=\"node\" id=\"node4\"><title>140526307560920</title>\n",
       "<path d=\"M345,-73.5C345,-73.5 375,-73.5 375,-73.5 381,-73.5 387,-79.5 387,-85.5 387,-85.5 387,-97.5 387,-97.5 387,-103.5 381,-109.5 375,-109.5 375,-109.5 345,-109.5 345,-109.5 339,-109.5 333,-103.5 333,-97.5 333,-97.5 333,-85.5 333,-85.5 333,-79.5 339,-73.5 345,-73.5\" fill=\"none\" stroke=\"black\"/>\n",
       "<text font-family=\"Times,serif\" font-size=\"14.00\" text-anchor=\"middle\" x=\"360\" y=\"-87.8\">41</text>\n",
       "</g>\n",
       "<!-- 140526306141688&#45;&#45;140526307560920 -->\n",
       "<g class=\"edge\" id=\"edge3\"><title>140526306141688--140526307560920</title>\n",
       "<path d=\"M274.066,-146.494C291.826,-135.335 314.969,-120.794 332.763,-109.614\" fill=\"none\" stroke=\"black\"/>\n",
       "</g>\n",
       "<!-- 140526306403328 -->\n",
       "<g class=\"node\" id=\"node5\"><title>140526306403328</title>\n",
       "<path d=\"M12,-0.5C12,-0.5 42,-0.5 42,-0.5 48,-0.5 54,-6.5 54,-12.5 54,-12.5 54,-24.5 54,-24.5 54,-30.5 48,-36.5 42,-36.5 42,-36.5 12,-36.5 12,-36.5 6,-36.5 0,-30.5 0,-24.5 0,-24.5 0,-12.5 0,-12.5 0,-6.5 6,-0.5 12,-0.5\" fill=\"none\" stroke=\"black\"/>\n",
       "<text font-family=\"Times,serif\" font-size=\"14.00\" text-anchor=\"middle\" x=\"11.5\" y=\"-14.8\">8</text>\n",
       "<polyline fill=\"none\" points=\"23,-0.5 23,-36.5 \" stroke=\"black\"/>\n",
       "<text font-family=\"Times,serif\" font-size=\"14.00\" text-anchor=\"middle\" x=\"38.5\" y=\"-14.8\">12</text>\n",
       "</g>\n",
       "<!-- 140526306404000&#45;&#45;140526306403328 -->\n",
       "<g class=\"edge\" id=\"edge4\"><title>140526306404000--140526306403328</title>\n",
       "<path d=\"M95.2135,-73.3129C81.0633,-62.1499 62.696,-47.6602 48.5859,-36.5288\" fill=\"none\" stroke=\"black\"/>\n",
       "</g>\n",
       "<!-- 140526306403496 -->\n",
       "<g class=\"node\" id=\"node6\"><title>140526306403496</title>\n",
       "<path d=\"M84,-0.5C84,-0.5 150,-0.5 150,-0.5 156,-0.5 162,-6.5 162,-12.5 162,-12.5 162,-24.5 162,-24.5 162,-30.5 156,-36.5 150,-36.5 150,-36.5 84,-36.5 84,-36.5 78,-36.5 72,-30.5 72,-24.5 72,-24.5 72,-12.5 72,-12.5 72,-6.5 78,-0.5 84,-0.5\" fill=\"none\" stroke=\"black\"/>\n",
       "<text font-family=\"Times,serif\" font-size=\"14.00\" text-anchor=\"middle\" x=\"87\" y=\"-14.8\">18</text>\n",
       "<polyline fill=\"none\" points=\"102,-0.5 102,-36.5 \" stroke=\"black\"/>\n",
       "<text font-family=\"Times,serif\" font-size=\"14.00\" text-anchor=\"middle\" x=\"117\" y=\"-14.8\">19</text>\n",
       "<polyline fill=\"none\" points=\"132,-0.5 132,-36.5 \" stroke=\"black\"/>\n",
       "<text font-family=\"Times,serif\" font-size=\"14.00\" text-anchor=\"middle\" x=\"147\" y=\"-14.8\">20</text>\n",
       "</g>\n",
       "<!-- 140526306404000&#45;&#45;140526306403496 -->\n",
       "<g class=\"edge\" id=\"edge5\"><title>140526306404000--140526306403496</title>\n",
       "<path d=\"M117,-73.3129C117,-62.1499 117,-47.6602 117,-36.5288\" fill=\"none\" stroke=\"black\"/>\n",
       "</g>\n",
       "<!-- 140526307461440 -->\n",
       "<g class=\"node\" id=\"node7\"><title>140526307461440</title>\n",
       "<path d=\"M192,-0.5C192,-0.5 228,-0.5 228,-0.5 234,-0.5 240,-6.5 240,-12.5 240,-12.5 240,-24.5 240,-24.5 240,-30.5 234,-36.5 228,-36.5 228,-36.5 192,-36.5 192,-36.5 186,-36.5 180,-30.5 180,-24.5 180,-24.5 180,-12.5 180,-12.5 180,-6.5 186,-0.5 192,-0.5\" fill=\"none\" stroke=\"black\"/>\n",
       "<text font-family=\"Times,serif\" font-size=\"14.00\" text-anchor=\"middle\" x=\"195\" y=\"-14.8\">24</text>\n",
       "<polyline fill=\"none\" points=\"210,-0.5 210,-36.5 \" stroke=\"black\"/>\n",
       "<text font-family=\"Times,serif\" font-size=\"14.00\" text-anchor=\"middle\" x=\"225\" y=\"-14.8\">25</text>\n",
       "</g>\n",
       "<!-- 140526306142528&#45;&#45;140526307461440 -->\n",
       "<g class=\"edge\" id=\"edge6\"><title>140526306142528--140526307461440</title>\n",
       "<path d=\"M238.043,-73.3129C232.226,-62.1499 224.675,-47.6602 218.874,-36.5288\" fill=\"none\" stroke=\"black\"/>\n",
       "</g>\n",
       "<!-- 140526307461328 -->\n",
       "<g class=\"node\" id=\"node8\"><title>140526307461328</title>\n",
       "<path d=\"M270,-0.5C270,-0.5 300,-0.5 300,-0.5 306,-0.5 312,-6.5 312,-12.5 312,-12.5 312,-24.5 312,-24.5 312,-30.5 306,-36.5 300,-36.5 300,-36.5 270,-36.5 270,-36.5 264,-36.5 258,-30.5 258,-24.5 258,-24.5 258,-12.5 258,-12.5 258,-6.5 264,-0.5 270,-0.5\" fill=\"none\" stroke=\"black\"/>\n",
       "<text font-family=\"Times,serif\" font-size=\"14.00\" text-anchor=\"middle\" x=\"285\" y=\"-14.8\">30</text>\n",
       "</g>\n",
       "<!-- 140526306142528&#45;&#45;140526307461328 -->\n",
       "<g class=\"edge\" id=\"edge7\"><title>140526306142528--140526307461328</title>\n",
       "<path d=\"M256.199,-73.3129C262.173,-62.1499 269.928,-47.6602 275.886,-36.5288\" fill=\"none\" stroke=\"black\"/>\n",
       "</g>\n",
       "<!-- 140526305753520 -->\n",
       "<g class=\"node\" id=\"node9\"><title>140526305753520</title>\n",
       "<path d=\"M342,-0.5C342,-0.5 378,-0.5 378,-0.5 384,-0.5 390,-6.5 390,-12.5 390,-12.5 390,-24.5 390,-24.5 390,-30.5 384,-36.5 378,-36.5 378,-36.5 342,-36.5 342,-36.5 336,-36.5 330,-30.5 330,-24.5 330,-24.5 330,-12.5 330,-12.5 330,-6.5 336,-0.5 342,-0.5\" fill=\"none\" stroke=\"black\"/>\n",
       "<text font-family=\"Times,serif\" font-size=\"14.00\" text-anchor=\"middle\" x=\"345\" y=\"-14.8\">36</text>\n",
       "<polyline fill=\"none\" points=\"360,-0.5 360,-36.5 \" stroke=\"black\"/>\n",
       "<text font-family=\"Times,serif\" font-size=\"14.00\" text-anchor=\"middle\" x=\"375\" y=\"-14.8\">38</text>\n",
       "</g>\n",
       "<!-- 140526307560920&#45;&#45;140526305753520 -->\n",
       "<g class=\"edge\" id=\"edge8\"><title>140526307560920--140526305753520</title>\n",
       "<path d=\"M360,-73.3129C360,-62.1499 360,-47.6602 360,-36.5288\" fill=\"none\" stroke=\"black\"/>\n",
       "</g>\n",
       "<!-- 140526306142472 -->\n",
       "<g class=\"node\" id=\"node10\"><title>140526306142472</title>\n",
       "<path d=\"M420,-0.5C420,-0.5 486,-0.5 486,-0.5 492,-0.5 498,-6.5 498,-12.5 498,-12.5 498,-24.5 498,-24.5 498,-30.5 492,-36.5 486,-36.5 486,-36.5 420,-36.5 420,-36.5 414,-36.5 408,-30.5 408,-24.5 408,-24.5 408,-12.5 408,-12.5 408,-6.5 414,-0.5 420,-0.5\" fill=\"none\" stroke=\"black\"/>\n",
       "<text font-family=\"Times,serif\" font-size=\"14.00\" text-anchor=\"middle\" x=\"423\" y=\"-14.8\">45</text>\n",
       "<polyline fill=\"none\" points=\"438,-0.5 438,-36.5 \" stroke=\"black\"/>\n",
       "<text font-family=\"Times,serif\" font-size=\"14.00\" text-anchor=\"middle\" x=\"453\" y=\"-14.8\">48</text>\n",
       "<polyline fill=\"none\" points=\"468,-0.5 468,-36.5 \" stroke=\"black\"/>\n",
       "<text font-family=\"Times,serif\" font-size=\"14.00\" text-anchor=\"middle\" x=\"483\" y=\"-14.8\">49</text>\n",
       "</g>\n",
       "<!-- 140526307560920&#45;&#45;140526306142472 -->\n",
       "<g class=\"edge\" id=\"edge9\"><title>140526307560920--140526306142472</title>\n",
       "<path d=\"M382.513,-73.3129C397.135,-62.1499 416.114,-47.6602 430.695,-36.5288\" fill=\"none\" stroke=\"black\"/>\n",
       "</g>\n",
       "</g>\n",
       "</svg>"
      ],
      "text/plain": [
       "<IPython.core.display.SVG object>"
      ]
     },
     "execution_count": 495,
     "metadata": {},
     "output_type": "execute_result"
    }
   ],
   "source": [
    "btree.display(Dummy)"
   ]
  },
  {
   "cell_type": "code",
   "execution_count": 496,
   "metadata": {},
   "outputs": [
    {
     "name": "stdout",
     "output_type": "stream",
     "text": [
      "Traitement feuille\n"
     ]
    },
    {
     "data": {
      "image/svg+xml": [
       "<svg height=\"191pt\" viewBox=\"0.00 0.00 506.00 191.00\" width=\"506pt\" xmlns=\"http://www.w3.org/2000/svg\" xmlns:xlink=\"http://www.w3.org/1999/xlink\">\n",
       "<g class=\"graph\" id=\"graph0\" transform=\"scale(1 1) rotate(0) translate(4 187)\">\n",
       "<title>temp</title>\n",
       "<polygon fill=\"white\" points=\"-4,4 -4,-187 502,-187 502,4 -4,4\" stroke=\"none\"/>\n",
       "<!-- 140526306141688 -->\n",
       "<g class=\"node\" id=\"node1\"><title>140526306141688</title>\n",
       "<path d=\"M186,-146.5C186,-146.5 216,-146.5 216,-146.5 222,-146.5 228,-152.5 228,-158.5 228,-158.5 228,-170.5 228,-170.5 228,-176.5 222,-182.5 216,-182.5 216,-182.5 186,-182.5 186,-182.5 180,-182.5 174,-176.5 174,-170.5 174,-170.5 174,-158.5 174,-158.5 174,-152.5 180,-146.5 186,-146.5\" fill=\"none\" stroke=\"black\"/>\n",
       "<text font-family=\"Times,serif\" font-size=\"14.00\" text-anchor=\"middle\" x=\"201\" y=\"-160.8\">22</text>\n",
       "</g>\n",
       "<!-- 140526306404000 -->\n",
       "<g class=\"node\" id=\"node2\"><title>140526306404000</title>\n",
       "<path d=\"M102,-73.5C102,-73.5 132,-73.5 132,-73.5 138,-73.5 144,-79.5 144,-85.5 144,-85.5 144,-97.5 144,-97.5 144,-103.5 138,-109.5 132,-109.5 132,-109.5 102,-109.5 102,-109.5 96,-109.5 90,-103.5 90,-97.5 90,-97.5 90,-85.5 90,-85.5 90,-79.5 96,-73.5 102,-73.5\" fill=\"none\" stroke=\"black\"/>\n",
       "<text font-family=\"Times,serif\" font-size=\"14.00\" text-anchor=\"middle\" x=\"117\" y=\"-87.8\">15</text>\n",
       "</g>\n",
       "<!-- 140526306141688&#45;&#45;140526306404000 -->\n",
       "<g class=\"edge\" id=\"edge1\"><title>140526306141688--140526306404000</title>\n",
       "<path d=\"M180.666,-146.313C167.459,-135.15 150.316,-120.66 137.147,-109.529\" fill=\"none\" stroke=\"black\"/>\n",
       "</g>\n",
       "<!-- 140526306142528 -->\n",
       "<g class=\"node\" id=\"node3\"><title>140526306142528</title>\n",
       "<path d=\"M252,-73.5C252,-73.5 318,-73.5 318,-73.5 324,-73.5 330,-79.5 330,-85.5 330,-85.5 330,-97.5 330,-97.5 330,-103.5 324,-109.5 318,-109.5 318,-109.5 252,-109.5 252,-109.5 246,-109.5 240,-103.5 240,-97.5 240,-97.5 240,-85.5 240,-85.5 240,-79.5 246,-73.5 252,-73.5\" fill=\"none\" stroke=\"black\"/>\n",
       "<text font-family=\"Times,serif\" font-size=\"14.00\" text-anchor=\"middle\" x=\"255\" y=\"-87.8\">27</text>\n",
       "<polyline fill=\"none\" points=\"270,-73.5 270,-109.5 \" stroke=\"black\"/>\n",
       "<text font-family=\"Times,serif\" font-size=\"14.00\" text-anchor=\"middle\" x=\"285\" y=\"-87.8\">36</text>\n",
       "<polyline fill=\"none\" points=\"300,-73.5 300,-109.5 \" stroke=\"black\"/>\n",
       "<text font-family=\"Times,serif\" font-size=\"14.00\" text-anchor=\"middle\" x=\"315\" y=\"-87.8\">41</text>\n",
       "</g>\n",
       "<!-- 140526306141688&#45;&#45;140526306142528 -->\n",
       "<g class=\"edge\" id=\"edge2\"><title>140526306141688--140526306142528</title>\n",
       "<path d=\"M221.334,-146.313C234.541,-135.15 251.684,-120.66 264.853,-109.529\" fill=\"none\" stroke=\"black\"/>\n",
       "</g>\n",
       "<!-- 140526306403328 -->\n",
       "<g class=\"node\" id=\"node4\"><title>140526306403328</title>\n",
       "<path d=\"M12,-0.5C12,-0.5 42,-0.5 42,-0.5 48,-0.5 54,-6.5 54,-12.5 54,-12.5 54,-24.5 54,-24.5 54,-30.5 48,-36.5 42,-36.5 42,-36.5 12,-36.5 12,-36.5 6,-36.5 0,-30.5 0,-24.5 0,-24.5 0,-12.5 0,-12.5 0,-6.5 6,-0.5 12,-0.5\" fill=\"none\" stroke=\"black\"/>\n",
       "<text font-family=\"Times,serif\" font-size=\"14.00\" text-anchor=\"middle\" x=\"11.5\" y=\"-14.8\">8</text>\n",
       "<polyline fill=\"none\" points=\"23,-0.5 23,-36.5 \" stroke=\"black\"/>\n",
       "<text font-family=\"Times,serif\" font-size=\"14.00\" text-anchor=\"middle\" x=\"38.5\" y=\"-14.8\">12</text>\n",
       "</g>\n",
       "<!-- 140526306404000&#45;&#45;140526306403328 -->\n",
       "<g class=\"edge\" id=\"edge3\"><title>140526306404000--140526306403328</title>\n",
       "<path d=\"M95.2135,-73.3129C81.0633,-62.1499 62.696,-47.6602 48.5859,-36.5288\" fill=\"none\" stroke=\"black\"/>\n",
       "</g>\n",
       "<!-- 140526306403496 -->\n",
       "<g class=\"node\" id=\"node5\"><title>140526306403496</title>\n",
       "<path d=\"M84,-0.5C84,-0.5 150,-0.5 150,-0.5 156,-0.5 162,-6.5 162,-12.5 162,-12.5 162,-24.5 162,-24.5 162,-30.5 156,-36.5 150,-36.5 150,-36.5 84,-36.5 84,-36.5 78,-36.5 72,-30.5 72,-24.5 72,-24.5 72,-12.5 72,-12.5 72,-6.5 78,-0.5 84,-0.5\" fill=\"none\" stroke=\"black\"/>\n",
       "<text font-family=\"Times,serif\" font-size=\"14.00\" text-anchor=\"middle\" x=\"87\" y=\"-14.8\">18</text>\n",
       "<polyline fill=\"none\" points=\"102,-0.5 102,-36.5 \" stroke=\"black\"/>\n",
       "<text font-family=\"Times,serif\" font-size=\"14.00\" text-anchor=\"middle\" x=\"117\" y=\"-14.8\">19</text>\n",
       "<polyline fill=\"none\" points=\"132,-0.5 132,-36.5 \" stroke=\"black\"/>\n",
       "<text font-family=\"Times,serif\" font-size=\"14.00\" text-anchor=\"middle\" x=\"147\" y=\"-14.8\">20</text>\n",
       "</g>\n",
       "<!-- 140526306404000&#45;&#45;140526306403496 -->\n",
       "<g class=\"edge\" id=\"edge4\"><title>140526306404000--140526306403496</title>\n",
       "<path d=\"M117,-73.3129C117,-62.1499 117,-47.6602 117,-36.5288\" fill=\"none\" stroke=\"black\"/>\n",
       "</g>\n",
       "<!-- 140526307461440 -->\n",
       "<g class=\"node\" id=\"node6\"><title>140526307461440</title>\n",
       "<path d=\"M192,-0.5C192,-0.5 228,-0.5 228,-0.5 234,-0.5 240,-6.5 240,-12.5 240,-12.5 240,-24.5 240,-24.5 240,-30.5 234,-36.5 228,-36.5 228,-36.5 192,-36.5 192,-36.5 186,-36.5 180,-30.5 180,-24.5 180,-24.5 180,-12.5 180,-12.5 180,-6.5 186,-0.5 192,-0.5\" fill=\"none\" stroke=\"black\"/>\n",
       "<text font-family=\"Times,serif\" font-size=\"14.00\" text-anchor=\"middle\" x=\"195\" y=\"-14.8\">24</text>\n",
       "<polyline fill=\"none\" points=\"210,-0.5 210,-36.5 \" stroke=\"black\"/>\n",
       "<text font-family=\"Times,serif\" font-size=\"14.00\" text-anchor=\"middle\" x=\"225\" y=\"-14.8\">25</text>\n",
       "</g>\n",
       "<!-- 140526306142528&#45;&#45;140526307461440 -->\n",
       "<g class=\"edge\" id=\"edge5\"><title>140526306142528--140526307461440</title>\n",
       "<path d=\"M266.845,-73.3129C255.053,-62.1499 239.747,-47.6602 227.988,-36.5288\" fill=\"none\" stroke=\"black\"/>\n",
       "</g>\n",
       "<!-- 140526307461328 -->\n",
       "<g class=\"node\" id=\"node7\"><title>140526307461328</title>\n",
       "<path d=\"M270,-0.5C270,-0.5 300,-0.5 300,-0.5 306,-0.5 312,-6.5 312,-12.5 312,-12.5 312,-24.5 312,-24.5 312,-30.5 306,-36.5 300,-36.5 300,-36.5 270,-36.5 270,-36.5 264,-36.5 258,-30.5 258,-24.5 258,-24.5 258,-12.5 258,-12.5 258,-6.5 264,-0.5 270,-0.5\" fill=\"none\" stroke=\"black\"/>\n",
       "<text font-family=\"Times,serif\" font-size=\"14.00\" text-anchor=\"middle\" x=\"285\" y=\"-14.8\">30</text>\n",
       "</g>\n",
       "<!-- 140526306142528&#45;&#45;140526307461328 -->\n",
       "<g class=\"edge\" id=\"edge6\"><title>140526306142528--140526307461328</title>\n",
       "<path d=\"M285,-73.3129C285,-62.1499 285,-47.6602 285,-36.5288\" fill=\"none\" stroke=\"black\"/>\n",
       "</g>\n",
       "<!-- 140526305753520 -->\n",
       "<g class=\"node\" id=\"node8\"><title>140526305753520</title>\n",
       "<path d=\"M342,-0.5C342,-0.5 378,-0.5 378,-0.5 384,-0.5 390,-6.5 390,-12.5 390,-12.5 390,-24.5 390,-24.5 390,-30.5 384,-36.5 378,-36.5 378,-36.5 342,-36.5 342,-36.5 336,-36.5 330,-30.5 330,-24.5 330,-24.5 330,-12.5 330,-12.5 330,-6.5 336,-0.5 342,-0.5\" fill=\"none\" stroke=\"black\"/>\n",
       "<text font-family=\"Times,serif\" font-size=\"14.00\" text-anchor=\"middle\" x=\"345\" y=\"-14.8\">36</text>\n",
       "<polyline fill=\"none\" points=\"360,-0.5 360,-36.5 \" stroke=\"black\"/>\n",
       "<text font-family=\"Times,serif\" font-size=\"14.00\" text-anchor=\"middle\" x=\"375\" y=\"-14.8\">38</text>\n",
       "</g>\n",
       "<!-- 140526306142528&#45;&#45;140526305753520 -->\n",
       "<g class=\"edge\" id=\"edge7\"><title>140526306142528--140526305753520</title>\n",
       "<path d=\"M303.155,-73.3129C314.947,-62.1499 330.253,-47.6602 342.012,-36.5288\" fill=\"none\" stroke=\"black\"/>\n",
       "</g>\n",
       "<!-- 140526306142472 -->\n",
       "<g class=\"node\" id=\"node9\"><title>140526306142472</title>\n",
       "<path d=\"M420,-0.5C420,-0.5 486,-0.5 486,-0.5 492,-0.5 498,-6.5 498,-12.5 498,-12.5 498,-24.5 498,-24.5 498,-30.5 492,-36.5 486,-36.5 486,-36.5 420,-36.5 420,-36.5 414,-36.5 408,-30.5 408,-24.5 408,-24.5 408,-12.5 408,-12.5 408,-6.5 414,-0.5 420,-0.5\" fill=\"none\" stroke=\"black\"/>\n",
       "<text font-family=\"Times,serif\" font-size=\"14.00\" text-anchor=\"middle\" x=\"423\" y=\"-14.8\">45</text>\n",
       "<polyline fill=\"none\" points=\"438,-0.5 438,-36.5 \" stroke=\"black\"/>\n",
       "<text font-family=\"Times,serif\" font-size=\"14.00\" text-anchor=\"middle\" x=\"453\" y=\"-14.8\">48</text>\n",
       "<polyline fill=\"none\" points=\"468,-0.5 468,-36.5 \" stroke=\"black\"/>\n",
       "<text font-family=\"Times,serif\" font-size=\"14.00\" text-anchor=\"middle\" x=\"483\" y=\"-14.8\">49</text>\n",
       "</g>\n",
       "<!-- 140526306142528&#45;&#45;140526306142472 -->\n",
       "<g class=\"edge\" id=\"edge8\"><title>140526306142528--140526306142472</title>\n",
       "<path d=\"M325.24,-73.4937C351.644,-62.335 386.051,-47.7939 412.506,-36.6136\" fill=\"none\" stroke=\"black\"/>\n",
       "</g>\n",
       "</g>\n",
       "</svg>"
      ],
      "text/plain": [
       "<IPython.core.display.SVG object>"
      ]
     },
     "execution_count": 496,
     "metadata": {},
     "output_type": "execute_result"
    }
   ],
   "source": [
    "btree.display(delete(Dummy, 35))"
   ]
  },
  {
   "cell_type": "code",
   "execution_count": null,
   "metadata": {
    "collapsed": true
   },
   "outputs": [],
   "source": []
  }
 ],
 "metadata": {
  "kernelspec": {
   "display_name": "Python 3",
   "language": "python",
   "name": "python3"
  },
  "language_info": {
   "codemirror_mode": {
    "name": "ipython",
    "version": 3
   },
   "file_extension": ".py",
   "mimetype": "text/x-python",
   "name": "python",
   "nbconvert_exporter": "python",
   "pygments_lexer": "ipython3",
   "version": "3.5.2"
  }
 },
 "nbformat": 4,
 "nbformat_minor": 1
}
