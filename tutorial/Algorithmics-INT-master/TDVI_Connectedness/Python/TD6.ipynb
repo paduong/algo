{
 "cells": [
  {
   "cell_type": "markdown",
   "metadata": {},
   "source": [
    "# Connectedness"
   ]
  },
  {
   "cell_type": "code",
   "execution_count": 1,
   "metadata": {
    "collapsed": true
   },
   "outputs": [],
   "source": [
    "from algopy import graph, graphmat\n",
    "from algopy.graph import Graph\n",
    "from algopy.graphmat import GraphMat"
   ]
  },
  {
   "cell_type": "markdown",
   "metadata": {},
   "source": [
    "Let's first recall how we classify connected components of a graph. Output is a list of size order of the graph, where at a vertex index one finds the corresponding connected component index."
   ]
  },
  {
   "cell_type": "code",
   "execution_count": 2,
   "metadata": {
    "collapsed": true
   },
   "outputs": [],
   "source": [
    "def __cc(G, s, P, nb):\n",
    "    P[s] = nb\n",
    "    for adj in G.adjlists[s]:\n",
    "        if P[adj] == 0:\n",
    "            __cc(G, adj, P, nb)\n",
    "\n",
    "def cc(G):\n",
    "    \"\"\"Computes number of connected components and indexes them.\n",
    "    \n",
    "    Arguments:\n",
    "        G (Graph): undirected graph.\n",
    "    \n",
    "    Returns:\n",
    "        list: mapping list for vertex belonging to given components.\n",
    "        int : number of components\n",
    "        \n",
    "    \"\"\"\n",
    "    P = [0] * G.order\n",
    "    nb = 0\n",
    "    for i in range(G.order):\n",
    "        if P[i] == 0:\n",
    "            nb += 1\n",
    "            __cc(G, i, P, nb)\n",
    "    return P, nb"
   ]
  },
  {
   "cell_type": "markdown",
   "metadata": {},
   "source": [
    "## Union - Find\n",
    "\n",
    "We build up a covering tree out of a list of links in the graph. We optimize in order to get trees having small depths for output."
   ]
  },
  {
   "cell_type": "code",
   "execution_count": 3,
   "metadata": {
    "collapsed": true
   },
   "outputs": [],
   "source": [
    "def find(x, p):\n",
    "    \"\"\"Searches for the representant of connected component of x in p.\"\"\"\n",
    "    rx = x\n",
    "    while p[rx] > -1:\n",
    "        rx = p[rx]\n",
    "    return rx\n",
    "\n",
    "def union(x, y, p):\n",
    "    \"\"\"Links representants of connected components of x and y if different.\"\"\"\n",
    "    rx = find(x, p)\n",
    "    ry = find(y, p)\n",
    "    if ry != rx:\n",
    "        if p[rx] > p[ry]:\n",
    "            p[ry] = p[rx] + p[ry]\n",
    "            p[rx] = ry\n",
    "        else:\n",
    "            p[rx] = p[rx] + p[ry]\n",
    "            p[ry] = rx\n",
    "    \n",
    "def union_find(L, n):\n",
    "    \"\"\"Builds covering forest out of links between vertices.\"\"\"\n",
    "    p = [-1]*n\n",
    "    for (x, y) in L:\n",
    "        union(x, y, p)\n",
    "    return p"
   ]
  },
  {
   "cell_type": "markdown",
   "metadata": {},
   "source": [
    "## KrisNet"
   ]
  },
  {
   "cell_type": "code",
   "execution_count": 4,
   "metadata": {
    "collapsed": true
   },
   "outputs": [],
   "source": [
    "def krisnet_solver(L, n):\n",
    "    \"\"\"Returns chain to add to the structure to be connected.\"\"\"\n",
    "    cc = union_find(L, n)\n",
    "    chain = []\n",
    "    for i in range(n):\n",
    "        if cc[i] < 0:\n",
    "            chain.append(i)\n",
    "    return chain"
   ]
  },
  {
   "cell_type": "markdown",
   "metadata": {},
   "source": [
    "## Journey to The Moon"
   ]
  },
  {
   "cell_type": "code",
   "execution_count": 5,
   "metadata": {
    "collapsed": true
   },
   "outputs": [],
   "source": [
    "def journey(L, n):\n",
    "    \"\"\"Number of possibilities of choosing 2 astronauts from 2 distinct countries\"\"\"\n",
    "    cc = union_find(L, n)\n",
    "    res = 0\n",
    "    for i in range(n):\n",
    "        if cc[i] < 0:\n",
    "            for j in range(i+1, n):\n",
    "                if cc[j] < 0:\n",
    "                    res += cc[i]*cc[j]\n",
    "    return res"
   ]
  },
  {
   "cell_type": "markdown",
   "metadata": {
    "collapsed": true
   },
   "source": [
    "## Connected Components from Edges"
   ]
  },
  {
   "cell_type": "markdown",
   "metadata": {},
   "source": [
    "First a version that returns the vector storing a covering forest."
   ]
  },
  {
   "cell_type": "code",
   "execution_count": 6,
   "metadata": {
    "collapsed": true
   },
   "outputs": [],
   "source": [
    "def find2(x, p):\n",
    "    \"\"\"Searches for the representant of connected component of x in p.\"\"\"\n",
    "    rx = x\n",
    "    while p[rx] > -1:\n",
    "        rx = p[rx]\n",
    "    return rx\n",
    "\n",
    "def union2(x, y, p):\n",
    "    \"\"\"Links representants of connected components of x and y if different.\"\"\"\n",
    "    rx = find2(x, p)\n",
    "    ry = find2(y, p)\n",
    "    if ry != rx:\n",
    "        if p[rx] > p[ry]:\n",
    "            p[ry] = p[rx] + p[ry]\n",
    "            p[rx] = ry\n",
    "        else:\n",
    "            p[rx] = p[rx] + p[ry]\n",
    "            p[ry] = rx\n",
    "        return -1\n",
    "    else:\n",
    "        return 0\n",
    "    \n",
    "def union_find2(L, n):\n",
    "    \"\"\"Builds covering forest out of links between vertices.\"\"\"\n",
    "    p = [-1]*n\n",
    "    k = n\n",
    "    for (x, y) in L:\n",
    "        k += union2(x, y, p)\n",
    "    return k, p"
   ]
  },
  {
   "cell_type": "markdown",
   "metadata": {},
   "source": [
    "A second version giving back the vector of components ; they are indexed from $1$ to the number of connected components, for a given vertex one finds corresponding component index at vertex index."
   ]
  },
  {
   "cell_type": "code",
   "execution_count": 7,
   "metadata": {
    "collapsed": true
   },
   "outputs": [],
   "source": [
    "def cc_from_edges(L, n):\n",
    "    \"\"\"Computing vector of connected components from list of links.\"\"\"\n",
    "    p = union_find(L, n)\n",
    "    cc = [None]*n\n",
    "    k = 0\n",
    "    for s in range(n):\n",
    "        if p[s] < 0:\n",
    "            k += 1\n",
    "            cc[s] = k\n",
    "    for s in range(n):\n",
    "        cc[s] = cc[find(s, p)]\n",
    "    return (cc, k)"
   ]
  },
  {
   "cell_type": "markdown",
   "metadata": {},
   "source": [
    "A more optimized version which gives back a vector enabling connected component identification but that is not indexed from $1$ to the number of connected components. "
   ]
  },
  {
   "cell_type": "code",
   "execution_count": 8,
   "metadata": {
    "collapsed": true
   },
   "outputs": [],
   "source": [
    "def __union(x, y, cc):\n",
    "    if cc[x] != cc[y]:\n",
    "        if cc[x] < cc[y]:\n",
    "            mini, maxi = cc[x], cc[y]\n",
    "        else:\n",
    "            mini, maxi = cc[y], cc[x]\n",
    "        for c_index in range(n):\n",
    "            if cc[c_index] == maxi:\n",
    "                cc[c_index] = mini\n",
    "        return -1\n",
    "    return 0\n",
    "    \n",
    "def cc_from_edges(L, n):\n",
    "    \"\"\"Builds connected component vector out of links between vertices.\"\"\"\n",
    "    cc = [i+1 for i in range(n)]\n",
    "    k = n\n",
    "    for (x, y) in L:\n",
    "        k += __union(x, y, cc)\n",
    "    return k, cc"
   ]
  },
  {
   "cell_type": "markdown",
   "metadata": {},
   "source": [
    "## Connected Components from Warshall"
   ]
  },
  {
   "cell_type": "code",
   "execution_count": 9,
   "metadata": {
    "collapsed": true
   },
   "outputs": [],
   "source": [
    "def cc_from_warshall(M):\n",
    "    \"\"\"Computes connected components vector from Warshall.\"\"\"\n",
    "    n = len(M)\n",
    "    cc = [0] * n\n",
    "    k = 0\n",
    "    for x in range(n):\n",
    "        if cc[x] == 0:\n",
    "            k += 1\n",
    "            cc[x] = k\n",
    "            for y in range(x+1, n):\n",
    "                if M[x][y]:\n",
    "                    cc[y] = k\n",
    "    return k, cc"
   ]
  },
  {
   "cell_type": "markdown",
   "metadata": {},
   "source": [
    "## Warshall"
   ]
  },
  {
   "cell_type": "code",
   "execution_count": 2,
   "metadata": {
    "collapsed": true
   },
   "outputs": [],
   "source": [
    "def init_matrix(n, m, val):\n",
    "    \"\"\"Initializes matrix of size n and m filling it with values val.\"\"\"\n",
    "    M = []\n",
    "    for i in range(n):\n",
    "        M.append([])\n",
    "        for j in range(m):\n",
    "            M[i].append(val)\n",
    "    return M"
   ]
  },
  {
   "cell_type": "markdown",
   "metadata": {},
   "source": [
    "@Nathalie's versions."
   ]
  },
  {
   "cell_type": "code",
   "execution_count": 3,
   "metadata": {
    "collapsed": true
   },
   "outputs": [],
   "source": [
    "def warshall(G):\n",
    "    M = init_matrix(G.order, G.order, 0)\n",
    "    for s in range(G.order):\n",
    "        for adj in G.adjlists[s]:\n",
    "            M[s][adj] = 1\n",
    "            \n",
    "    for k in range(G.order):\n",
    "        for i in range(G.order):\n",
    "            for j in range(G.order):\n",
    "                M[i][j] = M[i][j] or M[i][k] and M[k][j]\n",
    "    \n",
    "    return M\n",
    "\n",
    "def warshall_quick(G):\n",
    "    M = init_matrix(G.order, G.order, 0)\n",
    "    for s in range(G.order):\n",
    "        for adj in G.adjlists[s]:\n",
    "            M[s][adj] = 1\n",
    "            \n",
    "    for k in range(G.order):\n",
    "        for i in range(G.order):\n",
    "            if M[i][k]:\n",
    "                for j in range(G.order):\n",
    "                    M[i][j] = M[i][j] or M[k][j]\n",
    "    "
   ]
  },
  {
   "cell_type": "markdown",
   "metadata": {},
   "source": [
    "## I Want To Be Tree"
   ]
  },
  {
   "cell_type": "code",
   "execution_count": 10,
   "metadata": {
    "collapsed": true
   },
   "outputs": [],
   "source": [
    "def __betree(G, s, P, nocc, cc):\n",
    "    for i in range(G.order):\n",
    "        if G.adj[s][i]:\n",
    "            if P[i] is None:\n",
    "                P[i] = s\n",
    "                cc[i] = nocc\n",
    "                __betree(G, i, P)\n",
    "            elif P[s] != i:\n",
    "                G.adj[s][i] -= 1\n",
    "                G.adj[i][s] -= 1\n",
    "def betree(G):\n",
    "    \"\"\"Transform a graph into a tree.\"\"\"\n",
    "    P = [None] * G.order\n",
    "    cc = [0] * G.order\n",
    "    nocc = 1\n",
    "    __betree(G, 0, P, nocc, cc)\n",
    "    for i in range(1, G.order):\n",
    "        nocc += 1\n",
    "        if P[i] is None:\n",
    "            __betree(G, i, P, nocc, cc)\n",
    "            G.addedge(0, i)\n",
    "    return G, P"
   ]
  },
  {
   "cell_type": "markdown",
   "metadata": {},
   "source": [
    "## Even Tree"
   ]
  },
  {
   "cell_type": "code",
   "execution_count": 4,
   "metadata": {
    "collapsed": true
   },
   "outputs": [],
   "source": [
    "def __even_tree(G, src, M):\n",
    "    M[src] = True\n",
    "    size = 1\n",
    "    removed = 0\n",
    "    for succ in G.adjLists[src]:\n",
    "        if not M[succ]:\n",
    "            s, r = __even_tree(G, succ, M)\n",
    "            removed += r\n",
    "            if s % 2 == 0:\n",
    "                removed += 1\n",
    "            else:\n",
    "                size += s\n",
    "    return size, removed\n",
    "\n",
    "def even_tree(G):\n",
    "    M = [False]*G.order\n",
    "    (_, removed) = dfs(G, 0, M)\n",
    "    return removed"
   ]
  },
  {
   "cell_type": "markdown",
   "metadata": {
    "collapsed": true
   },
   "source": [
    "## Strongly Connected Components -- Naive"
   ]
  },
  {
   "cell_type": "code",
   "execution_count": 11,
   "metadata": {
    "collapsed": true
   },
   "outputs": [],
   "source": [
    "def reverse(G):\n",
    "    G_inv = Graph(G.order, True)\n",
    "    for s in range(G.order):\n",
    "        for adj in G.adjlists[s]:\n",
    "            G_inv.addedge(adj, s)\n",
    "    return G_inv"
   ]
  },
  {
   "cell_type": "code",
   "execution_count": 1,
   "metadata": {
    "collapsed": true
   },
   "outputs": [],
   "source": [
    "def __dfs(G, s, M):\n",
    "    M[s] = True\n",
    "    for adj in G.adjlists[s]:\n",
    "        if M[adj] is None:\n",
    "            __dfs(G, adj, M)\n",
    "        \n",
    "def dfs(G, s):\n",
    "    \"\"\"Single traversal starting at vertex s.\"\"\"\n",
    "    M = [None]*G.order\n",
    "    __dfs(G, s, M)\n",
    "    return M\n",
    "\n",
    "def scc_naive(G):\n",
    "    G_inv = reverse(G)\n",
    "    scc = [0]*G.order\n",
    "    no_scc = 1\n",
    "    for s in range(G.order):\n",
    "        if not scc[s]:\n",
    "            plus = dfs(G, s)\n",
    "            minus = dfs(G_inv, s)\n",
    "            for vertex in range(G.order):\n",
    "                if plus[vertex] and minus[vertex]:\n",
    "                    scc[vertex] = no_scc\n",
    "            no_scc += 1\n",
    "    return scc, no_scc"
   ]
  },
  {
   "cell_type": "markdown",
   "metadata": {},
   "source": [
    "## Kosaraju algorithm\n",
    "\n",
    "This one has been already given by Nathalie on her webpage. "
   ]
  },
  {
   "cell_type": "markdown",
   "metadata": {
    "collapsed": true
   },
   "source": [
    "## Tarjan Algorithm"
   ]
  },
  {
   "cell_type": "code",
   "execution_count": 13,
   "metadata": {
    "collapsed": true
   },
   "outputs": [],
   "source": [
    "from algopy import stack\n",
    "from algopy.stack import Stack"
   ]
  },
  {
   "cell_type": "code",
   "execution_count": 14,
   "metadata": {
    "collapsed": true
   },
   "outputs": [],
   "source": [
    "stack??"
   ]
  },
  {
   "cell_type": "code",
   "execution_count": 15,
   "metadata": {
    "collapsed": true
   },
   "outputs": [],
   "source": [
    "def __tarjan(G, x, pref, cpt, scc, no_scc, v_stack):\n",
    "    # Preorder treatments\n",
    "    cpt += 1\n",
    "    pref[x] = cpt\n",
    "    v_stack.push(x)\n",
    "    return_x = pref[x]\n",
    "    # Recursive bloc\n",
    "    for adj in G.adjlists[x]:\n",
    "        if pref[adj] == 0:\n",
    "            (return_adj, cpt, no_scc) = __tarjan(G, adj, pref, cpt, scc, no_scc, v_stack)\n",
    "            return_x = min(return_x, return_adj)\n",
    "        else:\n",
    "            return_x = min(return_x, pref[adj])\n",
    "    # Postorder treatment\n",
    "    if pref[x] == return_x:\n",
    "        no_scc += 1\n",
    "        y = -1\n",
    "        while y != x:\n",
    "            y = v_stack.pop()\n",
    "            scc[y] = no_scc\n",
    "            pref[y] = G.order\n",
    "    return return_x, cpt, no_scc\n",
    "    \n",
    "def tarjan(G):\n",
    "    \"\"\"Computes vector of SCC using Tarjan algorithm\"\"\"\n",
    "    pref, scc = [0]*G.order, [0]*G.order\n",
    "    cpt, no_scc = 0, 0\n",
    "    v_stack = Stack()\n",
    "    for s in range(G.order):\n",
    "        if pref[s] == 0:\n",
    "            (_, cpt, no_scc) = __tarjan(G, s, pref, cpt, scc, no_scc, v_stack)\n",
    "    return no_scc, scc"
   ]
  }
 ],
 "metadata": {
  "kernelspec": {
   "display_name": "Python 3",
   "language": "python",
   "name": "python3"
  },
  "language_info": {
   "codemirror_mode": {
    "name": "ipython",
    "version": 3
   },
   "file_extension": ".py",
   "mimetype": "text/x-python",
   "name": "python",
   "nbconvert_exporter": "python",
   "pygments_lexer": "ipython3",
   "version": "3.5.2"
  }
 },
 "nbformat": 4,
 "nbformat_minor": 2
}
