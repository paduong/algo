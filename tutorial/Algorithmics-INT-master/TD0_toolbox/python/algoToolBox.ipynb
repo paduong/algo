{
 "cells": [
  {
   "cell_type": "markdown",
   "metadata": {},
   "source": [
    "# Algo Toolbox and \"<em>Pythonneries</em>\"\n",
    "## Listes"
   ]
  },
  {
   "cell_type": "markdown",
   "metadata": {
    "collapsed": true
   },
   "source": [
    "### <b><font color=\"blue\">Exercise: Split List</font></b>\n",
    "Write a function that split a list of length <tt>n</tt>, with n odd, into 3 parts: \n",
    "- the elements of the first half of the list (without the middle one)\n",
    "- the middle element\n",
    "- the elements of the second half of the list (without the middle one)\n"
   ]
  },
  {
   "cell_type": "code",
   "execution_count": 4,
   "metadata": {
    "collapsed": true
   },
   "outputs": [],
   "source": [
    "def splitlist(L):\n",
    "    n = len(L)\n",
    "    L1 = []\n",
    "    for i in range(n//2):\n",
    "        L1.append(L[i])\n",
    "    L2 = []\n",
    "    for i in range(n//2+1, n):\n",
    "        L2.append(L[i])\n",
    "    return (L1, L[n//2], L2)"
   ]
  },
  {
   "cell_type": "code",
   "execution_count": 5,
   "metadata": {
    "collapsed": true
   },
   "outputs": [],
   "source": [
    "L = [1, 2, 3, 4, 5, 6, 7, 8, 9]"
   ]
  },
  {
   "cell_type": "code",
   "execution_count": 6,
   "metadata": {},
   "outputs": [
    {
     "data": {
      "text/plain": [
       "([1, 2, 3, 4], 5, [6, 7, 8, 9])"
      ]
     },
     "execution_count": 6,
     "metadata": {},
     "output_type": "execute_result"
    }
   ],
   "source": [
    "splitlist(L)"
   ]
  },
  {
   "cell_type": "markdown",
   "metadata": {},
   "source": [
    "This can be simplified with <em>Python list slices</em>:\n",
    "- L[a:b] is the sub list of L with elements from positions a to b (b excluded)\n",
    "- L[:a] is the list L[0:a]\n",
    "- L[a:] is the list L[b:len(n)]\n",
    "- L[-1] is L[len(L)]"
   ]
  },
  {
   "cell_type": "code",
   "execution_count": 7,
   "metadata": {
    "collapsed": true
   },
   "outputs": [],
   "source": [
    "def splitlist(L):\n",
    "    n = len(L)\n",
    "    return (L[:n//2], L[n//2], L[n//2+1:])"
   ]
  },
  {
   "cell_type": "code",
   "execution_count": 8,
   "metadata": {},
   "outputs": [
    {
     "data": {
      "text/plain": [
       "([1, 2, 3, 4], 5, [6, 7, 8, 9])"
      ]
     },
     "execution_count": 8,
     "metadata": {},
     "output_type": "execute_result"
    }
   ],
   "source": [
    "splitlist(L)"
   ]
  },
  {
   "cell_type": "markdown",
   "metadata": {},
   "source": [
    "### <b><font color=\"blue\">Exercise: Binary Search</font></b>\n",
    "Write two functions to search an element in a sorted (in increasing order) list:\n",
    "- <tt>binarysearch(L, x, left, right)</tt> returns the position where <tt>x</tt> is or might be in <tt>L[left, right[</tt>, with  <tt>L</tt> sorted in increasing order.\n"
   ]
  },
  {
   "cell_type": "code",
   "execution_count": 9,
   "metadata": {
    "collapsed": true
   },
   "outputs": [],
   "source": [
    "def binarysearch(L, x, left, right):\n",
    "    \"\"\"\n",
    "    returns the position where x is or might be\n",
    "    \"\"\"\n",
    "\n",
    "    if right <= left:\n",
    "        return right\n",
    "    mid = left + (right-left)//2\n",
    "    if L[mid] == x:\n",
    "        return mid\n",
    "    elif x < L[mid]:\n",
    "        return binarysearch(L, x, left, mid)\n",
    "    else:\n",
    "        return binarysearch(L, x, mid+1, right)"
   ]
  },
  {
   "cell_type": "markdown",
   "metadata": {},
   "source": [
    "- <tt>listSearch(x, L)</tt> returns <tt>-1</tt> if <tt>x</tt> in not in the list <tt>L</tt>, its position otherwise"
   ]
  },
  {
   "cell_type": "code",
   "execution_count": 10,
   "metadata": {
    "collapsed": true
   },
   "outputs": [],
   "source": [
    "def listsearch(x, L):\n",
    "    i = binarysearch(L, x, 0, len(L))\n",
    "    if i < len(L) and L[i]  == x:\n",
    "        return i\n",
    "    else:\n",
    "        return -1"
   ]
  },
  {
   "cell_type": "markdown",
   "metadata": {},
   "source": [
    "With <em>Python \"ternary\" operator</em>:\n",
    "<tt>[on_true] if [expression] else [on_false]</tt>"
   ]
  },
  {
   "cell_type": "code",
   "execution_count": 11,
   "metadata": {
    "collapsed": true
   },
   "outputs": [],
   "source": [
    "def listsearch2(x, L):\n",
    "    i = binarySearch(L, x, 0, len(L))\n",
    "    return i if (i < len(L)) and (L[i] == x) else -1"
   ]
  },
  {
   "cell_type": "markdown",
   "metadata": {},
   "source": [
    "### <b><font color=\"blue\">Exercise: Build List &rarr; Build Matrix</font></b>\n",
    "Write the function <tt>buildlist(nb, val = None, alea = None)</tt> that builds a new list of length <tt>nb</tt>:\n",
    "- <tt>buildlist(nb)</tt> returns  <tt>[None, None, ...]</tt>\n",
    "- <tt>buildlist(nb, val)</tt> returns <tt>[val, val, ...]</tt>\n",
    "- <tt>buildlist(nb, alea = (a, b))</tt> returns a list of <tt>nb</tt> random values in <tt>[a, b[</tt>"
   ]
  },
  {
   "cell_type": "markdown",
   "metadata": {},
   "source": [
    "Note: <tt>if a:</tt> is <tt>False</tt> when <tt>a</tt> is <tt>0, None, [], \"\" ...</tt>"
   ]
  },
  {
   "cell_type": "code",
   "execution_count": 12,
   "metadata": {},
   "outputs": [
    {
     "name": "stdout",
     "output_type": "stream",
     "text": [
      "Help on method randint in module random:\n",
      "\n",
      "randint(a, b) method of random.Random instance\n",
      "    Return random integer in range [a, b], including both end points.\n",
      "\n"
     ]
    }
   ],
   "source": [
    "# Reminder on imports, random and seed\n",
    "import random\n",
    "help(random.randint)"
   ]
  },
  {
   "cell_type": "code",
   "execution_count": 13,
   "metadata": {},
   "outputs": [
    {
     "name": "stdout",
     "output_type": "stream",
     "text": [
      "Help on method seed in module random:\n",
      "\n",
      "seed(a=None, version=2) method of random.Random instance\n",
      "    Initialize internal state from hashable object.\n",
      "    \n",
      "    None or no argument seeds from current time or from an operating\n",
      "    system specific randomness source if available.\n",
      "    \n",
      "    For version 2 (the default), all of the bits are used if *a* is a str,\n",
      "    bytes, or bytearray.  For version 1, the hash() of *a* is used instead.\n",
      "    \n",
      "    If *a* is an int, all bits are used.\n",
      "\n"
     ]
    }
   ],
   "source": [
    "help(random.seed)\n",
    "random.seed()    # do it once only!"
   ]
  },
  {
   "cell_type": "code",
   "execution_count": 14,
   "metadata": {
    "collapsed": true
   },
   "outputs": [],
   "source": [
    "def buildlist(nb, val = None, alea = None):\n",
    "    L = []\n",
    "    if alea:\n",
    "        for i in range(nb):\n",
    "            L.append(randint(alea[0], alea[1]-1))\n",
    "    else:\n",
    "        for i in range(nb):\n",
    "            L.append(val)\n",
    "    return L"
   ]
  },
  {
   "cell_type": "markdown",
   "metadata": {},
   "source": [
    "<em>Python gives a short way to build list</em>: <tt>[val] * nb</tt>"
   ]
  },
  {
   "cell_type": "code",
   "execution_count": 15,
   "metadata": {
    "collapsed": true
   },
   "outputs": [],
   "source": [
    "def buildlist(nb, val = None, alea = None):\n",
    "    if alea:\n",
    "        L = []\n",
    "        for i in range(nb):\n",
    "            L.append(randint(alea[0], alea[1]-1))\n",
    "    else:\n",
    "        L = [val] * nb\n",
    "    return L"
   ]
  },
  {
   "cell_type": "markdown",
   "metadata": {},
   "source": [
    "Note: the \"short\" version (<tt>[val] * n</tt>) does not work with random numbers..."
   ]
  },
  {
   "cell_type": "code",
   "execution_count": 16,
   "metadata": {},
   "outputs": [
    {
     "data": {
      "text/plain": [
       "[5, 5, 5, 5, 5]"
      ]
     },
     "execution_count": 16,
     "metadata": {},
     "output_type": "execute_result"
    }
   ],
   "source": [
    "[random.randint(0, 10)] * 5"
   ]
  },
  {
   "cell_type": "markdown",
   "metadata": {},
   "source": [
    "#### Introducing \"list comprehension\""
   ]
  },
  {
   "cell_type": "code",
   "execution_count": 17,
   "metadata": {
    "collapsed": true
   },
   "outputs": [],
   "source": [
    "def buildList(nb, val = None, alea = None):\n",
    "    if alea:\n",
    "        return [random.randint(alea[0], alea[1]) for i in range(nb)]\n",
    "    else:\n",
    "        return [val for i in range(nb)] "
   ]
  },
  {
   "cell_type": "code",
   "execution_count": 31,
   "metadata": {},
   "outputs": [
    {
     "data": {
      "text/plain": [
       "([0, 0, 0, 0, 0], [4, 10, 5, 1, 6])"
      ]
     },
     "execution_count": 31,
     "metadata": {},
     "output_type": "execute_result"
    }
   ],
   "source": [
    "buildList(5, 0), buildList(5, alea = (0,10))"
   ]
  },
  {
   "cell_type": "markdown",
   "metadata": {},
   "source": [
    "#### <font color=\"red\"> ALERTE : sous Python les listes sont des objets mutables ! </font>\n",
    "\n",
    "Une liste sous Python est une liste de références vers des objets en mémoire. Quand plusieurs éléments de la liste référence le même objet, que celui-ci est modifié, le reste suit.  "
   ]
  },
  {
   "cell_type": "code",
   "execution_count": 32,
   "metadata": {
    "collapsed": true
   },
   "outputs": [],
   "source": [
    "a = [1, 2]"
   ]
  },
  {
   "cell_type": "code",
   "execution_count": 33,
   "metadata": {
    "collapsed": true
   },
   "outputs": [],
   "source": [
    "b = a"
   ]
  },
  {
   "cell_type": "code",
   "execution_count": 35,
   "metadata": {},
   "outputs": [
    {
     "data": {
      "text/plain": [
       "[1, 3]"
      ]
     },
     "execution_count": 35,
     "metadata": {},
     "output_type": "execute_result"
    }
   ],
   "source": [
    "a[1] = 3\n",
    "b"
   ]
  },
  {
   "cell_type": "code",
   "execution_count": 36,
   "metadata": {},
   "outputs": [
    {
     "data": {
      "text/plain": [
       "139999770497544"
      ]
     },
     "execution_count": 36,
     "metadata": {},
     "output_type": "execute_result"
    }
   ],
   "source": [
    "id(a)"
   ]
  },
  {
   "cell_type": "code",
   "execution_count": 38,
   "metadata": {},
   "outputs": [
    {
     "data": {
      "text/plain": [
       "139999770497544"
      ]
     },
     "execution_count": 38,
     "metadata": {},
     "output_type": "execute_result"
    }
   ],
   "source": [
    "id(b)"
   ]
  },
  {
   "cell_type": "code",
   "execution_count": 39,
   "metadata": {
    "collapsed": true
   },
   "outputs": [],
   "source": [
    "c = [1, 2]"
   ]
  },
  {
   "cell_type": "code",
   "execution_count": 41,
   "metadata": {
    "collapsed": true
   },
   "outputs": [],
   "source": [
    "d = c"
   ]
  },
  {
   "cell_type": "code",
   "execution_count": 43,
   "metadata": {
    "collapsed": true
   },
   "outputs": [],
   "source": [
    "c = c + [1, 2]"
   ]
  },
  {
   "cell_type": "code",
   "execution_count": 44,
   "metadata": {},
   "outputs": [
    {
     "data": {
      "text/plain": [
       "([1, 2, 1, 2, 1, 2], 139999829979336)"
      ]
     },
     "execution_count": 44,
     "metadata": {},
     "output_type": "execute_result"
    }
   ],
   "source": [
    "(c, id(c))"
   ]
  },
  {
   "cell_type": "code",
   "execution_count": 45,
   "metadata": {},
   "outputs": [
    {
     "data": {
      "text/plain": [
       "([1, 2], 139999829979336)"
      ]
     },
     "execution_count": 45,
     "metadata": {},
     "output_type": "execute_result"
    }
   ],
   "source": [
    "(d, id(c))"
   ]
  },
  {
   "cell_type": "markdown",
   "metadata": {},
   "source": [
    "Dans notre cas, ce comportement provoque le problème suitvant :"
   ]
  },
  {
   "cell_type": "code",
   "execution_count": 19,
   "metadata": {
    "collapsed": true
   },
   "outputs": [],
   "source": [
    "L = buildList(9, [])"
   ]
  },
  {
   "cell_type": "code",
   "execution_count": 20,
   "metadata": {},
   "outputs": [
    {
     "data": {
      "text/plain": [
       "[[], [], [], [], [], [], [], [], []]"
      ]
     },
     "execution_count": 20,
     "metadata": {},
     "output_type": "execute_result"
    }
   ],
   "source": [
    "L"
   ]
  },
  {
   "cell_type": "code",
   "execution_count": 21,
   "metadata": {
    "collapsed": true
   },
   "outputs": [],
   "source": [
    "L[0].append(1)"
   ]
  },
  {
   "cell_type": "code",
   "execution_count": 46,
   "metadata": {},
   "outputs": [
    {
     "data": {
      "text/plain": [
       "[[1], [1], [1], [1], [1], [1], [1], [1], [1]]"
      ]
     },
     "execution_count": 46,
     "metadata": {},
     "output_type": "execute_result"
    }
   ],
   "source": [
    "L"
   ]
  },
  {
   "cell_type": "code",
   "execution_count": 47,
   "metadata": {},
   "outputs": [
    {
     "data": {
      "text/plain": [
       "[139999770407496,\n",
       " 139999770407496,\n",
       " 139999770407496,\n",
       " 139999770407496,\n",
       " 139999770407496,\n",
       " 139999770407496,\n",
       " 139999770407496,\n",
       " 139999770407496,\n",
       " 139999770407496]"
      ]
     },
     "execution_count": 47,
     "metadata": {},
     "output_type": "execute_result"
    }
   ],
   "source": [
    "[id(l) for l in L]"
   ]
  },
  {
   "cell_type": "markdown",
   "metadata": {},
   "source": [
    "Voici une manière de régler ce problème dans <tt>buildList</tt>, pour ce qui est de la liste vide. Il faut pour cela faire appel au constructeur de la liste vide à chaque instance de la boucle. "
   ]
  },
  {
   "cell_type": "code",
   "execution_count": 48,
   "metadata": {
    "collapsed": true
   },
   "outputs": [],
   "source": [
    "def buildlist(nb, val = None, alea = None):\n",
    "    if alea:\n",
    "        return [randint(alea[0], alea[1] - 1) for i in range(nb)]\n",
    "    if val == []:\n",
    "        return [[] for i in range(nb)]\n",
    "    else:\n",
    "        return [val] * nb"
   ]
  },
  {
   "cell_type": "code",
   "execution_count": 54,
   "metadata": {
    "collapsed": true
   },
   "outputs": [],
   "source": [
    "L = buildlist(9, [])"
   ]
  },
  {
   "cell_type": "code",
   "execution_count": 55,
   "metadata": {},
   "outputs": [
    {
     "data": {
      "text/plain": [
       "[[], [], [], [], [], [], [], [], []]"
      ]
     },
     "execution_count": 55,
     "metadata": {},
     "output_type": "execute_result"
    }
   ],
   "source": [
    "L"
   ]
  },
  {
   "cell_type": "code",
   "execution_count": 57,
   "metadata": {},
   "outputs": [
    {
     "data": {
      "text/plain": [
       "[[1, 1], [], [], [], [], [], [], [], []]"
      ]
     },
     "execution_count": 57,
     "metadata": {},
     "output_type": "execute_result"
    }
   ],
   "source": [
    "L[0].append(1)\n",
    "L"
   ]
  },
  {
   "cell_type": "code",
   "execution_count": 59,
   "metadata": {},
   "outputs": [
    {
     "data": {
      "text/plain": [
       "[139999770498376,\n",
       " 139999760849160,\n",
       " 139999761716552,\n",
       " 139999761503944,\n",
       " 139999761715784,\n",
       " 139999761707080,\n",
       " 139999761414024,\n",
       " 139999761414088,\n",
       " 139999761414472]"
      ]
     },
     "execution_count": 59,
     "metadata": {},
     "output_type": "execute_result"
    }
   ],
   "source": [
    "[id(l) for l in L]"
   ]
  },
  {
   "cell_type": "markdown",
   "metadata": {},
   "source": [
    "Notez cependant qu'on pourrait encore chercher la petite bête ..."
   ]
  },
  {
   "cell_type": "code",
   "execution_count": 60,
   "metadata": {},
   "outputs": [
    {
     "data": {
      "text/plain": [
       "[[2], [2], [2], [2], [2], [2], [2], [2], [2]]"
      ]
     },
     "execution_count": 60,
     "metadata": {},
     "output_type": "execute_result"
    }
   ],
   "source": [
    "L = buildList(9, [2])\n",
    "L"
   ]
  },
  {
   "cell_type": "code",
   "execution_count": 62,
   "metadata": {},
   "outputs": [
    {
     "data": {
      "text/plain": [
       "[[2, 1, 1],\n",
       " [2, 1, 1],\n",
       " [2, 1, 1],\n",
       " [2, 1, 1],\n",
       " [2, 1, 1],\n",
       " [2, 1, 1],\n",
       " [2, 1, 1],\n",
       " [2, 1, 1],\n",
       " [2, 1, 1]]"
      ]
     },
     "execution_count": 62,
     "metadata": {},
     "output_type": "execute_result"
    }
   ],
   "source": [
    "L[0].append(1)\n",
    "L"
   ]
  },
  {
   "cell_type": "code",
   "execution_count": 63,
   "metadata": {},
   "outputs": [
    {
     "data": {
      "text/plain": [
       "[139999770482120,\n",
       " 139999770482120,\n",
       " 139999770482120,\n",
       " 139999770482120,\n",
       " 139999770482120,\n",
       " 139999770482120,\n",
       " 139999770482120,\n",
       " 139999770482120,\n",
       " 139999770482120]"
      ]
     },
     "execution_count": 63,
     "metadata": {},
     "output_type": "execute_result"
    }
   ],
   "source": [
    "[id(l) for l in L]"
   ]
  },
  {
   "cell_type": "code",
   "execution_count": 66,
   "metadata": {
    "collapsed": true
   },
   "outputs": [],
   "source": [
    "import copy\n",
    "\n",
    "def buildlist_copy(nb, val = None, alea = None):\n",
    "    if alea:\n",
    "        return [randint(alea[0], alea[1]) for i in range(nb)]\n",
    "    else:\n",
    "        return [copy.deepcopy(val) for i in range(nb)]"
   ]
  },
  {
   "cell_type": "code",
   "execution_count": 67,
   "metadata": {},
   "outputs": [
    {
     "data": {
      "text/plain": [
       "[[2], [2], [2], [2], [2], [2], [2], [2], [2]]"
      ]
     },
     "execution_count": 67,
     "metadata": {},
     "output_type": "execute_result"
    }
   ],
   "source": [
    "L = buildlist_copy(9, [2])\n",
    "L"
   ]
  },
  {
   "cell_type": "code",
   "execution_count": 68,
   "metadata": {},
   "outputs": [
    {
     "data": {
      "text/plain": [
       "[[2, 1], [2], [2], [2], [2], [2], [2], [2], [2]]"
      ]
     },
     "execution_count": 68,
     "metadata": {},
     "output_type": "execute_result"
    }
   ],
   "source": [
    "L[0].append(1)\n",
    "L"
   ]
  },
  {
   "cell_type": "code",
   "execution_count": 69,
   "metadata": {},
   "outputs": [
    {
     "data": {
      "text/plain": [
       "[139999779305928,\n",
       " 139999761412808,\n",
       " 139999770497224,\n",
       " 139999761175304,\n",
       " 139999761131848,\n",
       " 139999761411464,\n",
       " 139999779375816,\n",
       " 139999761177864,\n",
       " 139999761130696]"
      ]
     },
     "execution_count": 69,
     "metadata": {},
     "output_type": "execute_result"
    }
   ],
   "source": [
    "[id(l) for l in L]"
   ]
  },
  {
   "cell_type": "markdown",
   "metadata": {},
   "source": [
    "## <font color=\"blue\"> Exercice : buildmatrix"
   ]
  },
  {
   "cell_type": "markdown",
   "metadata": {},
   "source": [
    "Utilise `buildlist` pour construire une matrice (4\\*5) de `None` puis changer une valeur."
   ]
  },
  {
   "cell_type": "code",
   "execution_count": 70,
   "metadata": {
    "collapsed": true
   },
   "outputs": [],
   "source": [
    "M = buildlist(4, buildlist(5, None))"
   ]
  },
  {
   "cell_type": "code",
   "execution_count": 71,
   "metadata": {},
   "outputs": [
    {
     "data": {
      "text/plain": [
       "[[None, None, None, None, None],\n",
       " [None, None, None, None, None],\n",
       " [None, None, None, None, None],\n",
       " [None, None, None, None, None]]"
      ]
     },
     "execution_count": 71,
     "metadata": {},
     "output_type": "execute_result"
    }
   ],
   "source": [
    "M"
   ]
  },
  {
   "cell_type": "code",
   "execution_count": 72,
   "metadata": {
    "collapsed": true
   },
   "outputs": [],
   "source": [
    "M[0][0] = 5"
   ]
  },
  {
   "cell_type": "code",
   "execution_count": 73,
   "metadata": {},
   "outputs": [
    {
     "data": {
      "text/plain": [
       "[[5, None, None, None, None],\n",
       " [5, None, None, None, None],\n",
       " [5, None, None, None, None],\n",
       " [5, None, None, None, None]]"
      ]
     },
     "execution_count": 73,
     "metadata": {},
     "output_type": "execute_result"
    }
   ],
   "source": [
    "M"
   ]
  },
  {
   "cell_type": "markdown",
   "metadata": {},
   "source": [
    "Écrire la fonction <tt>buildmatrix(line, col, val = None)</tt> qui construit matrice de taille <tt>(line*col)</tt> initialisée avec des <tt>val</tt>."
   ]
  },
  {
   "cell_type": "code",
   "execution_count": 28,
   "metadata": {
    "collapsed": true
   },
   "outputs": [],
   "source": [
    "def buildmatrix(line, col, val = None):\n",
    "    return [buildlist(col, val) for i in range(line)]"
   ]
  },
  {
   "cell_type": "code",
   "execution_count": 29,
   "metadata": {},
   "outputs": [
    {
     "data": {
      "text/plain": [
       "[[3, None, None, None, None],\n",
       " [None, None, None, None, None],\n",
       " [None, None, None, None, None],\n",
       " [None, None, None, None, None]]"
      ]
     },
     "execution_count": 29,
     "metadata": {},
     "output_type": "execute_result"
    }
   ],
   "source": [
    "M = buildmatrix(4, 5)\n",
    "M[0][0] = 3\n",
    "M"
   ]
  },
  {
   "cell_type": "markdown",
   "metadata": {},
   "source": [
    "**Voyez-vous un problème?**"
   ]
  },
  {
   "cell_type": "code",
   "execution_count": 74,
   "metadata": {},
   "outputs": [
    {
     "data": {
      "text/plain": [
       "[[[1, 2], [1, 2], [1, 2], [1, 2], [1, 2]],\n",
       " [[1, 2], [1, 2], [1, 2], [1, 2], [1, 2]],\n",
       " [[1, 2], [1, 2], [1, 2], [1, 2], [1, 2]],\n",
       " [[1, 2], [1, 2], [1, 2], [1, 2], [1, 2]]]"
      ]
     },
     "execution_count": 74,
     "metadata": {},
     "output_type": "execute_result"
    }
   ],
   "source": [
    "M = buildmatrix(4, 5, [1, 2])\n",
    "M"
   ]
  },
  {
   "cell_type": "code",
   "execution_count": 75,
   "metadata": {},
   "outputs": [
    {
     "data": {
      "text/plain": [
       "[[[1, 2, 1], [1, 2, 1], [1, 2, 1], [1, 2, 1], [1, 2, 1]],\n",
       " [[1, 2, 1], [1, 2, 1], [1, 2, 1], [1, 2, 1], [1, 2, 1]],\n",
       " [[1, 2, 1], [1, 2, 1], [1, 2, 1], [1, 2, 1], [1, 2, 1]],\n",
       " [[1, 2, 1], [1, 2, 1], [1, 2, 1], [1, 2, 1], [1, 2, 1]]]"
      ]
     },
     "execution_count": 75,
     "metadata": {},
     "output_type": "execute_result"
    }
   ],
   "source": [
    "M[0][0].append(1)\n",
    "M"
   ]
  },
  {
   "cell_type": "code",
   "execution_count": 76,
   "metadata": {
    "collapsed": true
   },
   "outputs": [],
   "source": [
    "def buildmatrix_copy(line, col, val=None):\n",
    "    return [buildlist_copy(col, val) for i in range(line)]"
   ]
  },
  {
   "cell_type": "code",
   "execution_count": 77,
   "metadata": {},
   "outputs": [
    {
     "data": {
      "text/plain": [
       "[[[1, 2], [1, 2], [1, 2], [1, 2], [1, 2]],\n",
       " [[1, 2], [1, 2], [1, 2], [1, 2], [1, 2]],\n",
       " [[1, 2], [1, 2], [1, 2], [1, 2], [1, 2]],\n",
       " [[1, 2], [1, 2], [1, 2], [1, 2], [1, 2]]]"
      ]
     },
     "execution_count": 77,
     "metadata": {},
     "output_type": "execute_result"
    }
   ],
   "source": [
    "M = buildmatrix_copy(4, 5, [1, 2])\n",
    "M"
   ]
  },
  {
   "cell_type": "code",
   "execution_count": 78,
   "metadata": {},
   "outputs": [
    {
     "data": {
      "text/plain": [
       "[[[1, 2, 1], [1, 2], [1, 2], [1, 2], [1, 2]],\n",
       " [[1, 2], [1, 2], [1, 2], [1, 2], [1, 2]],\n",
       " [[1, 2], [1, 2], [1, 2], [1, 2], [1, 2]],\n",
       " [[1, 2], [1, 2], [1, 2], [1, 2], [1, 2]]]"
      ]
     },
     "execution_count": 78,
     "metadata": {},
     "output_type": "execute_result"
    }
   ],
   "source": [
    "M[0][0].append(1)\n",
    "M"
   ]
  },
  {
   "cell_type": "code",
   "execution_count": null,
   "metadata": {
    "collapsed": true
   },
   "outputs": [],
   "source": []
  }
 ],
 "metadata": {
  "kernelspec": {
   "display_name": "Python 3",
   "language": "python",
   "name": "python3"
  },
  "language_info": {
   "codemirror_mode": {
    "name": "ipython",
    "version": 3
   },
   "file_extension": ".py",
   "mimetype": "text/x-python",
   "name": "python",
   "nbconvert_exporter": "python",
   "pygments_lexer": "ipython3",
   "version": "3.5.2"
  }
 },
 "nbformat": 4,
 "nbformat_minor": 1
}
